{
 "cells": [
  {
   "cell_type": "code",
   "execution_count": 2,
   "source": [
    "import os\n",
    "import numpy as np\n",
    "import pandas as pd\n",
    "\n",
    "\n",
    "import matplotlib.pyplot as plt\n",
    "import seaborn as sns\n",
    "\n",
    "from scipy import sparse\n",
    "from tqdm.notebook import tqdm\n",
    "DATA_ROOT = '../data/raw/YCup2021'\n",
    "%matplotlib inline"
   ],
   "outputs": [],
   "metadata": {}
  },
  {
   "cell_type": "markdown",
   "source": [
    "# Сырые данные"
   ],
   "metadata": {}
  },
  {
   "cell_type": "markdown",
   "source": [
    "## Считываем данные из .csv"
   ],
   "metadata": {}
  },
  {
   "cell_type": "markdown",
   "source": [
    "Некоторые данные (такие как рубрики и признаки), представлены строками значений. Преобразуем их в списки чисел. "
   ],
   "metadata": {}
  },
  {
   "cell_type": "code",
   "execution_count": 3,
   "source": [
    "to_list = lambda rubrics: [int(rubric) for rubric in str(rubrics).split(' ')]\n",
    "def apply_to_columns(df, columns, func=to_list):\n",
    "    for column in columns:\n",
    "        df.loc[~df[column].isnull(), column] = df.loc[~df[column].isnull(), column].apply(func)"
   ],
   "outputs": [],
   "metadata": {}
  },
  {
   "cell_type": "markdown",
   "source": [
    "В первую очередь нам понадобятся данные по __пользователям__, __организациям__ и сами __отзывы__. "
   ],
   "metadata": {}
  },
  {
   "cell_type": "code",
   "execution_count": 4,
   "source": [
    "users = pd.read_csv(DATA_ROOT + '/users.csv')\n",
    "users.head()"
   ],
   "outputs": [
    {
     "output_type": "execute_result",
     "data": {
      "text/plain": [
       "                user_id city\n",
       "0    523295021912509756  msk\n",
       "1  11952159487361099606  msk\n",
       "2  16879036589969590999  msk\n",
       "3  12791716990148606332  msk\n",
       "4  11642393216024958726  msk"
      ],
      "text/html": [
       "<div>\n",
       "<style scoped>\n",
       "    .dataframe tbody tr th:only-of-type {\n",
       "        vertical-align: middle;\n",
       "    }\n",
       "\n",
       "    .dataframe tbody tr th {\n",
       "        vertical-align: top;\n",
       "    }\n",
       "\n",
       "    .dataframe thead th {\n",
       "        text-align: right;\n",
       "    }\n",
       "</style>\n",
       "<table border=\"1\" class=\"dataframe\">\n",
       "  <thead>\n",
       "    <tr style=\"text-align: right;\">\n",
       "      <th></th>\n",
       "      <th>user_id</th>\n",
       "      <th>city</th>\n",
       "    </tr>\n",
       "  </thead>\n",
       "  <tbody>\n",
       "    <tr>\n",
       "      <th>0</th>\n",
       "      <td>523295021912509756</td>\n",
       "      <td>msk</td>\n",
       "    </tr>\n",
       "    <tr>\n",
       "      <th>1</th>\n",
       "      <td>11952159487361099606</td>\n",
       "      <td>msk</td>\n",
       "    </tr>\n",
       "    <tr>\n",
       "      <th>2</th>\n",
       "      <td>16879036589969590999</td>\n",
       "      <td>msk</td>\n",
       "    </tr>\n",
       "    <tr>\n",
       "      <th>3</th>\n",
       "      <td>12791716990148606332</td>\n",
       "      <td>msk</td>\n",
       "    </tr>\n",
       "    <tr>\n",
       "      <th>4</th>\n",
       "      <td>11642393216024958726</td>\n",
       "      <td>msk</td>\n",
       "    </tr>\n",
       "  </tbody>\n",
       "</table>\n",
       "</div>"
      ]
     },
     "metadata": {},
     "execution_count": 4
    }
   ],
   "metadata": {}
  },
  {
   "cell_type": "code",
   "execution_count": 7,
   "source": [
    "orgs = pd.read_csv(DATA_ROOT+'/organisations.csv')\n",
    "\n",
    "# create lists\n",
    "columns = ['rubrics_id', 'features_id']\n",
    "apply_to_columns(orgs, columns)\n",
    "\n",
    "orgs.head()"
   ],
   "outputs": [
    {
     "output_type": "execute_result",
     "data": {
      "text/plain": [
       "                 org_id city  average_bill    rating      rubrics_id  \\\n",
       "0  16848414477362211020  spb        1000.0  4.479702  [30776, 31375]   \n",
       "1   1430604733320164116  spb        1000.0  4.514509  [30776, 30770]   \n",
       "2   9880309324224147401  spb        1000.0  3.884615  [30770, 30774]   \n",
       "3   5617879987171966456  spb        1000.0       NaN  [30774, 30775]   \n",
       "4   5241461680470612149  spb        1000.0  4.532468         [30776]   \n",
       "\n",
       "                                         features_id  \n",
       "0  [1018, 1509, 11177, 11617, 11629, 11704, 11867...  \n",
       "1  [246, 1018, 11617, 11629, 11704, 11867, 20422,...  \n",
       "2  [1018, 11177, 11617, 11629, 11704, 11867, 2042...  \n",
       "3  [1018, 1509, 10596, 11177, 11629, 11634, 11704...  \n",
       "4  [1018, 11177, 11617, 11629, 11704, 11867, 2042...  "
      ],
      "text/html": [
       "<div>\n",
       "<style scoped>\n",
       "    .dataframe tbody tr th:only-of-type {\n",
       "        vertical-align: middle;\n",
       "    }\n",
       "\n",
       "    .dataframe tbody tr th {\n",
       "        vertical-align: top;\n",
       "    }\n",
       "\n",
       "    .dataframe thead th {\n",
       "        text-align: right;\n",
       "    }\n",
       "</style>\n",
       "<table border=\"1\" class=\"dataframe\">\n",
       "  <thead>\n",
       "    <tr style=\"text-align: right;\">\n",
       "      <th></th>\n",
       "      <th>org_id</th>\n",
       "      <th>city</th>\n",
       "      <th>average_bill</th>\n",
       "      <th>rating</th>\n",
       "      <th>rubrics_id</th>\n",
       "      <th>features_id</th>\n",
       "    </tr>\n",
       "  </thead>\n",
       "  <tbody>\n",
       "    <tr>\n",
       "      <th>0</th>\n",
       "      <td>16848414477362211020</td>\n",
       "      <td>spb</td>\n",
       "      <td>1000.0</td>\n",
       "      <td>4.479702</td>\n",
       "      <td>[30776, 31375]</td>\n",
       "      <td>[1018, 1509, 11177, 11617, 11629, 11704, 11867...</td>\n",
       "    </tr>\n",
       "    <tr>\n",
       "      <th>1</th>\n",
       "      <td>1430604733320164116</td>\n",
       "      <td>spb</td>\n",
       "      <td>1000.0</td>\n",
       "      <td>4.514509</td>\n",
       "      <td>[30776, 30770]</td>\n",
       "      <td>[246, 1018, 11617, 11629, 11704, 11867, 20422,...</td>\n",
       "    </tr>\n",
       "    <tr>\n",
       "      <th>2</th>\n",
       "      <td>9880309324224147401</td>\n",
       "      <td>spb</td>\n",
       "      <td>1000.0</td>\n",
       "      <td>3.884615</td>\n",
       "      <td>[30770, 30774]</td>\n",
       "      <td>[1018, 11177, 11617, 11629, 11704, 11867, 2042...</td>\n",
       "    </tr>\n",
       "    <tr>\n",
       "      <th>3</th>\n",
       "      <td>5617879987171966456</td>\n",
       "      <td>spb</td>\n",
       "      <td>1000.0</td>\n",
       "      <td>NaN</td>\n",
       "      <td>[30774, 30775]</td>\n",
       "      <td>[1018, 1509, 10596, 11177, 11629, 11634, 11704...</td>\n",
       "    </tr>\n",
       "    <tr>\n",
       "      <th>4</th>\n",
       "      <td>5241461680470612149</td>\n",
       "      <td>spb</td>\n",
       "      <td>1000.0</td>\n",
       "      <td>4.532468</td>\n",
       "      <td>[30776]</td>\n",
       "      <td>[1018, 11177, 11617, 11629, 11704, 11867, 2042...</td>\n",
       "    </tr>\n",
       "  </tbody>\n",
       "</table>\n",
       "</div>"
      ]
     },
     "metadata": {},
     "execution_count": 7
    }
   ],
   "metadata": {}
  },
  {
   "cell_type": "markdown",
   "source": [
    "Чтобы не делать __join__ каждый раз, когда нам потребуется узнать, из какого города организация или пользователь, сразу добавим эту информацию в отзывы."
   ],
   "metadata": {}
  },
  {
   "cell_type": "code",
   "execution_count": 8,
   "source": [
    "reviews = pd.read_csv(DATA_ROOT+'/reviews.csv', low_memory=False)\n",
    "\n",
    "# encode users ids as numeric\n",
    "reviews = reviews.merge(users, on='user_id')\n",
    "reviews = reviews.rename({'city': 'user_city'}, axis=1)\n",
    "\n",
    "# # encode orgs ids as numeric\n",
    "reviews = reviews.merge(orgs[['org_id', 'city']], on='org_id')\n",
    "reviews = reviews.rename({'city': 'org_city'}, axis=1)\n",
    "\n",
    "# # create lists\n",
    "columns = ['aspects']\n",
    "apply_to_columns(reviews, columns)\n",
    "\n",
    "reviews.head()"
   ],
   "outputs": [
    {
     "output_type": "execute_result",
     "data": {
      "text/plain": [
       "                user_id               org_id  rating    ts aspects user_city  \\\n",
       "0  16998268288908323644  7184895086928047809     2.0   105     NaN       msk   \n",
       "1   3121447338909258868  7184895086928047809     5.0   464     NaN       msk   \n",
       "2   1970649778250883025  7184895086928047809     3.0   789     NaN       msk   \n",
       "3   7554889464530643866  7184895086928047809     4.0   936     NaN       msk   \n",
       "4  15907910894057053620  7184895086928047809     1.0  1143     NaN       msk   \n",
       "\n",
       "  org_city  \n",
       "0      msk  \n",
       "1      msk  \n",
       "2      msk  \n",
       "3      msk  \n",
       "4      msk  "
      ],
      "text/html": [
       "<div>\n",
       "<style scoped>\n",
       "    .dataframe tbody tr th:only-of-type {\n",
       "        vertical-align: middle;\n",
       "    }\n",
       "\n",
       "    .dataframe tbody tr th {\n",
       "        vertical-align: top;\n",
       "    }\n",
       "\n",
       "    .dataframe thead th {\n",
       "        text-align: right;\n",
       "    }\n",
       "</style>\n",
       "<table border=\"1\" class=\"dataframe\">\n",
       "  <thead>\n",
       "    <tr style=\"text-align: right;\">\n",
       "      <th></th>\n",
       "      <th>user_id</th>\n",
       "      <th>org_id</th>\n",
       "      <th>rating</th>\n",
       "      <th>ts</th>\n",
       "      <th>aspects</th>\n",
       "      <th>user_city</th>\n",
       "      <th>org_city</th>\n",
       "    </tr>\n",
       "  </thead>\n",
       "  <tbody>\n",
       "    <tr>\n",
       "      <th>0</th>\n",
       "      <td>16998268288908323644</td>\n",
       "      <td>7184895086928047809</td>\n",
       "      <td>2.0</td>\n",
       "      <td>105</td>\n",
       "      <td>NaN</td>\n",
       "      <td>msk</td>\n",
       "      <td>msk</td>\n",
       "    </tr>\n",
       "    <tr>\n",
       "      <th>1</th>\n",
       "      <td>3121447338909258868</td>\n",
       "      <td>7184895086928047809</td>\n",
       "      <td>5.0</td>\n",
       "      <td>464</td>\n",
       "      <td>NaN</td>\n",
       "      <td>msk</td>\n",
       "      <td>msk</td>\n",
       "    </tr>\n",
       "    <tr>\n",
       "      <th>2</th>\n",
       "      <td>1970649778250883025</td>\n",
       "      <td>7184895086928047809</td>\n",
       "      <td>3.0</td>\n",
       "      <td>789</td>\n",
       "      <td>NaN</td>\n",
       "      <td>msk</td>\n",
       "      <td>msk</td>\n",
       "    </tr>\n",
       "    <tr>\n",
       "      <th>3</th>\n",
       "      <td>7554889464530643866</td>\n",
       "      <td>7184895086928047809</td>\n",
       "      <td>4.0</td>\n",
       "      <td>936</td>\n",
       "      <td>NaN</td>\n",
       "      <td>msk</td>\n",
       "      <td>msk</td>\n",
       "    </tr>\n",
       "    <tr>\n",
       "      <th>4</th>\n",
       "      <td>15907910894057053620</td>\n",
       "      <td>7184895086928047809</td>\n",
       "      <td>1.0</td>\n",
       "      <td>1143</td>\n",
       "      <td>NaN</td>\n",
       "      <td>msk</td>\n",
       "      <td>msk</td>\n",
       "    </tr>\n",
       "  </tbody>\n",
       "</table>\n",
       "</div>"
      ]
     },
     "metadata": {},
     "execution_count": 8
    }
   ],
   "metadata": {}
  },
  {
   "cell_type": "code",
   "execution_count": null,
   "source": [],
   "outputs": [],
   "metadata": {}
  },
  {
   "cell_type": "markdown",
   "source": [
    "Отлично, теперь с отзывами будет удобно работать. \n",
    "\n",
    "Посмотрим на распределение новых отзывов по дням, чтобы понять, как лучше организовать валидацию. "
   ],
   "metadata": {}
  },
  {
   "cell_type": "code",
   "execution_count": 9,
   "source": [
    "sns.displot(data=reviews, x='ts', height=8)\n",
    "plt.title('Распределение отзывов по дням')\n",
    "plt.show()"
   ],
   "outputs": [
    {
     "output_type": "display_data",
     "data": {
      "text/plain": [
       "<Figure size 576x576 with 1 Axes>"
      ],
      "image/svg+xml": "<?xml version=\"1.0\" encoding=\"utf-8\" standalone=\"no\"?>\n<!DOCTYPE svg PUBLIC \"-//W3C//DTD SVG 1.1//EN\"\n  \"http://www.w3.org/Graphics/SVG/1.1/DTD/svg11.dtd\">\n<svg height=\"583.274375pt\" version=\"1.1\" viewBox=\"0 0 568.790625 583.274375\" width=\"568.790625pt\" xmlns=\"http://www.w3.org/2000/svg\" xmlns:xlink=\"http://www.w3.org/1999/xlink\">\n <metadata>\n  <rdf:RDF xmlns:cc=\"http://creativecommons.org/ns#\" xmlns:dc=\"http://purl.org/dc/elements/1.1/\" xmlns:rdf=\"http://www.w3.org/1999/02/22-rdf-syntax-ns#\">\n   <cc:Work>\n    <dc:type rdf:resource=\"http://purl.org/dc/dcmitype/StillImage\"/>\n    <dc:date>2021-09-21T18:14:00.806382</dc:date>\n    <dc:format>image/svg+xml</dc:format>\n    <dc:creator>\n     <cc:Agent>\n      <dc:title>Matplotlib v3.4.3, https://matplotlib.org/</dc:title>\n     </cc:Agent>\n    </dc:creator>\n   </cc:Work>\n  </rdf:RDF>\n </metadata>\n <defs>\n  <style type=\"text/css\">*{stroke-linecap:butt;stroke-linejoin:round;}</style>\n </defs>\n <g id=\"figure_1\">\n  <g id=\"patch_1\">\n   <path d=\"M 0 583.274375 \nL 568.790625 583.274375 \nL 568.790625 0 \nL 0 0 \nz\n\" style=\"fill:none;\"/>\n  </g>\n  <g id=\"axes_1\">\n   <g id=\"patch_2\">\n    <path d=\"M 59.690625 545.718125 \nL 561.590625 545.718125 \nL 561.590625 22.318125 \nL 59.690625 22.318125 \nz\n\" style=\"fill:#ffffff;\"/>\n   </g>\n   <g id=\"patch_3\">\n    <path clip-path=\"url(#p859e5e8bdf)\" d=\"M 82.504261 545.718125 \nL 84.740892 545.718125 \nL 84.740892 513.28281 \nL 82.504261 513.28281 \nz\n\" style=\"fill:#1f77b4;fill-opacity:0.75;stroke:#000000;stroke-linejoin:miter;stroke-width:0.233328;\"/>\n   </g>\n   <g id=\"patch_4\">\n    <path clip-path=\"url(#p859e5e8bdf)\" d=\"M 84.740892 545.718125 \nL 86.977523 545.718125 \nL 86.977523 511.201812 \nL 84.740892 511.201812 \nz\n\" style=\"fill:#1f77b4;fill-opacity:0.75;stroke:#000000;stroke-linejoin:miter;stroke-width:0.233328;\"/>\n   </g>\n   <g id=\"patch_5\">\n    <path clip-path=\"url(#p859e5e8bdf)\" d=\"M 86.977523 545.718125 \nL 89.214154 545.718125 \nL 89.214154 509.005203 \nL 86.977523 509.005203 \nz\n\" style=\"fill:#1f77b4;fill-opacity:0.75;stroke:#000000;stroke-linejoin:miter;stroke-width:0.233328;\"/>\n   </g>\n   <g id=\"patch_6\">\n    <path clip-path=\"url(#p859e5e8bdf)\" d=\"M 89.214154 545.718125 \nL 91.450785 545.718125 \nL 91.450785 522.454618 \nL 89.214154 522.454618 \nz\n\" style=\"fill:#1f77b4;fill-opacity:0.75;stroke:#000000;stroke-linejoin:miter;stroke-width:0.233328;\"/>\n   </g>\n   <g id=\"patch_7\">\n    <path clip-path=\"url(#p859e5e8bdf)\" d=\"M 91.450785 545.718125 \nL 93.687416 545.718125 \nL 93.687416 513.128662 \nL 91.450785 513.128662 \nz\n\" style=\"fill:#1f77b4;fill-opacity:0.75;stroke:#000000;stroke-linejoin:miter;stroke-width:0.233328;\"/>\n   </g>\n   <g id=\"patch_8\">\n    <path clip-path=\"url(#p859e5e8bdf)\" d=\"M 93.687416 545.718125 \nL 95.924047 545.718125 \nL 95.924047 508.542759 \nL 93.687416 508.542759 \nz\n\" style=\"fill:#1f77b4;fill-opacity:0.75;stroke:#000000;stroke-linejoin:miter;stroke-width:0.233328;\"/>\n   </g>\n   <g id=\"patch_9\">\n    <path clip-path=\"url(#p859e5e8bdf)\" d=\"M 95.924047 545.718125 \nL 98.160678 545.718125 \nL 98.160678 494.913504 \nL 95.924047 494.913504 \nz\n\" style=\"fill:#1f77b4;fill-opacity:0.75;stroke:#000000;stroke-linejoin:miter;stroke-width:0.233328;\"/>\n   </g>\n   <g id=\"patch_10\">\n    <path clip-path=\"url(#p859e5e8bdf)\" d=\"M 98.160678 545.718125 \nL 100.397309 545.718125 \nL 100.397309 503.147578 \nL 98.160678 503.147578 \nz\n\" style=\"fill:#1f77b4;fill-opacity:0.75;stroke:#000000;stroke-linejoin:miter;stroke-width:0.233328;\"/>\n   </g>\n   <g id=\"patch_11\">\n    <path clip-path=\"url(#p859e5e8bdf)\" d=\"M 100.397309 545.718125 \nL 102.633941 545.718125 \nL 102.633941 502.068541 \nL 100.397309 502.068541 \nz\n\" style=\"fill:#1f77b4;fill-opacity:0.75;stroke:#000000;stroke-linejoin:miter;stroke-width:0.233328;\"/>\n   </g>\n   <g id=\"patch_12\">\n    <path clip-path=\"url(#p859e5e8bdf)\" d=\"M 102.633941 545.718125 \nL 104.870572 545.718125 \nL 104.870572 506.256229 \nL 102.633941 506.256229 \nz\n\" style=\"fill:#1f77b4;fill-opacity:0.75;stroke:#000000;stroke-linejoin:miter;stroke-width:0.233328;\"/>\n   </g>\n   <g id=\"patch_13\">\n    <path clip-path=\"url(#p859e5e8bdf)\" d=\"M 104.870572 545.718125 \nL 107.107203 545.718125 \nL 107.107203 499.409488 \nL 104.870572 499.409488 \nz\n\" style=\"fill:#1f77b4;fill-opacity:0.75;stroke:#000000;stroke-linejoin:miter;stroke-width:0.233328;\"/>\n   </g>\n   <g id=\"patch_14\">\n    <path clip-path=\"url(#p859e5e8bdf)\" d=\"M 107.107203 545.718125 \nL 109.343834 545.718125 \nL 109.343834 497.007348 \nL 107.107203 497.007348 \nz\n\" style=\"fill:#1f77b4;fill-opacity:0.75;stroke:#000000;stroke-linejoin:miter;stroke-width:0.233328;\"/>\n   </g>\n   <g id=\"patch_15\">\n    <path clip-path=\"url(#p859e5e8bdf)\" d=\"M 109.343834 545.718125 \nL 111.580465 545.718125 \nL 111.580465 479.447318 \nL 109.343834 479.447318 \nz\n\" style=\"fill:#1f77b4;fill-opacity:0.75;stroke:#000000;stroke-linejoin:miter;stroke-width:0.233328;\"/>\n   </g>\n   <g id=\"patch_16\">\n    <path clip-path=\"url(#p859e5e8bdf)\" d=\"M 111.580465 545.718125 \nL 113.817096 545.718125 \nL 113.817096 443.029846 \nL 111.580465 443.029846 \nz\n\" style=\"fill:#1f77b4;fill-opacity:0.75;stroke:#000000;stroke-linejoin:miter;stroke-width:0.233328;\"/>\n   </g>\n   <g id=\"patch_17\">\n    <path clip-path=\"url(#p859e5e8bdf)\" d=\"M 113.817096 545.718125 \nL 116.053727 545.718125 \nL 116.053727 458.251964 \nL 113.817096 458.251964 \nz\n\" style=\"fill:#1f77b4;fill-opacity:0.75;stroke:#000000;stroke-linejoin:miter;stroke-width:0.233328;\"/>\n   </g>\n   <g id=\"patch_18\">\n    <path clip-path=\"url(#p859e5e8bdf)\" d=\"M 116.053727 545.718125 \nL 118.290358 545.718125 \nL 118.290358 478.188442 \nL 116.053727 478.188442 \nz\n\" style=\"fill:#1f77b4;fill-opacity:0.75;stroke:#000000;stroke-linejoin:miter;stroke-width:0.233328;\"/>\n   </g>\n   <g id=\"patch_19\">\n    <path clip-path=\"url(#p859e5e8bdf)\" d=\"M 118.290358 545.718125 \nL 120.526989 545.718125 \nL 120.526989 476.50566 \nL 118.290358 476.50566 \nz\n\" style=\"fill:#1f77b4;fill-opacity:0.75;stroke:#000000;stroke-linejoin:miter;stroke-width:0.233328;\"/>\n   </g>\n   <g id=\"patch_20\">\n    <path clip-path=\"url(#p859e5e8bdf)\" d=\"M 120.526989 545.718125 \nL 122.76362 545.718125 \nL 122.76362 474.899951 \nL 120.526989 474.899951 \nz\n\" style=\"fill:#1f77b4;fill-opacity:0.75;stroke:#000000;stroke-linejoin:miter;stroke-width:0.233328;\"/>\n   </g>\n   <g id=\"patch_21\">\n    <path clip-path=\"url(#p859e5e8bdf)\" d=\"M 122.76362 545.718125 \nL 125.000251 545.718125 \nL 125.000251 470.249819 \nL 122.76362 470.249819 \nz\n\" style=\"fill:#1f77b4;fill-opacity:0.75;stroke:#000000;stroke-linejoin:miter;stroke-width:0.233328;\"/>\n   </g>\n   <g id=\"patch_22\">\n    <path clip-path=\"url(#p859e5e8bdf)\" d=\"M 125.000251 545.718125 \nL 127.236882 545.718125 \nL 127.236882 472.908872 \nL 125.000251 472.908872 \nz\n\" style=\"fill:#1f77b4;fill-opacity:0.75;stroke:#000000;stroke-linejoin:miter;stroke-width:0.233328;\"/>\n   </g>\n   <g id=\"patch_23\">\n    <path clip-path=\"url(#p859e5e8bdf)\" d=\"M 127.236882 545.718125 \nL 129.473513 545.718125 \nL 129.473513 467.19255 \nL 127.236882 467.19255 \nz\n\" style=\"fill:#1f77b4;fill-opacity:0.75;stroke:#000000;stroke-linejoin:miter;stroke-width:0.233328;\"/>\n   </g>\n   <g id=\"patch_24\">\n    <path clip-path=\"url(#p859e5e8bdf)\" d=\"M 129.473513 545.718125 \nL 131.710144 545.718125 \nL 131.710144 479.871225 \nL 129.473513 479.871225 \nz\n\" style=\"fill:#1f77b4;fill-opacity:0.75;stroke:#000000;stroke-linejoin:miter;stroke-width:0.233328;\"/>\n   </g>\n   <g id=\"patch_25\">\n    <path clip-path=\"url(#p859e5e8bdf)\" d=\"M 131.710144 545.718125 \nL 133.946775 545.718125 \nL 133.946775 477.481931 \nL 131.710144 477.481931 \nz\n\" style=\"fill:#1f77b4;fill-opacity:0.75;stroke:#000000;stroke-linejoin:miter;stroke-width:0.233328;\"/>\n   </g>\n   <g id=\"patch_26\">\n    <path clip-path=\"url(#p859e5e8bdf)\" d=\"M 133.946775 545.718125 \nL 136.183406 545.718125 \nL 136.183406 483.442321 \nL 133.946775 483.442321 \nz\n\" style=\"fill:#1f77b4;fill-opacity:0.75;stroke:#000000;stroke-linejoin:miter;stroke-width:0.233328;\"/>\n   </g>\n   <g id=\"patch_27\">\n    <path clip-path=\"url(#p859e5e8bdf)\" d=\"M 136.183406 545.718125 \nL 138.420037 545.718125 \nL 138.420037 471.585768 \nL 136.183406 471.585768 \nz\n\" style=\"fill:#1f77b4;fill-opacity:0.75;stroke:#000000;stroke-linejoin:miter;stroke-width:0.233328;\"/>\n   </g>\n   <g id=\"patch_28\">\n    <path clip-path=\"url(#p859e5e8bdf)\" d=\"M 138.420037 545.718125 \nL 140.656668 545.718125 \nL 140.656668 489.299946 \nL 138.420037 489.299946 \nz\n\" style=\"fill:#1f77b4;fill-opacity:0.75;stroke:#000000;stroke-linejoin:miter;stroke-width:0.233328;\"/>\n   </g>\n   <g id=\"patch_29\">\n    <path clip-path=\"url(#p859e5e8bdf)\" d=\"M 140.656668 545.718125 \nL 142.893299 545.718125 \nL 142.893299 480.385052 \nL 140.656668 480.385052 \nz\n\" style=\"fill:#1f77b4;fill-opacity:0.75;stroke:#000000;stroke-linejoin:miter;stroke-width:0.233328;\"/>\n   </g>\n   <g id=\"patch_30\">\n    <path clip-path=\"url(#p859e5e8bdf)\" d=\"M 142.893299 545.718125 \nL 145.12993 545.718125 \nL 145.12993 477.058024 \nL 142.893299 477.058024 \nz\n\" style=\"fill:#1f77b4;fill-opacity:0.75;stroke:#000000;stroke-linejoin:miter;stroke-width:0.233328;\"/>\n   </g>\n   <g id=\"patch_31\">\n    <path clip-path=\"url(#p859e5e8bdf)\" d=\"M 145.12993 545.718125 \nL 147.366561 545.718125 \nL 147.366561 474.989871 \nL 145.12993 474.989871 \nz\n\" style=\"fill:#1f77b4;fill-opacity:0.75;stroke:#000000;stroke-linejoin:miter;stroke-width:0.233328;\"/>\n   </g>\n   <g id=\"patch_32\">\n    <path clip-path=\"url(#p859e5e8bdf)\" d=\"M 147.366561 545.718125 \nL 149.603192 545.718125 \nL 149.603192 465.94652 \nL 147.366561 465.94652 \nz\n\" style=\"fill:#1f77b4;fill-opacity:0.75;stroke:#000000;stroke-linejoin:miter;stroke-width:0.233328;\"/>\n   </g>\n   <g id=\"patch_33\">\n    <path clip-path=\"url(#p859e5e8bdf)\" d=\"M 149.603192 545.718125 \nL 151.839823 545.718125 \nL 151.839823 477.302091 \nL 149.603192 477.302091 \nz\n\" style=\"fill:#1f77b4;fill-opacity:0.75;stroke:#000000;stroke-linejoin:miter;stroke-width:0.233328;\"/>\n   </g>\n   <g id=\"patch_34\">\n    <path clip-path=\"url(#p859e5e8bdf)\" d=\"M 151.839823 545.718125 \nL 154.076454 545.718125 \nL 154.076454 462.079973 \nL 151.839823 462.079973 \nz\n\" style=\"fill:#1f77b4;fill-opacity:0.75;stroke:#000000;stroke-linejoin:miter;stroke-width:0.233328;\"/>\n   </g>\n   <g id=\"patch_35\">\n    <path clip-path=\"url(#p859e5e8bdf)\" d=\"M 154.076454 545.718125 \nL 156.313085 545.718125 \nL 156.313085 446.472485 \nL 154.076454 446.472485 \nz\n\" style=\"fill:#1f77b4;fill-opacity:0.75;stroke:#000000;stroke-linejoin:miter;stroke-width:0.233328;\"/>\n   </g>\n   <g id=\"patch_36\">\n    <path clip-path=\"url(#p859e5e8bdf)\" d=\"M 156.313085 545.718125 \nL 158.549716 545.718125 \nL 158.549716 395.719247 \nL 156.313085 395.719247 \nz\n\" style=\"fill:#1f77b4;fill-opacity:0.75;stroke:#000000;stroke-linejoin:miter;stroke-width:0.233328;\"/>\n   </g>\n   <g id=\"patch_37\">\n    <path clip-path=\"url(#p859e5e8bdf)\" d=\"M 158.549716 545.718125 \nL 160.786347 545.718125 \nL 160.786347 416.965983 \nL 158.549716 416.965983 \nz\n\" style=\"fill:#1f77b4;fill-opacity:0.75;stroke:#000000;stroke-linejoin:miter;stroke-width:0.233328;\"/>\n   </g>\n   <g id=\"patch_38\">\n    <path clip-path=\"url(#p859e5e8bdf)\" d=\"M 160.786347 545.718125 \nL 163.022978 545.718125 \nL 163.022978 424.77615 \nL 160.786347 424.77615 \nz\n\" style=\"fill:#1f77b4;fill-opacity:0.75;stroke:#000000;stroke-linejoin:miter;stroke-width:0.233328;\"/>\n   </g>\n   <g id=\"patch_39\">\n    <path clip-path=\"url(#p859e5e8bdf)\" d=\"M 163.022978 545.718125 \nL 165.259609 545.718125 \nL 165.259609 437.197912 \nL 163.022978 437.197912 \nz\n\" style=\"fill:#1f77b4;fill-opacity:0.75;stroke:#000000;stroke-linejoin:miter;stroke-width:0.233328;\"/>\n   </g>\n   <g id=\"patch_40\">\n    <path clip-path=\"url(#p859e5e8bdf)\" d=\"M 165.259609 545.718125 \nL 167.49624 545.718125 \nL 167.49624 454.372572 \nL 165.259609 454.372572 \nz\n\" style=\"fill:#1f77b4;fill-opacity:0.75;stroke:#000000;stroke-linejoin:miter;stroke-width:0.233328;\"/>\n   </g>\n   <g id=\"patch_41\">\n    <path clip-path=\"url(#p859e5e8bdf)\" d=\"M 167.49624 545.718125 \nL 169.732871 545.718125 \nL 169.732871 430.428245 \nL 167.49624 430.428245 \nz\n\" style=\"fill:#1f77b4;fill-opacity:0.75;stroke:#000000;stroke-linejoin:miter;stroke-width:0.233328;\"/>\n   </g>\n   <g id=\"patch_42\">\n    <path clip-path=\"url(#p859e5e8bdf)\" d=\"M 169.732871 545.718125 \nL 171.969502 545.718125 \nL 171.969502 442.066421 \nL 169.732871 442.066421 \nz\n\" style=\"fill:#1f77b4;fill-opacity:0.75;stroke:#000000;stroke-linejoin:miter;stroke-width:0.233328;\"/>\n   </g>\n   <g id=\"patch_43\">\n    <path clip-path=\"url(#p859e5e8bdf)\" d=\"M 171.969502 545.718125 \nL 174.206133 545.718125 \nL 174.206133 391.505867 \nL 171.969502 391.505867 \nz\n\" style=\"fill:#1f77b4;fill-opacity:0.75;stroke:#000000;stroke-linejoin:miter;stroke-width:0.233328;\"/>\n   </g>\n   <g id=\"patch_44\">\n    <path clip-path=\"url(#p859e5e8bdf)\" d=\"M 174.206133 545.718125 \nL 176.442764 545.718125 \nL 176.442764 415.360275 \nL 174.206133 415.360275 \nz\n\" style=\"fill:#1f77b4;fill-opacity:0.75;stroke:#000000;stroke-linejoin:miter;stroke-width:0.233328;\"/>\n   </g>\n   <g id=\"patch_45\">\n    <path clip-path=\"url(#p859e5e8bdf)\" d=\"M 176.442764 545.718125 \nL 178.679395 545.718125 \nL 178.679395 418.751531 \nL 176.442764 418.751531 \nz\n\" style=\"fill:#1f77b4;fill-opacity:0.75;stroke:#000000;stroke-linejoin:miter;stroke-width:0.233328;\"/>\n   </g>\n   <g id=\"patch_46\">\n    <path clip-path=\"url(#p859e5e8bdf)\" d=\"M 178.679395 545.718125 \nL 180.916026 545.718125 \nL 180.916026 430.993454 \nL 178.679395 430.993454 \nz\n\" style=\"fill:#1f77b4;fill-opacity:0.75;stroke:#000000;stroke-linejoin:miter;stroke-width:0.233328;\"/>\n   </g>\n   <g id=\"patch_47\">\n    <path clip-path=\"url(#p859e5e8bdf)\" d=\"M 180.916026 545.718125 \nL 183.152657 545.718125 \nL 183.152657 400.934588 \nL 180.916026 400.934588 \nz\n\" style=\"fill:#1f77b4;fill-opacity:0.75;stroke:#000000;stroke-linejoin:miter;stroke-width:0.233328;\"/>\n   </g>\n   <g id=\"patch_48\">\n    <path clip-path=\"url(#p859e5e8bdf)\" d=\"M 183.152657 545.718125 \nL 185.389288 545.718125 \nL 185.389288 386.560285 \nL 183.152657 386.560285 \nz\n\" style=\"fill:#1f77b4;fill-opacity:0.75;stroke:#000000;stroke-linejoin:miter;stroke-width:0.233328;\"/>\n   </g>\n   <g id=\"patch_49\">\n    <path clip-path=\"url(#p859e5e8bdf)\" d=\"M 185.389288 545.718125 \nL 187.625919 545.718125 \nL 187.625919 391.749935 \nL 185.389288 391.749935 \nz\n\" style=\"fill:#1f77b4;fill-opacity:0.75;stroke:#000000;stroke-linejoin:miter;stroke-width:0.233328;\"/>\n   </g>\n   <g id=\"patch_50\">\n    <path clip-path=\"url(#p859e5e8bdf)\" d=\"M 187.625919 545.718125 \nL 189.86255 545.718125 \nL 189.86255 374.973491 \nL 187.625919 374.973491 \nz\n\" style=\"fill:#1f77b4;fill-opacity:0.75;stroke:#000000;stroke-linejoin:miter;stroke-width:0.233328;\"/>\n   </g>\n   <g id=\"patch_51\">\n    <path clip-path=\"url(#p859e5e8bdf)\" d=\"M 189.86255 545.718125 \nL 192.099181 545.718125 \nL 192.099181 369.693921 \nL 189.86255 369.693921 \nz\n\" style=\"fill:#1f77b4;fill-opacity:0.75;stroke:#000000;stroke-linejoin:miter;stroke-width:0.233328;\"/>\n   </g>\n   <g id=\"patch_52\">\n    <path clip-path=\"url(#p859e5e8bdf)\" d=\"M 192.099181 545.718125 \nL 194.335812 545.718125 \nL 194.335812 366.649497 \nL 192.099181 366.649497 \nz\n\" style=\"fill:#1f77b4;fill-opacity:0.75;stroke:#000000;stroke-linejoin:miter;stroke-width:0.233328;\"/>\n   </g>\n   <g id=\"patch_53\">\n    <path clip-path=\"url(#p859e5e8bdf)\" d=\"M 194.335812 545.718125 \nL 196.572443 545.718125 \nL 196.572443 370.91426 \nL 194.335812 370.91426 \nz\n\" style=\"fill:#1f77b4;fill-opacity:0.75;stroke:#000000;stroke-linejoin:miter;stroke-width:0.233328;\"/>\n   </g>\n   <g id=\"patch_54\">\n    <path clip-path=\"url(#p859e5e8bdf)\" d=\"M 196.572443 545.718125 \nL 198.809074 545.718125 \nL 198.809074 327.984033 \nL 196.572443 327.984033 \nz\n\" style=\"fill:#1f77b4;fill-opacity:0.75;stroke:#000000;stroke-linejoin:miter;stroke-width:0.233328;\"/>\n   </g>\n   <g id=\"patch_55\">\n    <path clip-path=\"url(#p859e5e8bdf)\" d=\"M 198.809074 545.718125 \nL 201.045705 545.718125 \nL 201.045705 357.824523 \nL 198.809074 357.824523 \nz\n\" style=\"fill:#1f77b4;fill-opacity:0.75;stroke:#000000;stroke-linejoin:miter;stroke-width:0.233328;\"/>\n   </g>\n   <g id=\"patch_56\">\n    <path clip-path=\"url(#p859e5e8bdf)\" d=\"M 201.045705 545.718125 \nL 203.282336 545.718125 \nL 203.282336 353.919439 \nL 201.045705 353.919439 \nz\n\" style=\"fill:#1f77b4;fill-opacity:0.75;stroke:#000000;stroke-linejoin:miter;stroke-width:0.233328;\"/>\n   </g>\n   <g id=\"patch_57\">\n    <path clip-path=\"url(#p859e5e8bdf)\" d=\"M 203.282336 545.718125 \nL 205.518967 545.718125 \nL 205.518967 378.480359 \nL 203.282336 378.480359 \nz\n\" style=\"fill:#1f77b4;fill-opacity:0.75;stroke:#000000;stroke-linejoin:miter;stroke-width:0.233328;\"/>\n   </g>\n   <g id=\"patch_58\">\n    <path clip-path=\"url(#p859e5e8bdf)\" d=\"M 205.518967 545.718125 \nL 207.755598 545.718125 \nL 207.755598 331.580821 \nL 205.518967 331.580821 \nz\n\" style=\"fill:#1f77b4;fill-opacity:0.75;stroke:#000000;stroke-linejoin:miter;stroke-width:0.233328;\"/>\n   </g>\n   <g id=\"patch_59\">\n    <path clip-path=\"url(#p859e5e8bdf)\" d=\"M 207.755598 545.718125 \nL 209.992229 545.718125 \nL 209.992229 311.747108 \nL 207.755598 311.747108 \nz\n\" style=\"fill:#1f77b4;fill-opacity:0.75;stroke:#000000;stroke-linejoin:miter;stroke-width:0.233328;\"/>\n   </g>\n   <g id=\"patch_60\">\n    <path clip-path=\"url(#p859e5e8bdf)\" d=\"M 209.992229 545.718125 \nL 212.22886 545.718125 \nL 212.22886 329.230063 \nL 209.992229 329.230063 \nz\n\" style=\"fill:#1f77b4;fill-opacity:0.75;stroke:#000000;stroke-linejoin:miter;stroke-width:0.233328;\"/>\n   </g>\n   <g id=\"patch_61\">\n    <path clip-path=\"url(#p859e5e8bdf)\" d=\"M 212.22886 545.718125 \nL 214.465491 545.718125 \nL 214.465491 333.700356 \nL 212.22886 333.700356 \nz\n\" style=\"fill:#1f77b4;fill-opacity:0.75;stroke:#000000;stroke-linejoin:miter;stroke-width:0.233328;\"/>\n   </g>\n   <g id=\"patch_62\">\n    <path clip-path=\"url(#p859e5e8bdf)\" d=\"M 214.465491 545.718125 \nL 216.702122 545.718125 \nL 216.702122 352.121046 \nL 214.465491 352.121046 \nz\n\" style=\"fill:#1f77b4;fill-opacity:0.75;stroke:#000000;stroke-linejoin:miter;stroke-width:0.233328;\"/>\n   </g>\n   <g id=\"patch_63\">\n    <path clip-path=\"url(#p859e5e8bdf)\" d=\"M 216.702122 545.718125 \nL 218.938753 545.718125 \nL 218.938753 358.119973 \nL 216.702122 358.119973 \nz\n\" style=\"fill:#1f77b4;fill-opacity:0.75;stroke:#000000;stroke-linejoin:miter;stroke-width:0.233328;\"/>\n   </g>\n   <g id=\"patch_64\">\n    <path clip-path=\"url(#p859e5e8bdf)\" d=\"M 218.938753 545.718125 \nL 221.175384 545.718125 \nL 221.175384 329.859501 \nL 218.938753 329.859501 \nz\n\" style=\"fill:#1f77b4;fill-opacity:0.75;stroke:#000000;stroke-linejoin:miter;stroke-width:0.233328;\"/>\n   </g>\n   <g id=\"patch_65\">\n    <path clip-path=\"url(#p859e5e8bdf)\" d=\"M 221.175384 545.718125 \nL 223.412015 545.718125 \nL 223.412015 306.69876 \nL 221.175384 306.69876 \nz\n\" style=\"fill:#1f77b4;fill-opacity:0.75;stroke:#000000;stroke-linejoin:miter;stroke-width:0.233328;\"/>\n   </g>\n   <g id=\"patch_66\">\n    <path clip-path=\"url(#p859e5e8bdf)\" d=\"M 223.412015 545.718125 \nL 225.648646 545.718125 \nL 225.648646 353.328538 \nL 223.412015 353.328538 \nz\n\" style=\"fill:#1f77b4;fill-opacity:0.75;stroke:#000000;stroke-linejoin:miter;stroke-width:0.233328;\"/>\n   </g>\n   <g id=\"patch_67\">\n    <path clip-path=\"url(#p859e5e8bdf)\" d=\"M 225.648646 545.718125 \nL 227.885277 545.718125 \nL 227.885277 336.924619 \nL 225.648646 336.924619 \nz\n\" style=\"fill:#1f77b4;fill-opacity:0.75;stroke:#000000;stroke-linejoin:miter;stroke-width:0.233328;\"/>\n   </g>\n   <g id=\"patch_68\">\n    <path clip-path=\"url(#p859e5e8bdf)\" d=\"M 227.885277 545.718125 \nL 230.121908 545.718125 \nL 230.121908 347.111235 \nL 227.885277 347.111235 \nz\n\" style=\"fill:#1f77b4;fill-opacity:0.75;stroke:#000000;stroke-linejoin:miter;stroke-width:0.233328;\"/>\n   </g>\n   <g id=\"patch_69\">\n    <path clip-path=\"url(#p859e5e8bdf)\" d=\"M 230.121908 545.718125 \nL 232.358539 545.718125 \nL 232.358539 392.250916 \nL 230.121908 392.250916 \nz\n\" style=\"fill:#1f77b4;fill-opacity:0.75;stroke:#000000;stroke-linejoin:miter;stroke-width:0.233328;\"/>\n   </g>\n   <g id=\"patch_70\">\n    <path clip-path=\"url(#p859e5e8bdf)\" d=\"M 232.358539 545.718125 \nL 234.59517 545.718125 \nL 234.59517 366.906411 \nL 232.358539 366.906411 \nz\n\" style=\"fill:#1f77b4;fill-opacity:0.75;stroke:#000000;stroke-linejoin:miter;stroke-width:0.233328;\"/>\n   </g>\n   <g id=\"patch_71\">\n    <path clip-path=\"url(#p859e5e8bdf)\" d=\"M 234.59517 545.718125 \nL 236.831801 545.718125 \nL 236.831801 342.61525 \nL 234.59517 342.61525 \nz\n\" style=\"fill:#1f77b4;fill-opacity:0.75;stroke:#000000;stroke-linejoin:miter;stroke-width:0.233328;\"/>\n   </g>\n   <g id=\"patch_72\">\n    <path clip-path=\"url(#p859e5e8bdf)\" d=\"M 236.831801 545.718125 \nL 239.068432 545.718125 \nL 239.068432 361.459847 \nL 236.831801 361.459847 \nz\n\" style=\"fill:#1f77b4;fill-opacity:0.75;stroke:#000000;stroke-linejoin:miter;stroke-width:0.233328;\"/>\n   </g>\n   <g id=\"patch_73\">\n    <path clip-path=\"url(#p859e5e8bdf)\" d=\"M 239.068432 545.718125 \nL 241.305064 545.718125 \nL 241.305064 259.208321 \nL 239.068432 259.208321 \nz\n\" style=\"fill:#1f77b4;fill-opacity:0.75;stroke:#000000;stroke-linejoin:miter;stroke-width:0.233328;\"/>\n   </g>\n   <g id=\"patch_74\">\n    <path clip-path=\"url(#p859e5e8bdf)\" d=\"M 241.305064 545.718125 \nL 243.541695 545.718125 \nL 243.541695 279.64578 \nL 241.305064 279.64578 \nz\n\" style=\"fill:#1f77b4;fill-opacity:0.75;stroke:#000000;stroke-linejoin:miter;stroke-width:0.233328;\"/>\n   </g>\n   <g id=\"patch_75\">\n    <path clip-path=\"url(#p859e5e8bdf)\" d=\"M 243.541695 545.718125 \nL 245.778326 545.718125 \nL 245.778326 231.217608 \nL 243.541695 231.217608 \nz\n\" style=\"fill:#1f77b4;fill-opacity:0.75;stroke:#000000;stroke-linejoin:miter;stroke-width:0.233328;\"/>\n   </g>\n   <g id=\"patch_76\">\n    <path clip-path=\"url(#p859e5e8bdf)\" d=\"M 245.778326 545.718125 \nL 248.014957 545.718125 \nL 248.014957 214.312707 \nL 245.778326 214.312707 \nz\n\" style=\"fill:#1f77b4;fill-opacity:0.75;stroke:#000000;stroke-linejoin:miter;stroke-width:0.233328;\"/>\n   </g>\n   <g id=\"patch_77\">\n    <path clip-path=\"url(#p859e5e8bdf)\" d=\"M 248.014957 545.718125 \nL 250.251588 545.718125 \nL 250.251588 223.857039 \nL 248.014957 223.857039 \nz\n\" style=\"fill:#1f77b4;fill-opacity:0.75;stroke:#000000;stroke-linejoin:miter;stroke-width:0.233328;\"/>\n   </g>\n   <g id=\"patch_78\">\n    <path clip-path=\"url(#p859e5e8bdf)\" d=\"M 250.251588 545.718125 \nL 252.488219 545.718125 \nL 252.488219 244.474338 \nL 250.251588 244.474338 \nz\n\" style=\"fill:#1f77b4;fill-opacity:0.75;stroke:#000000;stroke-linejoin:miter;stroke-width:0.233328;\"/>\n   </g>\n   <g id=\"patch_79\">\n    <path clip-path=\"url(#p859e5e8bdf)\" d=\"M 252.488219 545.718125 \nL 254.72485 545.718125 \nL 254.72485 316.358703 \nL 252.488219 316.358703 \nz\n\" style=\"fill:#1f77b4;fill-opacity:0.75;stroke:#000000;stroke-linejoin:miter;stroke-width:0.233328;\"/>\n   </g>\n   <g id=\"patch_80\">\n    <path clip-path=\"url(#p859e5e8bdf)\" d=\"M 254.72485 545.718125 \nL 256.961481 545.718125 \nL 256.961481 232.60494 \nL 254.72485 232.60494 \nz\n\" style=\"fill:#1f77b4;fill-opacity:0.75;stroke:#000000;stroke-linejoin:miter;stroke-width:0.233328;\"/>\n   </g>\n   <g id=\"patch_81\">\n    <path clip-path=\"url(#p859e5e8bdf)\" d=\"M 256.961481 545.718125 \nL 259.198112 545.718125 \nL 259.198112 263.98691 \nL 256.961481 263.98691 \nz\n\" style=\"fill:#1f77b4;fill-opacity:0.75;stroke:#000000;stroke-linejoin:miter;stroke-width:0.233328;\"/>\n   </g>\n   <g id=\"patch_82\">\n    <path clip-path=\"url(#p859e5e8bdf)\" d=\"M 259.198112 545.718125 \nL 261.434743 545.718125 \nL 261.434743 279.877002 \nL 259.198112 279.877002 \nz\n\" style=\"fill:#1f77b4;fill-opacity:0.75;stroke:#000000;stroke-linejoin:miter;stroke-width:0.233328;\"/>\n   </g>\n   <g id=\"patch_83\">\n    <path clip-path=\"url(#p859e5e8bdf)\" d=\"M 261.434743 545.718125 \nL 263.671374 545.718125 \nL 263.671374 300.725523 \nL 261.434743 300.725523 \nz\n\" style=\"fill:#1f77b4;fill-opacity:0.75;stroke:#000000;stroke-linejoin:miter;stroke-width:0.233328;\"/>\n   </g>\n   <g id=\"patch_84\">\n    <path clip-path=\"url(#p859e5e8bdf)\" d=\"M 263.671374 545.718125 \nL 265.908005 545.718125 \nL 265.908005 288.200996 \nL 263.671374 288.200996 \nz\n\" style=\"fill:#1f77b4;fill-opacity:0.75;stroke:#000000;stroke-linejoin:miter;stroke-width:0.233328;\"/>\n   </g>\n   <g id=\"patch_85\">\n    <path clip-path=\"url(#p859e5e8bdf)\" d=\"M 265.908005 545.718125 \nL 268.144636 545.718125 \nL 268.144636 301.303579 \nL 265.908005 301.303579 \nz\n\" style=\"fill:#1f77b4;fill-opacity:0.75;stroke:#000000;stroke-linejoin:miter;stroke-width:0.233328;\"/>\n   </g>\n   <g id=\"patch_86\">\n    <path clip-path=\"url(#p859e5e8bdf)\" d=\"M 268.144636 545.718125 \nL 270.381267 545.718125 \nL 270.381267 303.692873 \nL 268.144636 303.692873 \nz\n\" style=\"fill:#1f77b4;fill-opacity:0.75;stroke:#000000;stroke-linejoin:miter;stroke-width:0.233328;\"/>\n   </g>\n   <g id=\"patch_87\">\n    <path clip-path=\"url(#p859e5e8bdf)\" d=\"M 270.381267 545.718125 \nL 272.617898 545.718125 \nL 272.617898 298.978512 \nL 270.381267 298.978512 \nz\n\" style=\"fill:#1f77b4;fill-opacity:0.75;stroke:#000000;stroke-linejoin:miter;stroke-width:0.233328;\"/>\n   </g>\n   <g id=\"patch_88\">\n    <path clip-path=\"url(#p859e5e8bdf)\" d=\"M 272.617898 545.718125 \nL 274.854529 545.718125 \nL 274.854529 273.492705 \nL 272.617898 273.492705 \nz\n\" style=\"fill:#1f77b4;fill-opacity:0.75;stroke:#000000;stroke-linejoin:miter;stroke-width:0.233328;\"/>\n   </g>\n   <g id=\"patch_89\">\n    <path clip-path=\"url(#p859e5e8bdf)\" d=\"M 274.854529 545.718125 \nL 277.09116 545.718125 \nL 277.09116 299.055586 \nL 274.854529 299.055586 \nz\n\" style=\"fill:#1f77b4;fill-opacity:0.75;stroke:#000000;stroke-linejoin:miter;stroke-width:0.233328;\"/>\n   </g>\n   <g id=\"patch_90\">\n    <path clip-path=\"url(#p859e5e8bdf)\" d=\"M 277.09116 545.718125 \nL 279.327791 545.718125 \nL 279.327791 289.896624 \nL 277.09116 289.896624 \nz\n\" style=\"fill:#1f77b4;fill-opacity:0.75;stroke:#000000;stroke-linejoin:miter;stroke-width:0.233328;\"/>\n   </g>\n   <g id=\"patch_91\">\n    <path clip-path=\"url(#p859e5e8bdf)\" d=\"M 279.327791 545.718125 \nL 281.564422 545.718125 \nL 281.564422 291.759246 \nL 279.327791 291.759246 \nz\n\" style=\"fill:#1f77b4;fill-opacity:0.75;stroke:#000000;stroke-linejoin:miter;stroke-width:0.233328;\"/>\n   </g>\n   <g id=\"patch_92\">\n    <path clip-path=\"url(#p859e5e8bdf)\" d=\"M 281.564422 545.718125 \nL 283.801053 545.718125 \nL 283.801053 289.04881 \nL 281.564422 289.04881 \nz\n\" style=\"fill:#1f77b4;fill-opacity:0.75;stroke:#000000;stroke-linejoin:miter;stroke-width:0.233328;\"/>\n   </g>\n   <g id=\"patch_93\">\n    <path clip-path=\"url(#p859e5e8bdf)\" d=\"M 283.801053 545.718125 \nL 286.037684 545.718125 \nL 286.037684 282.214914 \nL 283.801053 282.214914 \nz\n\" style=\"fill:#1f77b4;fill-opacity:0.75;stroke:#000000;stroke-linejoin:miter;stroke-width:0.233328;\"/>\n   </g>\n   <g id=\"patch_94\">\n    <path clip-path=\"url(#p859e5e8bdf)\" d=\"M 286.037684 545.718125 \nL 288.274315 545.718125 \nL 288.274315 286.274146 \nL 286.037684 286.274146 \nz\n\" style=\"fill:#1f77b4;fill-opacity:0.75;stroke:#000000;stroke-linejoin:miter;stroke-width:0.233328;\"/>\n   </g>\n   <g id=\"patch_95\">\n    <path clip-path=\"url(#p859e5e8bdf)\" d=\"M 288.274315 545.718125 \nL 290.510946 545.718125 \nL 290.510946 250.820099 \nL 288.274315 250.820099 \nz\n\" style=\"fill:#1f77b4;fill-opacity:0.75;stroke:#000000;stroke-linejoin:miter;stroke-width:0.233328;\"/>\n   </g>\n   <g id=\"patch_96\">\n    <path clip-path=\"url(#p859e5e8bdf)\" d=\"M 290.510946 545.718125 \nL 292.747577 545.718125 \nL 292.747577 229.881658 \nL 290.510946 229.881658 \nz\n\" style=\"fill:#1f77b4;fill-opacity:0.75;stroke:#000000;stroke-linejoin:miter;stroke-width:0.233328;\"/>\n   </g>\n   <g id=\"patch_97\">\n    <path clip-path=\"url(#p859e5e8bdf)\" d=\"M 292.747577 545.718125 \nL 294.984208 545.718125 \nL 294.984208 256.857563 \nL 292.747577 256.857563 \nz\n\" style=\"fill:#1f77b4;fill-opacity:0.75;stroke:#000000;stroke-linejoin:miter;stroke-width:0.233328;\"/>\n   </g>\n   <g id=\"patch_98\">\n    <path clip-path=\"url(#p859e5e8bdf)\" d=\"M 294.984208 545.718125 \nL 297.220839 545.718125 \nL 297.220839 165.704695 \nL 294.984208 165.704695 \nz\n\" style=\"fill:#1f77b4;fill-opacity:0.75;stroke:#000000;stroke-linejoin:miter;stroke-width:0.233328;\"/>\n   </g>\n   <g id=\"patch_99\">\n    <path clip-path=\"url(#p859e5e8bdf)\" d=\"M 297.220839 545.718125 \nL 299.45747 545.718125 \nL 299.45747 175.878465 \nL 297.220839 175.878465 \nz\n\" style=\"fill:#1f77b4;fill-opacity:0.75;stroke:#000000;stroke-linejoin:miter;stroke-width:0.233328;\"/>\n   </g>\n   <g id=\"patch_100\">\n    <path clip-path=\"url(#p859e5e8bdf)\" d=\"M 299.45747 545.718125 \nL 301.694101 545.718125 \nL 301.694101 170.007994 \nL 299.45747 170.007994 \nz\n\" style=\"fill:#1f77b4;fill-opacity:0.75;stroke:#000000;stroke-linejoin:miter;stroke-width:0.233328;\"/>\n   </g>\n   <g id=\"patch_101\">\n    <path clip-path=\"url(#p859e5e8bdf)\" d=\"M 301.694101 545.718125 \nL 303.930732 545.718125 \nL 303.930732 180.053308 \nL 301.694101 180.053308 \nz\n\" style=\"fill:#1f77b4;fill-opacity:0.75;stroke:#000000;stroke-linejoin:miter;stroke-width:0.233328;\"/>\n   </g>\n   <g id=\"patch_102\">\n    <path clip-path=\"url(#p859e5e8bdf)\" d=\"M 303.930732 545.718125 \nL 306.167363 545.718125 \nL 306.167363 171.677931 \nL 303.930732 171.677931 \nz\n\" style=\"fill:#1f77b4;fill-opacity:0.75;stroke:#000000;stroke-linejoin:miter;stroke-width:0.233328;\"/>\n   </g>\n   <g id=\"patch_103\">\n    <path clip-path=\"url(#p859e5e8bdf)\" d=\"M 306.167363 545.718125 \nL 308.403994 545.718125 \nL 308.403994 109.145214 \nL 306.167363 109.145214 \nz\n\" style=\"fill:#1f77b4;fill-opacity:0.75;stroke:#000000;stroke-linejoin:miter;stroke-width:0.233328;\"/>\n   </g>\n   <g id=\"patch_104\">\n    <path clip-path=\"url(#p859e5e8bdf)\" d=\"M 308.403994 545.718125 \nL 310.640625 545.718125 \nL 310.640625 155.415314 \nL 308.403994 155.415314 \nz\n\" style=\"fill:#1f77b4;fill-opacity:0.75;stroke:#000000;stroke-linejoin:miter;stroke-width:0.233328;\"/>\n   </g>\n   <g id=\"patch_105\">\n    <path clip-path=\"url(#p859e5e8bdf)\" d=\"M 310.640625 545.718125 \nL 312.877256 545.718125 \nL 312.877256 89.131662 \nL 310.640625 89.131662 \nz\n\" style=\"fill:#1f77b4;fill-opacity:0.75;stroke:#000000;stroke-linejoin:miter;stroke-width:0.233328;\"/>\n   </g>\n   <g id=\"patch_106\">\n    <path clip-path=\"url(#p859e5e8bdf)\" d=\"M 312.877256 545.718125 \nL 315.113887 545.718125 \nL 315.113887 122.196414 \nL 312.877256 122.196414 \nz\n\" style=\"fill:#1f77b4;fill-opacity:0.75;stroke:#000000;stroke-linejoin:miter;stroke-width:0.233328;\"/>\n   </g>\n   <g id=\"patch_107\">\n    <path clip-path=\"url(#p859e5e8bdf)\" d=\"M 315.113887 545.718125 \nL 317.350518 545.718125 \nL 317.350518 159.333243 \nL 315.113887 159.333243 \nz\n\" style=\"fill:#1f77b4;fill-opacity:0.75;stroke:#000000;stroke-linejoin:miter;stroke-width:0.233328;\"/>\n   </g>\n   <g id=\"patch_108\">\n    <path clip-path=\"url(#p859e5e8bdf)\" d=\"M 317.350518 545.718125 \nL 319.587149 545.718125 \nL 319.587149 142.531108 \nL 317.350518 142.531108 \nz\n\" style=\"fill:#1f77b4;fill-opacity:0.75;stroke:#000000;stroke-linejoin:miter;stroke-width:0.233328;\"/>\n   </g>\n   <g id=\"patch_109\">\n    <path clip-path=\"url(#p859e5e8bdf)\" d=\"M 319.587149 545.718125 \nL 321.82378 545.718125 \nL 321.82378 183.316108 \nL 319.587149 183.316108 \nz\n\" style=\"fill:#1f77b4;fill-opacity:0.75;stroke:#000000;stroke-linejoin:miter;stroke-width:0.233328;\"/>\n   </g>\n   <g id=\"patch_110\">\n    <path clip-path=\"url(#p859e5e8bdf)\" d=\"M 321.82378 545.718125 \nL 324.060411 545.718125 \nL 324.060411 117.392134 \nL 321.82378 117.392134 \nz\n\" style=\"fill:#1f77b4;fill-opacity:0.75;stroke:#000000;stroke-linejoin:miter;stroke-width:0.233328;\"/>\n   </g>\n   <g id=\"patch_111\">\n    <path clip-path=\"url(#p859e5e8bdf)\" d=\"M 324.060411 545.718125 \nL 326.297042 545.718125 \nL 326.297042 125.317911 \nL 324.060411 125.317911 \nz\n\" style=\"fill:#1f77b4;fill-opacity:0.75;stroke:#000000;stroke-linejoin:miter;stroke-width:0.233328;\"/>\n   </g>\n   <g id=\"patch_112\">\n    <path clip-path=\"url(#p859e5e8bdf)\" d=\"M 326.297042 545.718125 \nL 328.533673 545.718125 \nL 328.533673 135.697212 \nL 326.297042 135.697212 \nz\n\" style=\"fill:#1f77b4;fill-opacity:0.75;stroke:#000000;stroke-linejoin:miter;stroke-width:0.233328;\"/>\n   </g>\n   <g id=\"patch_113\">\n    <path clip-path=\"url(#p859e5e8bdf)\" d=\"M 328.533673 545.718125 \nL 330.770304 545.718125 \nL 330.770304 90.429074 \nL 328.533673 90.429074 \nz\n\" style=\"fill:#1f77b4;fill-opacity:0.75;stroke:#000000;stroke-linejoin:miter;stroke-width:0.233328;\"/>\n   </g>\n   <g id=\"patch_114\">\n    <path clip-path=\"url(#p859e5e8bdf)\" d=\"M 330.770304 545.718125 \nL 333.006935 545.718125 \nL 333.006935 165.717541 \nL 330.770304 165.717541 \nz\n\" style=\"fill:#1f77b4;fill-opacity:0.75;stroke:#000000;stroke-linejoin:miter;stroke-width:0.233328;\"/>\n   </g>\n   <g id=\"patch_115\">\n    <path clip-path=\"url(#p859e5e8bdf)\" d=\"M 333.006935 545.718125 \nL 335.243566 545.718125 \nL 335.243566 101.103825 \nL 333.006935 101.103825 \nz\n\" style=\"fill:#1f77b4;fill-opacity:0.75;stroke:#000000;stroke-linejoin:miter;stroke-width:0.233328;\"/>\n   </g>\n   <g id=\"patch_116\">\n    <path clip-path=\"url(#p859e5e8bdf)\" d=\"M 335.243566 545.718125 \nL 337.480197 545.718125 \nL 337.480197 197.18943 \nL 335.243566 197.18943 \nz\n\" style=\"fill:#1f77b4;fill-opacity:0.75;stroke:#000000;stroke-linejoin:miter;stroke-width:0.233328;\"/>\n   </g>\n   <g id=\"patch_117\">\n    <path clip-path=\"url(#p859e5e8bdf)\" d=\"M 337.480197 545.718125 \nL 339.716828 545.718125 \nL 339.716828 198.872213 \nL 337.480197 198.872213 \nz\n\" style=\"fill:#1f77b4;fill-opacity:0.75;stroke:#000000;stroke-linejoin:miter;stroke-width:0.233328;\"/>\n   </g>\n   <g id=\"patch_118\">\n    <path clip-path=\"url(#p859e5e8bdf)\" d=\"M 339.716828 545.718125 \nL 341.953459 545.718125 \nL 341.953459 124.020499 \nL 339.716828 124.020499 \nz\n\" style=\"fill:#1f77b4;fill-opacity:0.75;stroke:#000000;stroke-linejoin:miter;stroke-width:0.233328;\"/>\n   </g>\n   <g id=\"patch_119\">\n    <path clip-path=\"url(#p859e5e8bdf)\" d=\"M 341.953459 545.718125 \nL 344.19009 545.718125 \nL 344.19009 98.316315 \nL 341.953459 98.316315 \nz\n\" style=\"fill:#1f77b4;fill-opacity:0.75;stroke:#000000;stroke-linejoin:miter;stroke-width:0.233328;\"/>\n   </g>\n   <g id=\"patch_120\">\n    <path clip-path=\"url(#p859e5e8bdf)\" d=\"M 344.19009 545.718125 \nL 346.426721 545.718125 \nL 346.426721 111.328978 \nL 344.19009 111.328978 \nz\n\" style=\"fill:#1f77b4;fill-opacity:0.75;stroke:#000000;stroke-linejoin:miter;stroke-width:0.233328;\"/>\n   </g>\n   <g id=\"patch_121\">\n    <path clip-path=\"url(#p859e5e8bdf)\" d=\"M 346.426721 545.718125 \nL 348.663352 545.718125 \nL 348.663352 145.125933 \nL 346.426721 145.125933 \nz\n\" style=\"fill:#1f77b4;fill-opacity:0.75;stroke:#000000;stroke-linejoin:miter;stroke-width:0.233328;\"/>\n   </g>\n   <g id=\"patch_122\">\n    <path clip-path=\"url(#p859e5e8bdf)\" d=\"M 348.663352 545.718125 \nL 350.899983 545.718125 \nL 350.899983 190.329843 \nL 348.663352 190.329843 \nz\n\" style=\"fill:#1f77b4;fill-opacity:0.75;stroke:#000000;stroke-linejoin:miter;stroke-width:0.233328;\"/>\n   </g>\n   <g id=\"patch_123\">\n    <path clip-path=\"url(#p859e5e8bdf)\" d=\"M 350.899983 545.718125 \nL 353.136614 545.718125 \nL 353.136614 163.315401 \nL 350.899983 163.315401 \nz\n\" style=\"fill:#1f77b4;fill-opacity:0.75;stroke:#000000;stroke-linejoin:miter;stroke-width:0.233328;\"/>\n   </g>\n   <g id=\"patch_124\">\n    <path clip-path=\"url(#p859e5e8bdf)\" d=\"M 353.136614 545.718125 \nL 355.373245 545.718125 \nL 355.373245 178.755895 \nL 353.136614 178.755895 \nz\n\" style=\"fill:#1f77b4;fill-opacity:0.75;stroke:#000000;stroke-linejoin:miter;stroke-width:0.233328;\"/>\n   </g>\n   <g id=\"patch_125\">\n    <path clip-path=\"url(#p859e5e8bdf)\" d=\"M 355.373245 545.718125 \nL 357.609876 545.718125 \nL 357.609876 254.481115 \nL 355.373245 254.481115 \nz\n\" style=\"fill:#1f77b4;fill-opacity:0.75;stroke:#000000;stroke-linejoin:miter;stroke-width:0.233328;\"/>\n   </g>\n   <g id=\"patch_126\">\n    <path clip-path=\"url(#p859e5e8bdf)\" d=\"M 357.609876 545.718125 \nL 359.846507 545.718125 \nL 359.846507 154.297741 \nL 357.609876 154.297741 \nz\n\" style=\"fill:#1f77b4;fill-opacity:0.75;stroke:#000000;stroke-linejoin:miter;stroke-width:0.233328;\"/>\n   </g>\n   <g id=\"patch_127\">\n    <path clip-path=\"url(#p859e5e8bdf)\" d=\"M 359.846507 545.718125 \nL 362.083138 545.718125 \nL 362.083138 171.729314 \nL 359.846507 171.729314 \nz\n\" style=\"fill:#1f77b4;fill-opacity:0.75;stroke:#000000;stroke-linejoin:miter;stroke-width:0.233328;\"/>\n   </g>\n   <g id=\"patch_128\">\n    <path clip-path=\"url(#p859e5e8bdf)\" d=\"M 362.083138 545.718125 \nL 364.319769 545.718125 \nL 364.319769 139.229771 \nL 362.083138 139.229771 \nz\n\" style=\"fill:#1f77b4;fill-opacity:0.75;stroke:#000000;stroke-linejoin:miter;stroke-width:0.233328;\"/>\n   </g>\n   <g id=\"patch_129\">\n    <path clip-path=\"url(#p859e5e8bdf)\" d=\"M 364.319769 545.718125 \nL 366.5564 545.718125 \nL 366.5564 170.072223 \nL 364.319769 170.072223 \nz\n\" style=\"fill:#1f77b4;fill-opacity:0.75;stroke:#000000;stroke-linejoin:miter;stroke-width:0.233328;\"/>\n   </g>\n   <g id=\"patch_130\">\n    <path clip-path=\"url(#p859e5e8bdf)\" d=\"M 366.5564 545.718125 \nL 368.793031 545.718125 \nL 368.793031 343.103386 \nL 366.5564 343.103386 \nz\n\" style=\"fill:#1f77b4;fill-opacity:0.75;stroke:#000000;stroke-linejoin:miter;stroke-width:0.233328;\"/>\n   </g>\n   <g id=\"patch_131\">\n    <path clip-path=\"url(#p859e5e8bdf)\" d=\"M 368.793031 545.718125 \nL 371.029662 545.718125 \nL 371.029662 47.614459 \nL 368.793031 47.614459 \nz\n\" style=\"fill:#1f77b4;fill-opacity:0.75;stroke:#000000;stroke-linejoin:miter;stroke-width:0.233328;\"/>\n   </g>\n   <g id=\"patch_132\">\n    <path clip-path=\"url(#p859e5e8bdf)\" d=\"M 371.029662 545.718125 \nL 373.266293 545.718125 \nL 373.266293 106.139327 \nL 371.029662 106.139327 \nz\n\" style=\"fill:#1f77b4;fill-opacity:0.75;stroke:#000000;stroke-linejoin:miter;stroke-width:0.233328;\"/>\n   </g>\n   <g id=\"patch_133\">\n    <path clip-path=\"url(#p859e5e8bdf)\" d=\"M 373.266293 545.718125 \nL 375.502924 545.718125 \nL 375.502924 132.151807 \nL 373.266293 132.151807 \nz\n\" style=\"fill:#1f77b4;fill-opacity:0.75;stroke:#000000;stroke-linejoin:miter;stroke-width:0.233328;\"/>\n   </g>\n   <g id=\"patch_134\">\n    <path clip-path=\"url(#p859e5e8bdf)\" d=\"M 375.502924 545.718125 \nL 377.739555 545.718125 \nL 377.739555 122.954308 \nL 375.502924 122.954308 \nz\n\" style=\"fill:#1f77b4;fill-opacity:0.75;stroke:#000000;stroke-linejoin:miter;stroke-width:0.233328;\"/>\n   </g>\n   <g id=\"patch_135\">\n    <path clip-path=\"url(#p859e5e8bdf)\" d=\"M 377.739555 545.718125 \nL 379.976186 545.718125 \nL 379.976186 123.288296 \nL 377.739555 123.288296 \nz\n\" style=\"fill:#1f77b4;fill-opacity:0.75;stroke:#000000;stroke-linejoin:miter;stroke-width:0.233328;\"/>\n   </g>\n   <g id=\"patch_136\">\n    <path clip-path=\"url(#p859e5e8bdf)\" d=\"M 379.976186 545.718125 \nL 382.212818 545.718125 \nL 382.212818 124.624245 \nL 379.976186 124.624245 \nz\n\" style=\"fill:#1f77b4;fill-opacity:0.75;stroke:#000000;stroke-linejoin:miter;stroke-width:0.233328;\"/>\n   </g>\n   <g id=\"patch_137\">\n    <path clip-path=\"url(#p859e5e8bdf)\" d=\"M 382.212818 545.718125 \nL 384.449449 545.718125 \nL 384.449449 103.621576 \nL 382.212818 103.621576 \nz\n\" style=\"fill:#1f77b4;fill-opacity:0.75;stroke:#000000;stroke-linejoin:miter;stroke-width:0.233328;\"/>\n   </g>\n   <g id=\"patch_138\">\n    <path clip-path=\"url(#p859e5e8bdf)\" d=\"M 384.449449 545.718125 \nL 386.68608 545.718125 \nL 386.68608 159.615848 \nL 384.449449 159.615848 \nz\n\" style=\"fill:#1f77b4;fill-opacity:0.75;stroke:#000000;stroke-linejoin:miter;stroke-width:0.233328;\"/>\n   </g>\n   <g id=\"patch_139\">\n    <path clip-path=\"url(#p859e5e8bdf)\" d=\"M 386.68608 545.718125 \nL 388.922711 545.718125 \nL 388.922711 192.29523 \nL 386.68608 192.29523 \nz\n\" style=\"fill:#1f77b4;fill-opacity:0.75;stroke:#000000;stroke-linejoin:miter;stroke-width:0.233328;\"/>\n   </g>\n   <g id=\"patch_140\">\n    <path clip-path=\"url(#p859e5e8bdf)\" d=\"M 388.922711 545.718125 \nL 391.159342 545.718125 \nL 391.159342 257.538384 \nL 388.922711 257.538384 \nz\n\" style=\"fill:#1f77b4;fill-opacity:0.75;stroke:#000000;stroke-linejoin:miter;stroke-width:0.233328;\"/>\n   </g>\n   <g id=\"patch_141\">\n    <path clip-path=\"url(#p859e5e8bdf)\" d=\"M 391.159342 545.718125 \nL 393.395973 545.718125 \nL 393.395973 325.016684 \nL 391.159342 325.016684 \nz\n\" style=\"fill:#1f77b4;fill-opacity:0.75;stroke:#000000;stroke-linejoin:miter;stroke-width:0.233328;\"/>\n   </g>\n   <g id=\"patch_142\">\n    <path clip-path=\"url(#p859e5e8bdf)\" d=\"M 393.395973 545.718125 \nL 395.632604 545.718125 \nL 395.632604 364.054672 \nL 393.395973 364.054672 \nz\n\" style=\"fill:#1f77b4;fill-opacity:0.75;stroke:#000000;stroke-linejoin:miter;stroke-width:0.233328;\"/>\n   </g>\n   <g id=\"patch_143\">\n    <path clip-path=\"url(#p859e5e8bdf)\" d=\"M 395.632604 545.718125 \nL 397.869235 545.718125 \nL 397.869235 386.200606 \nL 395.632604 386.200606 \nz\n\" style=\"fill:#1f77b4;fill-opacity:0.75;stroke:#000000;stroke-linejoin:miter;stroke-width:0.233328;\"/>\n   </g>\n   <g id=\"patch_144\">\n    <path clip-path=\"url(#p859e5e8bdf)\" d=\"M 397.869235 545.718125 \nL 400.105866 545.718125 \nL 400.105866 419.547963 \nL 397.869235 419.547963 \nz\n\" style=\"fill:#1f77b4;fill-opacity:0.75;stroke:#000000;stroke-linejoin:miter;stroke-width:0.233328;\"/>\n   </g>\n   <g id=\"patch_145\">\n    <path clip-path=\"url(#p859e5e8bdf)\" d=\"M 400.105866 545.718125 \nL 402.342497 545.718125 \nL 402.342497 448.823243 \nL 400.105866 448.823243 \nz\n\" style=\"fill:#1f77b4;fill-opacity:0.75;stroke:#000000;stroke-linejoin:miter;stroke-width:0.233328;\"/>\n   </g>\n   <g id=\"patch_146\">\n    <path clip-path=\"url(#p859e5e8bdf)\" d=\"M 402.342497 545.718125 \nL 404.579128 545.718125 \nL 404.579128 470.378276 \nL 402.342497 470.378276 \nz\n\" style=\"fill:#1f77b4;fill-opacity:0.75;stroke:#000000;stroke-linejoin:miter;stroke-width:0.233328;\"/>\n   </g>\n   <g id=\"patch_147\">\n    <path clip-path=\"url(#p859e5e8bdf)\" d=\"M 404.579128 545.718125 \nL 406.815759 545.718125 \nL 406.815759 478.535275 \nL 404.579128 478.535275 \nz\n\" style=\"fill:#1f77b4;fill-opacity:0.75;stroke:#000000;stroke-linejoin:miter;stroke-width:0.233328;\"/>\n   </g>\n   <g id=\"patch_148\">\n    <path clip-path=\"url(#p859e5e8bdf)\" d=\"M 406.815759 545.718125 \nL 409.05239 545.718125 \nL 409.05239 454.963473 \nL 406.815759 454.963473 \nz\n\" style=\"fill:#1f77b4;fill-opacity:0.75;stroke:#000000;stroke-linejoin:miter;stroke-width:0.233328;\"/>\n   </g>\n   <g id=\"patch_149\">\n    <path clip-path=\"url(#p859e5e8bdf)\" d=\"M 409.05239 545.718125 \nL 411.289021 545.718125 \nL 411.289021 456.106737 \nL 409.05239 456.106737 \nz\n\" style=\"fill:#1f77b4;fill-opacity:0.75;stroke:#000000;stroke-linejoin:miter;stroke-width:0.233328;\"/>\n   </g>\n   <g id=\"patch_150\">\n    <path clip-path=\"url(#p859e5e8bdf)\" d=\"M 411.289021 545.718125 \nL 413.525652 545.718125 \nL 413.525652 448.900317 \nL 411.289021 448.900317 \nz\n\" style=\"fill:#1f77b4;fill-opacity:0.75;stroke:#000000;stroke-linejoin:miter;stroke-width:0.233328;\"/>\n   </g>\n   <g id=\"patch_151\">\n    <path clip-path=\"url(#p859e5e8bdf)\" d=\"M 413.525652 545.718125 \nL 415.762283 545.718125 \nL 415.762283 448.977391 \nL 413.525652 448.977391 \nz\n\" style=\"fill:#1f77b4;fill-opacity:0.75;stroke:#000000;stroke-linejoin:miter;stroke-width:0.233328;\"/>\n   </g>\n   <g id=\"patch_152\">\n    <path clip-path=\"url(#p859e5e8bdf)\" d=\"M 415.762283 545.718125 \nL 417.998914 545.718125 \nL 417.998914 439.355985 \nL 415.762283 439.355985 \nz\n\" style=\"fill:#1f77b4;fill-opacity:0.75;stroke:#000000;stroke-linejoin:miter;stroke-width:0.233328;\"/>\n   </g>\n   <g id=\"patch_153\">\n    <path clip-path=\"url(#p859e5e8bdf)\" d=\"M 417.998914 545.718125 \nL 420.235545 545.718125 \nL 420.235545 427.794882 \nL 417.998914 427.794882 \nz\n\" style=\"fill:#1f77b4;fill-opacity:0.75;stroke:#000000;stroke-linejoin:miter;stroke-width:0.233328;\"/>\n   </g>\n   <g id=\"patch_154\">\n    <path clip-path=\"url(#p859e5e8bdf)\" d=\"M 420.235545 545.718125 \nL 422.472176 545.718125 \nL 422.472176 413.099437 \nL 420.235545 413.099437 \nz\n\" style=\"fill:#1f77b4;fill-opacity:0.75;stroke:#000000;stroke-linejoin:miter;stroke-width:0.233328;\"/>\n   </g>\n   <g id=\"patch_155\">\n    <path clip-path=\"url(#p859e5e8bdf)\" d=\"M 422.472176 545.718125 \nL 424.708807 545.718125 \nL 424.708807 412.76545 \nL 422.472176 412.76545 \nz\n\" style=\"fill:#1f77b4;fill-opacity:0.75;stroke:#000000;stroke-linejoin:miter;stroke-width:0.233328;\"/>\n   </g>\n   <g id=\"patch_156\">\n    <path clip-path=\"url(#p859e5e8bdf)\" d=\"M 424.708807 545.718125 \nL 426.945438 545.718125 \nL 426.945438 356.989554 \nL 424.708807 356.989554 \nz\n\" style=\"fill:#1f77b4;fill-opacity:0.75;stroke:#000000;stroke-linejoin:miter;stroke-width:0.233328;\"/>\n   </g>\n   <g id=\"patch_157\">\n    <path clip-path=\"url(#p859e5e8bdf)\" d=\"M 426.945438 545.718125 \nL 429.182069 545.718125 \nL 429.182069 350.463954 \nL 426.945438 350.463954 \nz\n\" style=\"fill:#1f77b4;fill-opacity:0.75;stroke:#000000;stroke-linejoin:miter;stroke-width:0.233328;\"/>\n   </g>\n   <g id=\"patch_158\">\n    <path clip-path=\"url(#p859e5e8bdf)\" d=\"M 429.182069 545.718125 \nL 431.4187 545.718125 \nL 431.4187 356.578493 \nL 429.182069 356.578493 \nz\n\" style=\"fill:#1f77b4;fill-opacity:0.75;stroke:#000000;stroke-linejoin:miter;stroke-width:0.233328;\"/>\n   </g>\n   <g id=\"patch_159\">\n    <path clip-path=\"url(#p859e5e8bdf)\" d=\"M 431.4187 545.718125 \nL 433.655331 545.718125 \nL 433.655331 314.586 \nL 431.4187 314.586 \nz\n\" style=\"fill:#1f77b4;fill-opacity:0.75;stroke:#000000;stroke-linejoin:miter;stroke-width:0.233328;\"/>\n   </g>\n   <g id=\"patch_160\">\n    <path clip-path=\"url(#p859e5e8bdf)\" d=\"M 433.655331 545.718125 \nL 435.891962 545.718125 \nL 435.891962 311.02775 \nL 433.655331 311.02775 \nz\n\" style=\"fill:#1f77b4;fill-opacity:0.75;stroke:#000000;stroke-linejoin:miter;stroke-width:0.233328;\"/>\n   </g>\n   <g id=\"patch_161\">\n    <path clip-path=\"url(#p859e5e8bdf)\" d=\"M 435.891962 545.718125 \nL 438.128593 545.718125 \nL 438.128593 296.383687 \nL 435.891962 296.383687 \nz\n\" style=\"fill:#1f77b4;fill-opacity:0.75;stroke:#000000;stroke-linejoin:miter;stroke-width:0.233328;\"/>\n   </g>\n   <g id=\"patch_162\">\n    <path clip-path=\"url(#p859e5e8bdf)\" d=\"M 438.128593 545.718125 \nL 440.365224 545.718125 \nL 440.365224 283.08842 \nL 438.128593 283.08842 \nz\n\" style=\"fill:#1f77b4;fill-opacity:0.75;stroke:#000000;stroke-linejoin:miter;stroke-width:0.233328;\"/>\n   </g>\n   <g id=\"patch_163\">\n    <path clip-path=\"url(#p859e5e8bdf)\" d=\"M 440.365224 545.718125 \nL 442.601855 545.718125 \nL 442.601855 292.607061 \nL 440.365224 292.607061 \nz\n\" style=\"fill:#1f77b4;fill-opacity:0.75;stroke:#000000;stroke-linejoin:miter;stroke-width:0.233328;\"/>\n   </g>\n   <g id=\"patch_164\">\n    <path clip-path=\"url(#p859e5e8bdf)\" d=\"M 442.601855 545.718125 \nL 444.838486 545.718125 \nL 444.838486 273.415631 \nL 442.601855 273.415631 \nz\n\" style=\"fill:#1f77b4;fill-opacity:0.75;stroke:#000000;stroke-linejoin:miter;stroke-width:0.233328;\"/>\n   </g>\n   <g id=\"patch_165\">\n    <path clip-path=\"url(#p859e5e8bdf)\" d=\"M 444.838486 545.718125 \nL 447.075117 545.718125 \nL 447.075117 285.477714 \nL 444.838486 285.477714 \nz\n\" style=\"fill:#1f77b4;fill-opacity:0.75;stroke:#000000;stroke-linejoin:miter;stroke-width:0.233328;\"/>\n   </g>\n   <g id=\"patch_166\">\n    <path clip-path=\"url(#p859e5e8bdf)\" d=\"M 447.075117 545.718125 \nL 449.311748 545.718125 \nL 449.311748 321.008835 \nL 447.075117 321.008835 \nz\n\" style=\"fill:#1f77b4;fill-opacity:0.75;stroke:#000000;stroke-linejoin:miter;stroke-width:0.233328;\"/>\n   </g>\n   <g id=\"patch_167\">\n    <path clip-path=\"url(#p859e5e8bdf)\" d=\"M 449.311748 545.718125 \nL 451.548379 545.718125 \nL 451.548379 294.932127 \nL 449.311748 294.932127 \nz\n\" style=\"fill:#1f77b4;fill-opacity:0.75;stroke:#000000;stroke-linejoin:miter;stroke-width:0.233328;\"/>\n   </g>\n   <g id=\"patch_168\">\n    <path clip-path=\"url(#p859e5e8bdf)\" d=\"M 451.548379 545.718125 \nL 453.78501 545.718125 \nL 453.78501 305.529804 \nL 451.548379 305.529804 \nz\n\" style=\"fill:#1f77b4;fill-opacity:0.75;stroke:#000000;stroke-linejoin:miter;stroke-width:0.233328;\"/>\n   </g>\n   <g id=\"patch_169\">\n    <path clip-path=\"url(#p859e5e8bdf)\" d=\"M 453.78501 545.718125 \nL 456.021641 545.718125 \nL 456.021641 286.402602 \nL 453.78501 286.402602 \nz\n\" style=\"fill:#1f77b4;fill-opacity:0.75;stroke:#000000;stroke-linejoin:miter;stroke-width:0.233328;\"/>\n   </g>\n   <g id=\"patch_170\">\n    <path clip-path=\"url(#p859e5e8bdf)\" d=\"M 456.021641 545.718125 \nL 458.258272 545.718125 \nL 458.258272 292.375838 \nL 456.021641 292.375838 \nz\n\" style=\"fill:#1f77b4;fill-opacity:0.75;stroke:#000000;stroke-linejoin:miter;stroke-width:0.233328;\"/>\n   </g>\n   <g id=\"patch_171\">\n    <path clip-path=\"url(#p859e5e8bdf)\" d=\"M 458.258272 545.718125 \nL 460.494903 545.718125 \nL 460.494903 308.792604 \nL 458.258272 308.792604 \nz\n\" style=\"fill:#1f77b4;fill-opacity:0.75;stroke:#000000;stroke-linejoin:miter;stroke-width:0.233328;\"/>\n   </g>\n   <g id=\"patch_172\">\n    <path clip-path=\"url(#p859e5e8bdf)\" d=\"M 460.494903 545.718125 \nL 462.731534 545.718125 \nL 462.731534 337.053076 \nL 460.494903 337.053076 \nz\n\" style=\"fill:#1f77b4;fill-opacity:0.75;stroke:#000000;stroke-linejoin:miter;stroke-width:0.233328;\"/>\n   </g>\n   <g id=\"patch_173\">\n    <path clip-path=\"url(#p859e5e8bdf)\" d=\"M 462.731534 545.718125 \nL 464.968165 545.718125 \nL 464.968165 347.342457 \nL 462.731534 347.342457 \nz\n\" style=\"fill:#1f77b4;fill-opacity:0.75;stroke:#000000;stroke-linejoin:miter;stroke-width:0.233328;\"/>\n   </g>\n   <g id=\"patch_174\">\n    <path clip-path=\"url(#p859e5e8bdf)\" d=\"M 464.968165 545.718125 \nL 467.204796 545.718125 \nL 467.204796 341.215072 \nL 464.968165 341.215072 \nz\n\" style=\"fill:#1f77b4;fill-opacity:0.75;stroke:#000000;stroke-linejoin:miter;stroke-width:0.233328;\"/>\n   </g>\n   <g id=\"patch_175\">\n    <path clip-path=\"url(#p859e5e8bdf)\" d=\"M 467.204796 545.718125 \nL 469.441427 545.718125 \nL 469.441427 331.208296 \nL 467.204796 331.208296 \nz\n\" style=\"fill:#1f77b4;fill-opacity:0.75;stroke:#000000;stroke-linejoin:miter;stroke-width:0.233328;\"/>\n   </g>\n   <g id=\"patch_176\">\n    <path clip-path=\"url(#p859e5e8bdf)\" d=\"M 469.441427 545.718125 \nL 471.678058 545.718125 \nL 471.678058 348.768326 \nL 469.441427 348.768326 \nz\n\" style=\"fill:#1f77b4;fill-opacity:0.75;stroke:#000000;stroke-linejoin:miter;stroke-width:0.233328;\"/>\n   </g>\n   <g id=\"patch_177\">\n    <path clip-path=\"url(#p859e5e8bdf)\" d=\"M 471.678058 545.718125 \nL 473.914689 545.718125 \nL 473.914689 361.061631 \nL 471.678058 361.061631 \nz\n\" style=\"fill:#1f77b4;fill-opacity:0.75;stroke:#000000;stroke-linejoin:miter;stroke-width:0.233328;\"/>\n   </g>\n   <g id=\"patch_178\">\n    <path clip-path=\"url(#p859e5e8bdf)\" d=\"M 473.914689 545.718125 \nL 476.15132 545.718125 \nL 476.15132 379.649315 \nL 473.914689 379.649315 \nz\n\" style=\"fill:#1f77b4;fill-opacity:0.75;stroke:#000000;stroke-linejoin:miter;stroke-width:0.233328;\"/>\n   </g>\n   <g id=\"patch_179\">\n    <path clip-path=\"url(#p859e5e8bdf)\" d=\"M 476.15132 545.718125 \nL 478.387951 545.718125 \nL 478.387951 395.179728 \nL 476.15132 395.179728 \nz\n\" style=\"fill:#1f77b4;fill-opacity:0.75;stroke:#000000;stroke-linejoin:miter;stroke-width:0.233328;\"/>\n   </g>\n   <g id=\"patch_180\">\n    <path clip-path=\"url(#p859e5e8bdf)\" d=\"M 478.387951 545.718125 \nL 480.624582 545.718125 \nL 480.624582 380.060376 \nL 478.387951 380.060376 \nz\n\" style=\"fill:#1f77b4;fill-opacity:0.75;stroke:#000000;stroke-linejoin:miter;stroke-width:0.233328;\"/>\n   </g>\n   <g id=\"patch_181\">\n    <path clip-path=\"url(#p859e5e8bdf)\" d=\"M 480.624582 545.718125 \nL 482.861213 545.718125 \nL 482.861213 419.522271 \nL 480.624582 419.522271 \nz\n\" style=\"fill:#1f77b4;fill-opacity:0.75;stroke:#000000;stroke-linejoin:miter;stroke-width:0.233328;\"/>\n   </g>\n   <g id=\"patch_182\">\n    <path clip-path=\"url(#p859e5e8bdf)\" d=\"M 482.861213 545.718125 \nL 485.097844 545.718125 \nL 485.097844 418.802914 \nL 482.861213 418.802914 \nz\n\" style=\"fill:#1f77b4;fill-opacity:0.75;stroke:#000000;stroke-linejoin:miter;stroke-width:0.233328;\"/>\n   </g>\n   <g id=\"patch_183\">\n    <path clip-path=\"url(#p859e5e8bdf)\" d=\"M 485.097844 545.718125 \nL 487.334475 545.718125 \nL 487.334475 371.479469 \nL 485.097844 371.479469 \nz\n\" style=\"fill:#1f77b4;fill-opacity:0.75;stroke:#000000;stroke-linejoin:miter;stroke-width:0.233328;\"/>\n   </g>\n   <g id=\"patch_184\">\n    <path clip-path=\"url(#p859e5e8bdf)\" d=\"M 487.334475 545.718125 \nL 489.571106 545.718125 \nL 489.571106 389.45056 \nL 487.334475 389.45056 \nz\n\" style=\"fill:#1f77b4;fill-opacity:0.75;stroke:#000000;stroke-linejoin:miter;stroke-width:0.233328;\"/>\n   </g>\n   <g id=\"patch_185\">\n    <path clip-path=\"url(#p859e5e8bdf)\" d=\"M 489.571106 545.718125 \nL 491.807737 545.718125 \nL 491.807737 392.23807 \nL 489.571106 392.23807 \nz\n\" style=\"fill:#1f77b4;fill-opacity:0.75;stroke:#000000;stroke-linejoin:miter;stroke-width:0.233328;\"/>\n   </g>\n   <g id=\"patch_186\">\n    <path clip-path=\"url(#p859e5e8bdf)\" d=\"M 491.807737 545.718125 \nL 494.044368 545.718125 \nL 494.044368 406.368306 \nL 491.807737 406.368306 \nz\n\" style=\"fill:#1f77b4;fill-opacity:0.75;stroke:#000000;stroke-linejoin:miter;stroke-width:0.233328;\"/>\n   </g>\n   <g id=\"patch_187\">\n    <path clip-path=\"url(#p859e5e8bdf)\" d=\"M 494.044368 545.718125 \nL 496.280999 545.718125 \nL 496.280999 391.056269 \nL 494.044368 391.056269 \nz\n\" style=\"fill:#1f77b4;fill-opacity:0.75;stroke:#000000;stroke-linejoin:miter;stroke-width:0.233328;\"/>\n   </g>\n   <g id=\"patch_188\">\n    <path clip-path=\"url(#p859e5e8bdf)\" d=\"M 496.280999 545.718125 \nL 498.51763 545.718125 \nL 498.51763 365.775992 \nL 496.280999 365.775992 \nz\n\" style=\"fill:#1f77b4;fill-opacity:0.75;stroke:#000000;stroke-linejoin:miter;stroke-width:0.233328;\"/>\n   </g>\n   <g id=\"patch_189\">\n    <path clip-path=\"url(#p859e5e8bdf)\" d=\"M 498.51763 545.718125 \nL 500.754261 545.718125 \nL 500.754261 381.036647 \nL 498.51763 381.036647 \nz\n\" style=\"fill:#1f77b4;fill-opacity:0.75;stroke:#000000;stroke-linejoin:miter;stroke-width:0.233328;\"/>\n   </g>\n   <g id=\"patch_190\">\n    <path clip-path=\"url(#p859e5e8bdf)\" d=\"M 500.754261 545.718125 \nL 502.990892 545.718125 \nL 502.990892 379.392401 \nL 500.754261 379.392401 \nz\n\" style=\"fill:#1f77b4;fill-opacity:0.75;stroke:#000000;stroke-linejoin:miter;stroke-width:0.233328;\"/>\n   </g>\n   <g id=\"patch_191\">\n    <path clip-path=\"url(#p859e5e8bdf)\" d=\"M 502.990892 545.718125 \nL 505.227523 545.718125 \nL 505.227523 364.131746 \nL 502.990892 364.131746 \nz\n\" style=\"fill:#1f77b4;fill-opacity:0.75;stroke:#000000;stroke-linejoin:miter;stroke-width:0.233328;\"/>\n   </g>\n   <g id=\"patch_192\">\n    <path clip-path=\"url(#p859e5e8bdf)\" d=\"M 505.227523 545.718125 \nL 507.464154 545.718125 \nL 507.464154 311.284663 \nL 505.227523 311.284663 \nz\n\" style=\"fill:#1f77b4;fill-opacity:0.75;stroke:#000000;stroke-linejoin:miter;stroke-width:0.233328;\"/>\n   </g>\n   <g id=\"patch_193\">\n    <path clip-path=\"url(#p859e5e8bdf)\" d=\"M 507.464154 545.718125 \nL 509.700785 545.718125 \nL 509.700785 231.204762 \nL 507.464154 231.204762 \nz\n\" style=\"fill:#1f77b4;fill-opacity:0.75;stroke:#000000;stroke-linejoin:miter;stroke-width:0.233328;\"/>\n   </g>\n   <g id=\"patch_194\">\n    <path clip-path=\"url(#p859e5e8bdf)\" d=\"M 509.700785 545.718125 \nL 511.937416 545.718125 \nL 511.937416 204.66561 \nL 509.700785 204.66561 \nz\n\" style=\"fill:#1f77b4;fill-opacity:0.75;stroke:#000000;stroke-linejoin:miter;stroke-width:0.233328;\"/>\n   </g>\n   <g id=\"patch_195\">\n    <path clip-path=\"url(#p859e5e8bdf)\" d=\"M 511.937416 545.718125 \nL 514.174047 545.718125 \nL 514.174047 246.940707 \nL 511.937416 246.940707 \nz\n\" style=\"fill:#1f77b4;fill-opacity:0.75;stroke:#000000;stroke-linejoin:miter;stroke-width:0.233328;\"/>\n   </g>\n   <g id=\"patch_196\">\n    <path clip-path=\"url(#p859e5e8bdf)\" d=\"M 514.174047 545.718125 \nL 516.410678 545.718125 \nL 516.410678 301.457727 \nL 514.174047 301.457727 \nz\n\" style=\"fill:#1f77b4;fill-opacity:0.75;stroke:#000000;stroke-linejoin:miter;stroke-width:0.233328;\"/>\n   </g>\n   <g id=\"patch_197\">\n    <path clip-path=\"url(#p859e5e8bdf)\" d=\"M 516.410678 545.718125 \nL 518.647309 545.718125 \nL 518.647309 242.046507 \nL 516.410678 242.046507 \nz\n\" style=\"fill:#1f77b4;fill-opacity:0.75;stroke:#000000;stroke-linejoin:miter;stroke-width:0.233328;\"/>\n   </g>\n   <g id=\"patch_198\">\n    <path clip-path=\"url(#p859e5e8bdf)\" d=\"M 518.647309 545.718125 \nL 520.883941 545.718125 \nL 520.883941 193.310038 \nL 518.647309 193.310038 \nz\n\" style=\"fill:#1f77b4;fill-opacity:0.75;stroke:#000000;stroke-linejoin:miter;stroke-width:0.233328;\"/>\n   </g>\n   <g id=\"patch_199\">\n    <path clip-path=\"url(#p859e5e8bdf)\" d=\"M 520.883941 545.718125 \nL 523.120572 545.718125 \nL 523.120572 175.467404 \nL 520.883941 175.467404 \nz\n\" style=\"fill:#1f77b4;fill-opacity:0.75;stroke:#000000;stroke-linejoin:miter;stroke-width:0.233328;\"/>\n   </g>\n   <g id=\"patch_200\">\n    <path clip-path=\"url(#p859e5e8bdf)\" d=\"M 523.120572 545.718125 \nL 525.357203 545.718125 \nL 525.357203 95.772872 \nL 523.120572 95.772872 \nz\n\" style=\"fill:#1f77b4;fill-opacity:0.75;stroke:#000000;stroke-linejoin:miter;stroke-width:0.233328;\"/>\n   </g>\n   <g id=\"patch_201\">\n    <path clip-path=\"url(#p859e5e8bdf)\" d=\"M 525.357203 545.718125 \nL 527.593834 545.718125 \nL 527.593834 72.599285 \nL 525.357203 72.599285 \nz\n\" style=\"fill:#1f77b4;fill-opacity:0.75;stroke:#000000;stroke-linejoin:miter;stroke-width:0.233328;\"/>\n   </g>\n   <g id=\"patch_202\">\n    <path clip-path=\"url(#p859e5e8bdf)\" d=\"M 527.593834 545.718125 \nL 529.830465 545.718125 \nL 529.830465 47.241935 \nL 527.593834 47.241935 \nz\n\" style=\"fill:#1f77b4;fill-opacity:0.75;stroke:#000000;stroke-linejoin:miter;stroke-width:0.233328;\"/>\n   </g>\n   <g id=\"patch_203\">\n    <path clip-path=\"url(#p859e5e8bdf)\" d=\"M 529.830465 545.718125 \nL 532.067096 545.718125 \nL 532.067096 104.019792 \nL 529.830465 104.019792 \nz\n\" style=\"fill:#1f77b4;fill-opacity:0.75;stroke:#000000;stroke-linejoin:miter;stroke-width:0.233328;\"/>\n   </g>\n   <g id=\"patch_204\">\n    <path clip-path=\"url(#p859e5e8bdf)\" d=\"M 532.067096 545.718125 \nL 534.303727 545.718125 \nL 534.303727 85.213732 \nL 532.067096 85.213732 \nz\n\" style=\"fill:#1f77b4;fill-opacity:0.75;stroke:#000000;stroke-linejoin:miter;stroke-width:0.233328;\"/>\n   </g>\n   <g id=\"patch_205\">\n    <path clip-path=\"url(#p859e5e8bdf)\" d=\"M 534.303727 545.718125 \nL 536.540358 545.718125 \nL 536.540358 79.343262 \nL 534.303727 79.343262 \nz\n\" style=\"fill:#1f77b4;fill-opacity:0.75;stroke:#000000;stroke-linejoin:miter;stroke-width:0.233328;\"/>\n   </g>\n   <g id=\"patch_206\">\n    <path clip-path=\"url(#p859e5e8bdf)\" d=\"M 536.540358 545.718125 \nL 538.776989 545.718125 \nL 538.776989 105.702575 \nL 536.540358 105.702575 \nz\n\" style=\"fill:#1f77b4;fill-opacity:0.75;stroke:#000000;stroke-linejoin:miter;stroke-width:0.233328;\"/>\n   </g>\n   <g id=\"matplotlib.axis_1\">\n    <g id=\"xtick_1\">\n     <g id=\"line2d_1\">\n      <defs>\n       <path d=\"M 0 0 \nL 0 3.5 \n\" id=\"meb3aec468f\" style=\"stroke:#000000;stroke-width:0.8;\"/>\n      </defs>\n      <g>\n       <use style=\"stroke:#000000;stroke-width:0.8;\" x=\"82.504261\" xlink:href=\"#meb3aec468f\" y=\"545.718125\"/>\n      </g>\n     </g>\n     <g id=\"text_1\">\n      <!-- 0 -->\n      <g transform=\"translate(79.323011 560.316562)scale(0.1 -0.1)\">\n       <defs>\n        <path d=\"M 2034 4250 \nQ 1547 4250 1301 3770 \nQ 1056 3291 1056 2328 \nQ 1056 1369 1301 889 \nQ 1547 409 2034 409 \nQ 2525 409 2770 889 \nQ 3016 1369 3016 2328 \nQ 3016 3291 2770 3770 \nQ 2525 4250 2034 4250 \nz\nM 2034 4750 \nQ 2819 4750 3233 4129 \nQ 3647 3509 3647 2328 \nQ 3647 1150 3233 529 \nQ 2819 -91 2034 -91 \nQ 1250 -91 836 529 \nQ 422 1150 422 2328 \nQ 422 3509 836 4129 \nQ 1250 4750 2034 4750 \nz\n\" id=\"DejaVuSans-30\" transform=\"scale(0.015625)\"/>\n       </defs>\n       <use xlink:href=\"#DejaVuSans-30\"/>\n      </g>\n     </g>\n    </g>\n    <g id=\"xtick_2\">\n     <g id=\"line2d_2\">\n      <g>\n       <use style=\"stroke:#000000;stroke-width:0.8;\" x=\"157.549118\" xlink:href=\"#meb3aec468f\" y=\"545.718125\"/>\n      </g>\n     </g>\n     <g id=\"text_2\">\n      <!-- 200 -->\n      <g transform=\"translate(148.005368 560.316562)scale(0.1 -0.1)\">\n       <defs>\n        <path d=\"M 1228 531 \nL 3431 531 \nL 3431 0 \nL 469 0 \nL 469 531 \nQ 828 903 1448 1529 \nQ 2069 2156 2228 2338 \nQ 2531 2678 2651 2914 \nQ 2772 3150 2772 3378 \nQ 2772 3750 2511 3984 \nQ 2250 4219 1831 4219 \nQ 1534 4219 1204 4116 \nQ 875 4013 500 3803 \nL 500 4441 \nQ 881 4594 1212 4672 \nQ 1544 4750 1819 4750 \nQ 2544 4750 2975 4387 \nQ 3406 4025 3406 3419 \nQ 3406 3131 3298 2873 \nQ 3191 2616 2906 2266 \nQ 2828 2175 2409 1742 \nQ 1991 1309 1228 531 \nz\n\" id=\"DejaVuSans-32\" transform=\"scale(0.015625)\"/>\n       </defs>\n       <use xlink:href=\"#DejaVuSans-32\"/>\n       <use x=\"63.623047\" xlink:href=\"#DejaVuSans-30\"/>\n       <use x=\"127.246094\" xlink:href=\"#DejaVuSans-30\"/>\n      </g>\n     </g>\n    </g>\n    <g id=\"xtick_3\">\n     <g id=\"line2d_3\">\n      <g>\n       <use style=\"stroke:#000000;stroke-width:0.8;\" x=\"232.593974\" xlink:href=\"#meb3aec468f\" y=\"545.718125\"/>\n      </g>\n     </g>\n     <g id=\"text_3\">\n      <!-- 400 -->\n      <g transform=\"translate(223.050224 560.316562)scale(0.1 -0.1)\">\n       <defs>\n        <path d=\"M 2419 4116 \nL 825 1625 \nL 2419 1625 \nL 2419 4116 \nz\nM 2253 4666 \nL 3047 4666 \nL 3047 1625 \nL 3713 1625 \nL 3713 1100 \nL 3047 1100 \nL 3047 0 \nL 2419 0 \nL 2419 1100 \nL 313 1100 \nL 313 1709 \nL 2253 4666 \nz\n\" id=\"DejaVuSans-34\" transform=\"scale(0.015625)\"/>\n       </defs>\n       <use xlink:href=\"#DejaVuSans-34\"/>\n       <use x=\"63.623047\" xlink:href=\"#DejaVuSans-30\"/>\n       <use x=\"127.246094\" xlink:href=\"#DejaVuSans-30\"/>\n      </g>\n     </g>\n    </g>\n    <g id=\"xtick_4\">\n     <g id=\"line2d_4\">\n      <g>\n       <use style=\"stroke:#000000;stroke-width:0.8;\" x=\"307.638831\" xlink:href=\"#meb3aec468f\" y=\"545.718125\"/>\n      </g>\n     </g>\n     <g id=\"text_4\">\n      <!-- 600 -->\n      <g transform=\"translate(298.095081 560.316562)scale(0.1 -0.1)\">\n       <defs>\n        <path d=\"M 2113 2584 \nQ 1688 2584 1439 2293 \nQ 1191 2003 1191 1497 \nQ 1191 994 1439 701 \nQ 1688 409 2113 409 \nQ 2538 409 2786 701 \nQ 3034 994 3034 1497 \nQ 3034 2003 2786 2293 \nQ 2538 2584 2113 2584 \nz\nM 3366 4563 \nL 3366 3988 \nQ 3128 4100 2886 4159 \nQ 2644 4219 2406 4219 \nQ 1781 4219 1451 3797 \nQ 1122 3375 1075 2522 \nQ 1259 2794 1537 2939 \nQ 1816 3084 2150 3084 \nQ 2853 3084 3261 2657 \nQ 3669 2231 3669 1497 \nQ 3669 778 3244 343 \nQ 2819 -91 2113 -91 \nQ 1303 -91 875 529 \nQ 447 1150 447 2328 \nQ 447 3434 972 4092 \nQ 1497 4750 2381 4750 \nQ 2619 4750 2861 4703 \nQ 3103 4656 3366 4563 \nz\n\" id=\"DejaVuSans-36\" transform=\"scale(0.015625)\"/>\n       </defs>\n       <use xlink:href=\"#DejaVuSans-36\"/>\n       <use x=\"63.623047\" xlink:href=\"#DejaVuSans-30\"/>\n       <use x=\"127.246094\" xlink:href=\"#DejaVuSans-30\"/>\n      </g>\n     </g>\n    </g>\n    <g id=\"xtick_5\">\n     <g id=\"line2d_5\">\n      <g>\n       <use style=\"stroke:#000000;stroke-width:0.8;\" x=\"382.683687\" xlink:href=\"#meb3aec468f\" y=\"545.718125\"/>\n      </g>\n     </g>\n     <g id=\"text_5\">\n      <!-- 800 -->\n      <g transform=\"translate(373.139937 560.316562)scale(0.1 -0.1)\">\n       <defs>\n        <path d=\"M 2034 2216 \nQ 1584 2216 1326 1975 \nQ 1069 1734 1069 1313 \nQ 1069 891 1326 650 \nQ 1584 409 2034 409 \nQ 2484 409 2743 651 \nQ 3003 894 3003 1313 \nQ 3003 1734 2745 1975 \nQ 2488 2216 2034 2216 \nz\nM 1403 2484 \nQ 997 2584 770 2862 \nQ 544 3141 544 3541 \nQ 544 4100 942 4425 \nQ 1341 4750 2034 4750 \nQ 2731 4750 3128 4425 \nQ 3525 4100 3525 3541 \nQ 3525 3141 3298 2862 \nQ 3072 2584 2669 2484 \nQ 3125 2378 3379 2068 \nQ 3634 1759 3634 1313 \nQ 3634 634 3220 271 \nQ 2806 -91 2034 -91 \nQ 1263 -91 848 271 \nQ 434 634 434 1313 \nQ 434 1759 690 2068 \nQ 947 2378 1403 2484 \nz\nM 1172 3481 \nQ 1172 3119 1398 2916 \nQ 1625 2713 2034 2713 \nQ 2441 2713 2670 2916 \nQ 2900 3119 2900 3481 \nQ 2900 3844 2670 4047 \nQ 2441 4250 2034 4250 \nQ 1625 4250 1398 4047 \nQ 1172 3844 1172 3481 \nz\n\" id=\"DejaVuSans-38\" transform=\"scale(0.015625)\"/>\n       </defs>\n       <use xlink:href=\"#DejaVuSans-38\"/>\n       <use x=\"63.623047\" xlink:href=\"#DejaVuSans-30\"/>\n       <use x=\"127.246094\" xlink:href=\"#DejaVuSans-30\"/>\n      </g>\n     </g>\n    </g>\n    <g id=\"xtick_6\">\n     <g id=\"line2d_6\">\n      <g>\n       <use style=\"stroke:#000000;stroke-width:0.8;\" x=\"457.728544\" xlink:href=\"#meb3aec468f\" y=\"545.718125\"/>\n      </g>\n     </g>\n     <g id=\"text_6\">\n      <!-- 1000 -->\n      <g transform=\"translate(445.003544 560.316562)scale(0.1 -0.1)\">\n       <defs>\n        <path d=\"M 794 531 \nL 1825 531 \nL 1825 4091 \nL 703 3866 \nL 703 4441 \nL 1819 4666 \nL 2450 4666 \nL 2450 531 \nL 3481 531 \nL 3481 0 \nL 794 0 \nL 794 531 \nz\n\" id=\"DejaVuSans-31\" transform=\"scale(0.015625)\"/>\n       </defs>\n       <use xlink:href=\"#DejaVuSans-31\"/>\n       <use x=\"63.623047\" xlink:href=\"#DejaVuSans-30\"/>\n       <use x=\"127.246094\" xlink:href=\"#DejaVuSans-30\"/>\n       <use x=\"190.869141\" xlink:href=\"#DejaVuSans-30\"/>\n      </g>\n     </g>\n    </g>\n    <g id=\"xtick_7\">\n     <g id=\"line2d_7\">\n      <g>\n       <use style=\"stroke:#000000;stroke-width:0.8;\" x=\"532.7734\" xlink:href=\"#meb3aec468f\" y=\"545.718125\"/>\n      </g>\n     </g>\n     <g id=\"text_7\">\n      <!-- 1200 -->\n      <g transform=\"translate(520.0484 560.316562)scale(0.1 -0.1)\">\n       <use xlink:href=\"#DejaVuSans-31\"/>\n       <use x=\"63.623047\" xlink:href=\"#DejaVuSans-32\"/>\n       <use x=\"127.246094\" xlink:href=\"#DejaVuSans-30\"/>\n       <use x=\"190.869141\" xlink:href=\"#DejaVuSans-30\"/>\n      </g>\n     </g>\n    </g>\n    <g id=\"text_8\">\n     <!-- ts -->\n     <g transform=\"translate(306.075781 573.994687)scale(0.1 -0.1)\">\n      <defs>\n       <path d=\"M 1172 4494 \nL 1172 3500 \nL 2356 3500 \nL 2356 3053 \nL 1172 3053 \nL 1172 1153 \nQ 1172 725 1289 603 \nQ 1406 481 1766 481 \nL 2356 481 \nL 2356 0 \nL 1766 0 \nQ 1100 0 847 248 \nQ 594 497 594 1153 \nL 594 3053 \nL 172 3053 \nL 172 3500 \nL 594 3500 \nL 594 4494 \nL 1172 4494 \nz\n\" id=\"DejaVuSans-74\" transform=\"scale(0.015625)\"/>\n       <path d=\"M 2834 3397 \nL 2834 2853 \nQ 2591 2978 2328 3040 \nQ 2066 3103 1784 3103 \nQ 1356 3103 1142 2972 \nQ 928 2841 928 2578 \nQ 928 2378 1081 2264 \nQ 1234 2150 1697 2047 \nL 1894 2003 \nQ 2506 1872 2764 1633 \nQ 3022 1394 3022 966 \nQ 3022 478 2636 193 \nQ 2250 -91 1575 -91 \nQ 1294 -91 989 -36 \nQ 684 19 347 128 \nL 347 722 \nQ 666 556 975 473 \nQ 1284 391 1588 391 \nQ 1994 391 2212 530 \nQ 2431 669 2431 922 \nQ 2431 1156 2273 1281 \nQ 2116 1406 1581 1522 \nL 1381 1569 \nQ 847 1681 609 1914 \nQ 372 2147 372 2553 \nQ 372 3047 722 3315 \nQ 1072 3584 1716 3584 \nQ 2034 3584 2315 3537 \nQ 2597 3491 2834 3397 \nz\n\" id=\"DejaVuSans-73\" transform=\"scale(0.015625)\"/>\n      </defs>\n      <use xlink:href=\"#DejaVuSans-74\"/>\n      <use x=\"39.208984\" xlink:href=\"#DejaVuSans-73\"/>\n     </g>\n    </g>\n   </g>\n   <g id=\"matplotlib.axis_2\">\n    <g id=\"ytick_1\">\n     <g id=\"line2d_8\">\n      <defs>\n       <path d=\"M 0 0 \nL -3.5 0 \n\" id=\"m21da3e30f0\" style=\"stroke:#000000;stroke-width:0.8;\"/>\n      </defs>\n      <g>\n       <use style=\"stroke:#000000;stroke-width:0.8;\" x=\"59.690625\" xlink:href=\"#m21da3e30f0\" y=\"545.718125\"/>\n      </g>\n     </g>\n     <g id=\"text_9\">\n      <!-- 0 -->\n      <g transform=\"translate(46.328125 549.517344)scale(0.1 -0.1)\">\n       <use xlink:href=\"#DejaVuSans-30\"/>\n      </g>\n     </g>\n    </g>\n    <g id=\"ytick_2\">\n     <g id=\"line2d_9\">\n      <g>\n       <use style=\"stroke:#000000;stroke-width:0.8;\" x=\"59.690625\" xlink:href=\"#m21da3e30f0\" y=\"481.489779\"/>\n      </g>\n     </g>\n     <g id=\"text_10\">\n      <!-- 5000 -->\n      <g transform=\"translate(27.240625 485.288998)scale(0.1 -0.1)\">\n       <defs>\n        <path d=\"M 691 4666 \nL 3169 4666 \nL 3169 4134 \nL 1269 4134 \nL 1269 2991 \nQ 1406 3038 1543 3061 \nQ 1681 3084 1819 3084 \nQ 2600 3084 3056 2656 \nQ 3513 2228 3513 1497 \nQ 3513 744 3044 326 \nQ 2575 -91 1722 -91 \nQ 1428 -91 1123 -41 \nQ 819 9 494 109 \nL 494 744 \nQ 775 591 1075 516 \nQ 1375 441 1709 441 \nQ 2250 441 2565 725 \nQ 2881 1009 2881 1497 \nQ 2881 1984 2565 2268 \nQ 2250 2553 1709 2553 \nQ 1456 2553 1204 2497 \nQ 953 2441 691 2322 \nL 691 4666 \nz\n\" id=\"DejaVuSans-35\" transform=\"scale(0.015625)\"/>\n       </defs>\n       <use xlink:href=\"#DejaVuSans-35\"/>\n       <use x=\"63.623047\" xlink:href=\"#DejaVuSans-30\"/>\n       <use x=\"127.246094\" xlink:href=\"#DejaVuSans-30\"/>\n       <use x=\"190.869141\" xlink:href=\"#DejaVuSans-30\"/>\n      </g>\n     </g>\n    </g>\n    <g id=\"ytick_3\">\n     <g id=\"line2d_10\">\n      <g>\n       <use style=\"stroke:#000000;stroke-width:0.8;\" x=\"59.690625\" xlink:href=\"#m21da3e30f0\" y=\"417.261434\"/>\n      </g>\n     </g>\n     <g id=\"text_11\">\n      <!-- 10000 -->\n      <g transform=\"translate(20.878125 421.060652)scale(0.1 -0.1)\">\n       <use xlink:href=\"#DejaVuSans-31\"/>\n       <use x=\"63.623047\" xlink:href=\"#DejaVuSans-30\"/>\n       <use x=\"127.246094\" xlink:href=\"#DejaVuSans-30\"/>\n       <use x=\"190.869141\" xlink:href=\"#DejaVuSans-30\"/>\n       <use x=\"254.492188\" xlink:href=\"#DejaVuSans-30\"/>\n      </g>\n     </g>\n    </g>\n    <g id=\"ytick_4\">\n     <g id=\"line2d_11\">\n      <g>\n       <use style=\"stroke:#000000;stroke-width:0.8;\" x=\"59.690625\" xlink:href=\"#m21da3e30f0\" y=\"353.033088\"/>\n      </g>\n     </g>\n     <g id=\"text_12\">\n      <!-- 15000 -->\n      <g transform=\"translate(20.878125 356.832307)scale(0.1 -0.1)\">\n       <use xlink:href=\"#DejaVuSans-31\"/>\n       <use x=\"63.623047\" xlink:href=\"#DejaVuSans-35\"/>\n       <use x=\"127.246094\" xlink:href=\"#DejaVuSans-30\"/>\n       <use x=\"190.869141\" xlink:href=\"#DejaVuSans-30\"/>\n       <use x=\"254.492188\" xlink:href=\"#DejaVuSans-30\"/>\n      </g>\n     </g>\n    </g>\n    <g id=\"ytick_5\">\n     <g id=\"line2d_12\">\n      <g>\n       <use style=\"stroke:#000000;stroke-width:0.8;\" x=\"59.690625\" xlink:href=\"#m21da3e30f0\" y=\"288.804742\"/>\n      </g>\n     </g>\n     <g id=\"text_13\">\n      <!-- 20000 -->\n      <g transform=\"translate(20.878125 292.603961)scale(0.1 -0.1)\">\n       <use xlink:href=\"#DejaVuSans-32\"/>\n       <use x=\"63.623047\" xlink:href=\"#DejaVuSans-30\"/>\n       <use x=\"127.246094\" xlink:href=\"#DejaVuSans-30\"/>\n       <use x=\"190.869141\" xlink:href=\"#DejaVuSans-30\"/>\n       <use x=\"254.492188\" xlink:href=\"#DejaVuSans-30\"/>\n      </g>\n     </g>\n    </g>\n    <g id=\"ytick_6\">\n     <g id=\"line2d_13\">\n      <g>\n       <use style=\"stroke:#000000;stroke-width:0.8;\" x=\"59.690625\" xlink:href=\"#m21da3e30f0\" y=\"224.576397\"/>\n      </g>\n     </g>\n     <g id=\"text_14\">\n      <!-- 25000 -->\n      <g transform=\"translate(20.878125 228.375616)scale(0.1 -0.1)\">\n       <use xlink:href=\"#DejaVuSans-32\"/>\n       <use x=\"63.623047\" xlink:href=\"#DejaVuSans-35\"/>\n       <use x=\"127.246094\" xlink:href=\"#DejaVuSans-30\"/>\n       <use x=\"190.869141\" xlink:href=\"#DejaVuSans-30\"/>\n       <use x=\"254.492188\" xlink:href=\"#DejaVuSans-30\"/>\n      </g>\n     </g>\n    </g>\n    <g id=\"ytick_7\">\n     <g id=\"line2d_14\">\n      <g>\n       <use style=\"stroke:#000000;stroke-width:0.8;\" x=\"59.690625\" xlink:href=\"#m21da3e30f0\" y=\"160.348051\"/>\n      </g>\n     </g>\n     <g id=\"text_15\">\n      <!-- 30000 -->\n      <g transform=\"translate(20.878125 164.14727)scale(0.1 -0.1)\">\n       <defs>\n        <path d=\"M 2597 2516 \nQ 3050 2419 3304 2112 \nQ 3559 1806 3559 1356 \nQ 3559 666 3084 287 \nQ 2609 -91 1734 -91 \nQ 1441 -91 1130 -33 \nQ 819 25 488 141 \nL 488 750 \nQ 750 597 1062 519 \nQ 1375 441 1716 441 \nQ 2309 441 2620 675 \nQ 2931 909 2931 1356 \nQ 2931 1769 2642 2001 \nQ 2353 2234 1838 2234 \nL 1294 2234 \nL 1294 2753 \nL 1863 2753 \nQ 2328 2753 2575 2939 \nQ 2822 3125 2822 3475 \nQ 2822 3834 2567 4026 \nQ 2313 4219 1838 4219 \nQ 1578 4219 1281 4162 \nQ 984 4106 628 3988 \nL 628 4550 \nQ 988 4650 1302 4700 \nQ 1616 4750 1894 4750 \nQ 2613 4750 3031 4423 \nQ 3450 4097 3450 3541 \nQ 3450 3153 3228 2886 \nQ 3006 2619 2597 2516 \nz\n\" id=\"DejaVuSans-33\" transform=\"scale(0.015625)\"/>\n       </defs>\n       <use xlink:href=\"#DejaVuSans-33\"/>\n       <use x=\"63.623047\" xlink:href=\"#DejaVuSans-30\"/>\n       <use x=\"127.246094\" xlink:href=\"#DejaVuSans-30\"/>\n       <use x=\"190.869141\" xlink:href=\"#DejaVuSans-30\"/>\n       <use x=\"254.492188\" xlink:href=\"#DejaVuSans-30\"/>\n      </g>\n     </g>\n    </g>\n    <g id=\"ytick_8\">\n     <g id=\"line2d_15\">\n      <g>\n       <use style=\"stroke:#000000;stroke-width:0.8;\" x=\"59.690625\" xlink:href=\"#m21da3e30f0\" y=\"96.119706\"/>\n      </g>\n     </g>\n     <g id=\"text_16\">\n      <!-- 35000 -->\n      <g transform=\"translate(20.878125 99.918924)scale(0.1 -0.1)\">\n       <use xlink:href=\"#DejaVuSans-33\"/>\n       <use x=\"63.623047\" xlink:href=\"#DejaVuSans-35\"/>\n       <use x=\"127.246094\" xlink:href=\"#DejaVuSans-30\"/>\n       <use x=\"190.869141\" xlink:href=\"#DejaVuSans-30\"/>\n       <use x=\"254.492188\" xlink:href=\"#DejaVuSans-30\"/>\n      </g>\n     </g>\n    </g>\n    <g id=\"ytick_9\">\n     <g id=\"line2d_16\">\n      <g>\n       <use style=\"stroke:#000000;stroke-width:0.8;\" x=\"59.690625\" xlink:href=\"#m21da3e30f0\" y=\"31.89136\"/>\n      </g>\n     </g>\n     <g id=\"text_17\">\n      <!-- 40000 -->\n      <g transform=\"translate(20.878125 35.690579)scale(0.1 -0.1)\">\n       <use xlink:href=\"#DejaVuSans-34\"/>\n       <use x=\"63.623047\" xlink:href=\"#DejaVuSans-30\"/>\n       <use x=\"127.246094\" xlink:href=\"#DejaVuSans-30\"/>\n       <use x=\"190.869141\" xlink:href=\"#DejaVuSans-30\"/>\n       <use x=\"254.492188\" xlink:href=\"#DejaVuSans-30\"/>\n      </g>\n     </g>\n    </g>\n    <g id=\"text_18\">\n     <!-- Count -->\n     <g transform=\"translate(14.798438 298.866562)rotate(-90)scale(0.1 -0.1)\">\n      <defs>\n       <path d=\"M 4122 4306 \nL 4122 3641 \nQ 3803 3938 3442 4084 \nQ 3081 4231 2675 4231 \nQ 1875 4231 1450 3742 \nQ 1025 3253 1025 2328 \nQ 1025 1406 1450 917 \nQ 1875 428 2675 428 \nQ 3081 428 3442 575 \nQ 3803 722 4122 1019 \nL 4122 359 \nQ 3791 134 3420 21 \nQ 3050 -91 2638 -91 \nQ 1578 -91 968 557 \nQ 359 1206 359 2328 \nQ 359 3453 968 4101 \nQ 1578 4750 2638 4750 \nQ 3056 4750 3426 4639 \nQ 3797 4528 4122 4306 \nz\n\" id=\"DejaVuSans-43\" transform=\"scale(0.015625)\"/>\n       <path d=\"M 1959 3097 \nQ 1497 3097 1228 2736 \nQ 959 2375 959 1747 \nQ 959 1119 1226 758 \nQ 1494 397 1959 397 \nQ 2419 397 2687 759 \nQ 2956 1122 2956 1747 \nQ 2956 2369 2687 2733 \nQ 2419 3097 1959 3097 \nz\nM 1959 3584 \nQ 2709 3584 3137 3096 \nQ 3566 2609 3566 1747 \nQ 3566 888 3137 398 \nQ 2709 -91 1959 -91 \nQ 1206 -91 779 398 \nQ 353 888 353 1747 \nQ 353 2609 779 3096 \nQ 1206 3584 1959 3584 \nz\n\" id=\"DejaVuSans-6f\" transform=\"scale(0.015625)\"/>\n       <path d=\"M 544 1381 \nL 544 3500 \nL 1119 3500 \nL 1119 1403 \nQ 1119 906 1312 657 \nQ 1506 409 1894 409 \nQ 2359 409 2629 706 \nQ 2900 1003 2900 1516 \nL 2900 3500 \nL 3475 3500 \nL 3475 0 \nL 2900 0 \nL 2900 538 \nQ 2691 219 2414 64 \nQ 2138 -91 1772 -91 \nQ 1169 -91 856 284 \nQ 544 659 544 1381 \nz\nM 1991 3584 \nL 1991 3584 \nz\n\" id=\"DejaVuSans-75\" transform=\"scale(0.015625)\"/>\n       <path d=\"M 3513 2113 \nL 3513 0 \nL 2938 0 \nL 2938 2094 \nQ 2938 2591 2744 2837 \nQ 2550 3084 2163 3084 \nQ 1697 3084 1428 2787 \nQ 1159 2491 1159 1978 \nL 1159 0 \nL 581 0 \nL 581 3500 \nL 1159 3500 \nL 1159 2956 \nQ 1366 3272 1645 3428 \nQ 1925 3584 2291 3584 \nQ 2894 3584 3203 3211 \nQ 3513 2838 3513 2113 \nz\n\" id=\"DejaVuSans-6e\" transform=\"scale(0.015625)\"/>\n      </defs>\n      <use xlink:href=\"#DejaVuSans-43\"/>\n      <use x=\"69.824219\" xlink:href=\"#DejaVuSans-6f\"/>\n      <use x=\"131.005859\" xlink:href=\"#DejaVuSans-75\"/>\n      <use x=\"194.384766\" xlink:href=\"#DejaVuSans-6e\"/>\n      <use x=\"257.763672\" xlink:href=\"#DejaVuSans-74\"/>\n     </g>\n    </g>\n   </g>\n   <g id=\"patch_207\">\n    <path d=\"M 59.690625 545.718125 \nL 59.690625 22.318125 \n\" style=\"fill:none;stroke:#000000;stroke-linecap:square;stroke-linejoin:miter;stroke-width:0.8;\"/>\n   </g>\n   <g id=\"patch_208\">\n    <path d=\"M 59.690625 545.718125 \nL 561.590625 545.718125 \n\" style=\"fill:none;stroke:#000000;stroke-linecap:square;stroke-linejoin:miter;stroke-width:0.8;\"/>\n   </g>\n   <g id=\"text_19\">\n    <!-- Распределение отзывов по дням -->\n    <g transform=\"translate(206.384062 16.318125)scale(0.12 -0.12)\">\n     <defs>\n      <path d=\"M 1259 4147 \nL 1259 2394 \nL 2053 2394 \nQ 2494 2394 2734 2622 \nQ 2975 2850 2975 3272 \nQ 2975 3691 2734 3919 \nQ 2494 4147 2053 4147 \nL 1259 4147 \nz\nM 628 4666 \nL 2053 4666 \nQ 2838 4666 3239 4311 \nQ 3641 3956 3641 3272 \nQ 3641 2581 3239 2228 \nQ 2838 1875 2053 1875 \nL 1259 1875 \nL 1259 0 \nL 628 0 \nL 628 4666 \nz\n\" id=\"DejaVuSans-420\" transform=\"scale(0.015625)\"/>\n      <path d=\"M 2194 1759 \nQ 1497 1759 1228 1600 \nQ 959 1441 959 1056 \nQ 959 750 1161 570 \nQ 1363 391 1709 391 \nQ 2188 391 2477 730 \nQ 2766 1069 2766 1631 \nL 2766 1759 \nL 2194 1759 \nz\nM 3341 1997 \nL 3341 0 \nL 2766 0 \nL 2766 531 \nQ 2569 213 2275 61 \nQ 1981 -91 1556 -91 \nQ 1019 -91 701 211 \nQ 384 513 384 1019 \nQ 384 1609 779 1909 \nQ 1175 2209 1959 2209 \nL 2766 2209 \nL 2766 2266 \nQ 2766 2663 2505 2880 \nQ 2244 3097 1772 3097 \nQ 1472 3097 1187 3025 \nQ 903 2953 641 2809 \nL 641 3341 \nQ 956 3463 1253 3523 \nQ 1550 3584 1831 3584 \nQ 2591 3584 2966 3190 \nQ 3341 2797 3341 1997 \nz\n\" id=\"DejaVuSans-430\" transform=\"scale(0.015625)\"/>\n      <path d=\"M 3122 3366 \nL 3122 2828 \nQ 2878 2963 2633 3030 \nQ 2388 3097 2138 3097 \nQ 1578 3097 1268 2742 \nQ 959 2388 959 1747 \nQ 959 1106 1268 751 \nQ 1578 397 2138 397 \nQ 2388 397 2633 464 \nQ 2878 531 3122 666 \nL 3122 134 \nQ 2881 22 2623 -34 \nQ 2366 -91 2075 -91 \nQ 1284 -91 818 406 \nQ 353 903 353 1747 \nQ 353 2603 823 3093 \nQ 1294 3584 2113 3584 \nQ 2378 3584 2631 3529 \nQ 2884 3475 3122 3366 \nz\n\" id=\"DejaVuSans-441\" transform=\"scale(0.015625)\"/>\n      <path d=\"M 3603 3500 \nL 3603 0 \nL 3025 0 \nL 3025 3041 \nL 1159 3041 \nL 1159 0 \nL 581 0 \nL 581 3500 \nL 3603 3500 \nz\n\" id=\"DejaVuSans-43f\" transform=\"scale(0.015625)\"/>\n      <path d=\"M 1159 525 \nL 1159 -1331 \nL 581 -1331 \nL 581 3500 \nL 1159 3500 \nL 1159 2969 \nQ 1341 3281 1617 3432 \nQ 1894 3584 2278 3584 \nQ 2916 3584 3314 3078 \nQ 3713 2572 3713 1747 \nQ 3713 922 3314 415 \nQ 2916 -91 2278 -91 \nQ 1894 -91 1617 61 \nQ 1341 213 1159 525 \nz\nM 3116 1747 \nQ 3116 2381 2855 2742 \nQ 2594 3103 2138 3103 \nQ 1681 3103 1420 2742 \nQ 1159 2381 1159 1747 \nQ 1159 1113 1420 752 \nQ 1681 391 2138 391 \nQ 2594 391 2855 752 \nQ 3116 1113 3116 1747 \nz\n\" id=\"DejaVuSans-440\" transform=\"scale(0.015625)\"/>\n      <path d=\"M 3597 1894 \nL 3597 1613 \nL 953 1613 \nQ 991 1019 1311 708 \nQ 1631 397 2203 397 \nQ 2534 397 2845 478 \nQ 3156 559 3463 722 \nL 3463 178 \nQ 3153 47 2828 -22 \nQ 2503 -91 2169 -91 \nQ 1331 -91 842 396 \nQ 353 884 353 1716 \nQ 353 2575 817 3079 \nQ 1281 3584 2069 3584 \nQ 2775 3584 3186 3129 \nQ 3597 2675 3597 1894 \nz\nM 3022 2063 \nQ 3016 2534 2758 2815 \nQ 2500 3097 2075 3097 \nQ 1594 3097 1305 2825 \nQ 1016 2553 972 2059 \nL 3022 2063 \nz\n\" id=\"DejaVuSans-435\" transform=\"scale(0.015625)\"/>\n      <path d=\"M 1384 459 \nL 3053 459 \nL 3053 3041 \nL 1844 3041 \nL 1844 2603 \nQ 1844 1316 1475 628 \nL 1384 459 \nz\nM 550 459 \nQ 834 584 959 850 \nQ 1266 1509 1266 2838 \nL 1266 3500 \nL 3631 3500 \nL 3631 459 \nL 4091 459 \nL 4091 -884 \nL 3631 -884 \nL 3631 0 \nL 794 0 \nL 794 -884 \nL 334 -884 \nL 334 459 \nL 550 459 \nz\n\" id=\"DejaVuSans-434\" transform=\"scale(0.015625)\"/>\n      <path d=\"M 238 0 \nL 238 478 \nQ 806 566 981 959 \nQ 1194 1513 1194 2928 \nL 1194 3500 \nL 3559 3500 \nL 3559 0 \nL 2984 0 \nL 2984 3041 \nL 1769 3041 \nL 1769 2694 \nQ 1769 1344 1494 738 \nQ 1200 91 238 0 \nz\n\" id=\"DejaVuSans-43b\" transform=\"scale(0.015625)\"/>\n      <path d=\"M 581 3500 \nL 1159 3500 \nL 1159 2072 \nL 3025 2072 \nL 3025 3500 \nL 3603 3500 \nL 3603 0 \nL 3025 0 \nL 3025 1613 \nL 1159 1613 \nL 1159 0 \nL 581 0 \nL 581 3500 \nz\n\" id=\"DejaVuSans-43d\" transform=\"scale(0.015625)\"/>\n      <path d=\"M 3578 3500 \nL 3578 0 \nL 3006 0 \nL 3006 2809 \nL 1319 0 \nL 581 0 \nL 581 3500 \nL 1153 3500 \nL 1153 697 \nL 2838 3500 \nL 3578 3500 \nz\n\" id=\"DejaVuSans-438\" transform=\"scale(0.015625)\"/>\n      <path id=\"DejaVuSans-20\" transform=\"scale(0.015625)\"/>\n      <path d=\"M 1959 3097 \nQ 1497 3097 1228 2736 \nQ 959 2375 959 1747 \nQ 959 1119 1226 758 \nQ 1494 397 1959 397 \nQ 2419 397 2687 759 \nQ 2956 1122 2956 1747 \nQ 2956 2369 2687 2733 \nQ 2419 3097 1959 3097 \nz\nM 1959 3584 \nQ 2709 3584 3137 3096 \nQ 3566 2609 3566 1747 \nQ 3566 888 3137 398 \nQ 2709 -91 1959 -91 \nQ 1206 -91 779 398 \nQ 353 888 353 1747 \nQ 353 2609 779 3096 \nQ 1206 3584 1959 3584 \nz\n\" id=\"DejaVuSans-43e\" transform=\"scale(0.015625)\"/>\n      <path d=\"M 188 3500 \nL 3541 3500 \nL 3541 3041 \nL 2147 3041 \nL 2147 0 \nL 1581 0 \nL 1581 3041 \nL 188 3041 \nL 188 3500 \nz\n\" id=\"DejaVuSans-442\" transform=\"scale(0.015625)\"/>\n      <path d=\"M 2206 1888 \nQ 2594 1813 2809 1584 \nQ 3025 1356 3025 1019 \nQ 3025 478 2622 193 \nQ 2219 -91 1475 -91 \nQ 1225 -91 961 -47 \nQ 697 -3 416 84 \nL 416 619 \nQ 638 503 903 445 \nQ 1169 388 1459 388 \nQ 1931 388 2195 563 \nQ 2459 738 2459 1019 \nQ 2459 1294 2225 1461 \nQ 1991 1628 1563 1628 \nL 1100 1628 \nL 1100 2103 \nL 1584 2103 \nQ 1947 2103 2158 2242 \nQ 2369 2381 2369 2600 \nQ 2369 2800 2151 2944 \nQ 1934 3088 1563 3088 \nQ 1341 3088 1089 3047 \nQ 838 3006 534 2916 \nL 534 3438 \nQ 841 3513 1106 3550 \nQ 1372 3588 1609 3588 \nQ 2222 3588 2576 3342 \nQ 2931 3097 2931 2656 \nQ 2931 2366 2743 2164 \nQ 2556 1963 2206 1888 \nz\n\" id=\"DejaVuSans-437\" transform=\"scale(0.015625)\"/>\n      <path d=\"M 3907 3500 \nL 4482 3500 \nL 4482 0 \nL 3907 0 \nL 3907 3500 \nz\nM 4195 3584 \nL 4195 3584 \nz\nM 2781 1038 \nQ 2781 1319 2576 1466 \nQ 2372 1613 1978 1613 \nL 1159 1613 \nL 1159 459 \nL 1978 459 \nQ 2372 459 2576 607 \nQ 2781 756 2781 1038 \nz\nM 581 3500 \nL 1159 3500 \nL 1159 2072 \nL 2003 2072 \nQ 2672 2072 3033 1817 \nQ 3394 1563 3394 1038 \nQ 3394 513 3033 256 \nQ 2672 0 2003 0 \nL 581 0 \nL 581 3500 \nz\n\" id=\"DejaVuSans-44b\" transform=\"scale(0.015625)\"/>\n      <path d=\"M 1156 1613 \nL 1156 459 \nL 1975 459 \nQ 2369 459 2575 607 \nQ 2781 756 2781 1038 \nQ 2781 1319 2575 1466 \nQ 2369 1613 1975 1613 \nL 1156 1613 \nz\nM 1156 3041 \nL 1156 2072 \nL 1913 2072 \nQ 2238 2072 2444 2201 \nQ 2650 2331 2650 2563 \nQ 2650 2794 2444 2917 \nQ 2238 3041 1913 3041 \nL 1156 3041 \nz\nM 581 3500 \nL 1950 3500 \nQ 2566 3500 2897 3275 \nQ 3228 3050 3228 2634 \nQ 3228 2313 3059 2123 \nQ 2891 1934 2559 1888 \nQ 2956 1813 3175 1575 \nQ 3394 1338 3394 981 \nQ 3394 513 3033 256 \nQ 2672 0 2003 0 \nL 581 0 \nL 581 3500 \nz\n\" id=\"DejaVuSans-432\" transform=\"scale(0.015625)\"/>\n      <path d=\"M 1181 2491 \nQ 1181 2231 1381 2084 \nQ 1581 1938 1953 1938 \nL 2728 1938 \nL 2728 3041 \nL 1953 3041 \nQ 1581 3041 1381 2897 \nQ 1181 2753 1181 2491 \nz\nM 363 0 \nL 1431 1534 \nQ 1069 1616 828 1830 \nQ 588 2044 588 2491 \nQ 588 2997 923 3248 \nQ 1259 3500 1938 3500 \nL 3306 3500 \nL 3306 0 \nL 2728 0 \nL 2728 1478 \nL 2013 1478 \nL 981 0 \nL 363 0 \nz\n\" id=\"DejaVuSans-44f\" transform=\"scale(0.015625)\"/>\n      <path d=\"M 581 3500 \nL 1422 3500 \nL 2416 1156 \nL 3413 3500 \nL 4247 3500 \nL 4247 0 \nL 3669 0 \nL 3669 2950 \nL 2703 672 \nL 2128 672 \nL 1159 2950 \nL 1159 0 \nL 581 0 \nL 581 3500 \nz\n\" id=\"DejaVuSans-43c\" transform=\"scale(0.015625)\"/>\n     </defs>\n     <use xlink:href=\"#DejaVuSans-420\"/>\n     <use x=\"60.302734\" xlink:href=\"#DejaVuSans-430\"/>\n     <use x=\"121.582031\" xlink:href=\"#DejaVuSans-441\"/>\n     <use x=\"176.5625\" xlink:href=\"#DejaVuSans-43f\"/>\n     <use x=\"241.943359\" xlink:href=\"#DejaVuSans-440\"/>\n     <use x=\"305.419922\" xlink:href=\"#DejaVuSans-435\"/>\n     <use x=\"366.943359\" xlink:href=\"#DejaVuSans-434\"/>\n     <use x=\"436.083984\" xlink:href=\"#DejaVuSans-435\"/>\n     <use x=\"497.607422\" xlink:href=\"#DejaVuSans-43b\"/>\n     <use x=\"561.523438\" xlink:href=\"#DejaVuSans-435\"/>\n     <use x=\"623.046875\" xlink:href=\"#DejaVuSans-43d\"/>\n     <use x=\"688.427734\" xlink:href=\"#DejaVuSans-438\"/>\n     <use x=\"753.417969\" xlink:href=\"#DejaVuSans-435\"/>\n     <use x=\"814.941406\" xlink:href=\"#DejaVuSans-20\"/>\n     <use x=\"846.728516\" xlink:href=\"#DejaVuSans-43e\"/>\n     <use x=\"907.910156\" xlink:href=\"#DejaVuSans-442\"/>\n     <use x=\"966.162109\" xlink:href=\"#DejaVuSans-437\"/>\n     <use x=\"1019.335938\" xlink:href=\"#DejaVuSans-44b\"/>\n     <use x=\"1098.291016\" xlink:href=\"#DejaVuSans-432\"/>\n     <use x=\"1157.226562\" xlink:href=\"#DejaVuSans-43e\"/>\n     <use x=\"1218.408203\" xlink:href=\"#DejaVuSans-432\"/>\n     <use x=\"1277.34375\" xlink:href=\"#DejaVuSans-20\"/>\n     <use x=\"1309.130859\" xlink:href=\"#DejaVuSans-43f\"/>\n     <use x=\"1374.511719\" xlink:href=\"#DejaVuSans-43e\"/>\n     <use x=\"1435.693359\" xlink:href=\"#DejaVuSans-20\"/>\n     <use x=\"1467.480469\" xlink:href=\"#DejaVuSans-434\"/>\n     <use x=\"1536.621094\" xlink:href=\"#DejaVuSans-43d\"/>\n     <use x=\"1602.001953\" xlink:href=\"#DejaVuSans-44f\"/>\n     <use x=\"1662.158203\" xlink:href=\"#DejaVuSans-43c\"/>\n    </g>\n   </g>\n  </g>\n </g>\n <defs>\n  <clipPath id=\"p859e5e8bdf\">\n   <rect height=\"523.4\" width=\"501.9\" x=\"59.690625\" y=\"22.318125\"/>\n  </clipPath>\n </defs>\n</svg>\n",
      "image/png": "[encoded data removed]"
     },
     "metadata": {
      "needs_background": "light"
     }
    }
   ],
   "metadata": {}
  },
  {
   "cell_type": "markdown",
   "source": [
    "# Train-test split"
   ],
   "metadata": {}
  },
  {
   "cell_type": "code",
   "execution_count": 7,
   "source": [
    "def clear_df(df, suffixes=['_x', '_y'], inplace=True):\n",
    "    '''\n",
    "    clear_df(df, suffixes=['_x', '_y'], inplace=True)\n",
    "        Удаляет из входного df все колонки, оканчивающиеся на заданные суффиксы. \n",
    "        \n",
    "        Parameters\n",
    "        ----------\n",
    "        df : pandas.DataFrame\n",
    "        \n",
    "        suffixies : Iterable, default=['_x', '_y']\n",
    "            Суффиксы колонок, подлежащих удалению\n",
    "            \n",
    "        inplace : bool, default=True\n",
    "            Нужно ли удалить колонки \"на месте\" или же создать копию DataFrame.\n",
    "            \n",
    "        Returns\n",
    "        -------\n",
    "        pandas.DataFrame (optional)\n",
    "            df с удалёнными колонками\n",
    "    '''\n",
    "    \n",
    "    def bad_suffix(column):\n",
    "        nonlocal suffixes\n",
    "        return any(column.endswith(suffix) for suffix in suffixes)\n",
    "        \n",
    "    columns_to_drop = [col for col in df.columns if bad_suffix(col)]\n",
    "    return df.drop(columns_to_drop, axis=1, inplace=inplace)\n",
    "\n",
    "\n",
    "def extract_unique(reviews, column): \n",
    "    '''\n",
    "    extract_unique(reviews, column)\n",
    "        Извлекает уникальные значения из колонки в DataFrame.\n",
    "        \n",
    "        Parameters\n",
    "        ----------\n",
    "        reviews : pandas.DataFrame\n",
    "            pandas.DataFrame, из которого будут извлечены значения.\n",
    "        \n",
    "        column : str\n",
    "            Имя колонки в <reviews>.\n",
    "        \n",
    "        Returns\n",
    "        -------\n",
    "        pandas.DataFrame\n",
    "            Содержит одну именованную колонку с уникальными значениями. \n",
    "    '''\n",
    "    \n",
    "    unique = reviews[column].unique()\n",
    "    return pd.DataFrame({column: unique})\n",
    "\n",
    "\n",
    "def count_unique(reviews, column):\n",
    "    '''\n",
    "    count_unique(reviews, column)\n",
    "        Извлекает и подсчитывает уникальные значения из колонки в DataFrame.\n",
    "        \n",
    "        Parameters\n",
    "        ----------\n",
    "        reviews : pandas.DataFrame\n",
    "            pandas.DataFrame, из которого будут извлечены значения.\n",
    "        \n",
    "        column : str\n",
    "            Имя колонки в <reviews>.\n",
    "        \n",
    "        Returns\n",
    "        -------\n",
    "        pandas.DataFrame\n",
    "            Содержит две колонки: с уникальными значениями и счётчиком встреченных. \n",
    "    '''\n",
    "    \n",
    "    return reviews[column].value_counts().reset_index(name='count').rename({'index': column}, axis=1)\n",
    "\n",
    "\n",
    "\n",
    "def filter_reviews(reviews, users=None, orgs=None): \n",
    "    '''\n",
    "    filter_reviews(reviews, users=None, orgs=None)\n",
    "    Оставляет в выборке только отзывы, оставленные заданными пользователями на заданные организации. \n",
    "    \n",
    "    Parameters\n",
    "    ----------\n",
    "        users: pandas.DataFrame, default=None\n",
    "            DataFrame, содержащий колонку <user_id>.\n",
    "            Если None, то фильтрация не происходит. \n",
    "            \n",
    "        orgs: pandas.DataFrame, default=None\n",
    "            DataFrame, содержащий колонку <org_id>.\n",
    "            Если None, то фильтрация не происходит. \n",
    "    \n",
    "    Returns\n",
    "    -------\n",
    "        pandas.DataFrame\n",
    "            Отфильтрованная выборка отзывов. \n",
    "\n",
    "    '''\n",
    "    if users is not None: \n",
    "        reviews = reviews.merge(users, on='user_id', how='inner')\n",
    "        clear_df(reviews)\n",
    "        \n",
    "    if orgs is not None:\n",
    "        reviews = reviews.merge(orgs, on='org_id', how='inner')\n",
    "        clear_df(reviews)\n",
    "        \n",
    "    return reviews\n",
    "\n",
    "\n",
    "def train_test_split(reviews, ts_start, ts_end=None):\n",
    "    '''\n",
    "    train_test_split(reviews, ts_start, ts_end=None)\n",
    "        Разделяет выборку отзывов на две части: обучающую и тестовую. \n",
    "        В тестовую выборку попадают только отзывы с user_id и org_id, встречающимися в обучающей выборке.\n",
    "\n",
    "        Parameters\n",
    "        ----------\n",
    "        reviews : pandas.DataFrame \n",
    "            Отзывы из reviews.csv с обязательными полями:\n",
    "                <rating>, <ts>, <user_id>, <user_city>, <org_id>, <org_city>.\n",
    "\n",
    "        ts_start : int\n",
    "            Первый день отзывов из тестовой выборки (включительно).\n",
    "\n",
    "        ts_end : int, default=None\n",
    "            Последний день отзывов из обучающей выборки (включительно)\n",
    "            Если параметр равен None, то ts_end == reviews['ts'].max(). \n",
    "\n",
    "        Returns\n",
    "        -------\n",
    "        splitting : tuple\n",
    "            Кортеж из двух pandas.DataFrame такой же структуры, как и reviews:\n",
    "            в первом отзывы, попавшие в обучающую выборку, во втором - в тестовую.\n",
    "    '''\n",
    "    \n",
    "    if not ts_end:\n",
    "        ts_end = reviews['ts'].max()\n",
    "    \n",
    "    \n",
    "    reviews_train = reviews[(reviews['ts'] < ts_start) | (reviews['ts'] > ts_end)]\n",
    "    reviews_test = reviews[(ts_start <= reviews['ts']) & (reviews['ts'] <= ts_end)]\n",
    "    \n",
    "    # 1. Выбираем только отзывы на понравившиеся места у путешественников\n",
    "    reviews_test = reviews_test[reviews_test['rating'] >= 4.0]\n",
    "    reviews_test = reviews_test[reviews_test['user_city'] != reviews_test['org_city']]\n",
    "    \n",
    "    # 2. Оставляем в тесте только тех пользователей и организации, которые встречались в трейне\n",
    "    train_orgs = extract_unique(reviews_train, 'org_id')\n",
    "    train_users = extract_unique(reviews_train, 'user_id')\n",
    "    \n",
    "    reviews_test = filter_reviews(reviews_test, orgs=train_orgs)\n",
    "\n",
    "    return reviews_train, reviews_test\n",
    "\n",
    "\n",
    "def process_reviews(reviews):\n",
    "    '''\n",
    "    process_reviews(reviews)\n",
    "        Извлекает из набора отзывов тестовых пользователей и таргет. \n",
    "        \n",
    "        Parameters\n",
    "        ----------\n",
    "        reviews : pandas.DataFrame\n",
    "            DataFrame с отзывами, содержащий колонки <user_id> и <org_id>\n",
    "        \n",
    "        Returns\n",
    "        -------\n",
    "        X : pandas.DataFrame\n",
    "            DataFrame такой же структуры, как и в test_users.csv\n",
    "            \n",
    "        y : pandas.DataFrame\n",
    "            DataFrame с колонками <user_id> и <target>. \n",
    "            В <target> содержится список org_id, посещённых пользователем. \n",
    "    '''\n",
    "    \n",
    "    y = reviews.groupby('user_id')['org_id'].apply(list).reset_index(name='target')\n",
    "    X = pd.DataFrame(y['user_id'])\n",
    "    \n",
    "    return X, y"
   ],
   "outputs": [],
   "metadata": {}
  },
  {
   "cell_type": "code",
   "execution_count": 8,
   "source": [
    "reviews['ts'].max()"
   ],
   "outputs": [
    {
     "output_type": "execute_result",
     "data": {
      "text/plain": [
       "1216"
      ]
     },
     "metadata": {},
     "execution_count": 8
    }
   ],
   "metadata": {}
  },
  {
   "cell_type": "markdown",
   "source": [
    "Всего в выборку попали отызывы за **1216** дней. \n",
    "\n",
    "Отложим в тестовую выборку отзывы за последние **100** дней."
   ],
   "metadata": {}
  },
  {
   "cell_type": "code",
   "execution_count": 9,
   "source": [
    "train_reviews, test_reviews = train_test_split(reviews, 1116)\n",
    "X_test, y_test = process_reviews(test_reviews)"
   ],
   "outputs": [],
   "metadata": {}
  },
  {
   "cell_type": "markdown",
   "source": [
    "Посмотрим, сколько всего уникальных пользователей попало в эту тестовую выборку:"
   ],
   "metadata": {}
  },
  {
   "cell_type": "code",
   "execution_count": 10,
   "source": [
    "len(X_test)"
   ],
   "outputs": [
    {
     "output_type": "execute_result",
     "data": {
      "text/plain": [
       "12044"
      ]
     },
     "metadata": {},
     "execution_count": 10
    }
   ],
   "metadata": {}
  },
  {
   "cell_type": "markdown",
   "source": [
    "# Метрика"
   ],
   "metadata": {}
  },
  {
   "cell_type": "markdown",
   "source": [
    "Метрика принимает на вход два DataFrame, имеющих такую же структуру, как и **y_test**.\n",
    "\n",
    "`print_score` домножает реальное значение метрики на 100 так же, как и в контесте.\n",
    "\n",
    "Подобная имплементация используется для оценки **submission**."
   ],
   "metadata": {}
  },
  {
   "cell_type": "code",
   "execution_count": 11,
   "source": [
    "def MNAP(size=20):\n",
    "    '''\n",
    "    MNAP(size=20)\n",
    "        Создаёт метрику под <size> сделанных предсказаний.\n",
    "        \n",
    "        Parameters\n",
    "        ----------\n",
    "        size : int, default=20\n",
    "            Размер рекомендованной выборки для каждого пользователя\n",
    "        \n",
    "        Returns\n",
    "        -------\n",
    "        func(pd.DataFrame, pd.DataFrame) -> float\n",
    "            Функция, вычисляющая MNAP.\n",
    "        \n",
    "    '''\n",
    "    \n",
    "    assert size >= 1, \"Size must be greater than zero!\"\n",
    "    \n",
    "    def metric(y_true, predictions, size=size):\n",
    "        '''\n",
    "        metric(y_true, predictions, size=size)\n",
    "            Метрика MNAP для двух перемешанных наборов <y_true> и <y_pred>.\n",
    "            \n",
    "            Parameters\n",
    "            ----------\n",
    "            y_true : pd.DataFrame\n",
    "                DataFrame с колонками <user_id> и <target>. \n",
    "                В <target> содержится список настоящих org_id, посещённых пользователем. \n",
    "                \n",
    "            predictions : pd.DataFrame\n",
    "                DataFrame с колонками <user_id> и <target>. \n",
    "                В <target> содержится список рекомендованных для пользователя org_id.\n",
    "                \n",
    "            Returns\n",
    "            -------\n",
    "            float \n",
    "                Значение метрики.\n",
    "        '''\n",
    "        \n",
    "        y_true = y_true.rename({'target': 'y_true'}, axis='columns')\n",
    "        predictions = predictions.rename({'target': 'predictions'}, axis='columns')\n",
    "        \n",
    "        merged = y_true.merge(predictions, left_on='user_id', right_on='user_id')\n",
    "    \n",
    "        def score(x, size=size):\n",
    "            '''\n",
    "            Вспомогательная функция.\n",
    "            '''\n",
    "            \n",
    "            \n",
    "            y_true = x[1][1]\n",
    "            predictions = x[1][2][:size]\n",
    "            \n",
    "            weight = 0\n",
    "            \n",
    "            inner_weights = [0]\n",
    "            for n, item in enumerate(predictions):\n",
    "                inner_weight = inner_weights[-1] + (1 if item in y_true else 0)\n",
    "                inner_weights.append(inner_weight)\n",
    "            \n",
    "            for n, item in enumerate(predictions):                \n",
    "                if item in y_true:\n",
    "                    weight += inner_weights[n + 1] / (n + 1)\n",
    "                    \n",
    "            return weight / min(len(y_true), size)\n",
    "    \n",
    "        return np.mean([score(row) for row in merged.iterrows()])\n",
    "    \n",
    "        \n",
    "    return metric\n",
    "\n",
    "\n",
    "def print_score(score):\n",
    "    print(f\"Score: {score*100.0:.2f}\")\n",
    "    \n",
    "    \n",
    "N = 20\n",
    "MNAP_N = MNAP(N)"
   ],
   "outputs": [],
   "metadata": {}
  },
  {
   "cell_type": "markdown",
   "source": [
    "# Подходы без машинного обучения"
   ],
   "metadata": {}
  },
  {
   "cell_type": "markdown",
   "source": [
    "## Случайные N мест"
   ],
   "metadata": {}
  },
  {
   "cell_type": "markdown",
   "source": [
    "Попробуем предлагать пользователям случайные места из другого города. "
   ],
   "metadata": {}
  },
  {
   "cell_type": "code",
   "execution_count": 12,
   "source": [
    "spb_orgs = orgs[orgs['city'] == 'spb']['org_id']\n",
    "msk_orgs = orgs[orgs['city'] == 'msk']['org_id']\n",
    "\n",
    "test_users_with_locations = X_test.merge(users, on='user_id')"
   ],
   "outputs": [],
   "metadata": {}
  },
  {
   "cell_type": "code",
   "execution_count": 13,
   "source": [
    "%%time\n",
    "\n",
    "np.random.seed(1337)\n",
    "choose = lambda x: np.random.choice(spb_orgs, N) if x['city'] == 'msk' else np.random.choice(msk_orgs, N)\n",
    "target = test_users_with_locations.apply(choose, axis=1)\n",
    "\n",
    "predictions = X_test.copy()\n",
    "predictions['target'] = target\n",
    "\n",
    "print_score(MNAP_N(y_test, predictions))"
   ],
   "outputs": [
    {
     "output_type": "stream",
     "name": "stdout",
     "text": [
      "Score: 0.02\n",
      "CPU times: user 2.2 s, sys: 59.9 ms, total: 2.26 s\n",
      "Wall time: 2.22 s\n"
     ]
    }
   ],
   "metadata": {}
  },
  {
   "cell_type": "markdown",
   "source": [
    "## N самых популярных мест"
   ],
   "metadata": {}
  },
  {
   "cell_type": "markdown",
   "source": [
    "Предыдущий подход, очевидно, не очень удачно предсказывает, какие места посетит пользователей. \n",
    "\n",
    "Попробуем улучшить стратегию: будем предлагать пользователям самые популярные места, то есть те, на которые оставлено больше всего отзывов. "
   ],
   "metadata": {}
  },
  {
   "cell_type": "code",
   "execution_count": 14,
   "source": [
    "msk_orgs = train_reviews[(train_reviews['rating'] >= 4) & (train_reviews['org_city'] == 'msk')]['org_id']\n",
    "msk_orgs = msk_orgs.value_counts().index[:N].to_list()\n",
    "\n",
    "spb_orgs = train_reviews[(train_reviews['rating'] >= 4) & (train_reviews['org_city'] == 'spb')]['org_id']\n",
    "spb_orgs = spb_orgs.value_counts().index[:N].to_list()"
   ],
   "outputs": [],
   "metadata": {}
  },
  {
   "cell_type": "code",
   "execution_count": 15,
   "source": [
    "%%time\n",
    "\n",
    "choose = lambda x: spb_orgs if x['city'] == 'msk' else msk_orgs\n",
    "target = test_users_with_locations.apply(choose, axis=1)\n",
    "\n",
    "predictions = X_test.copy()\n",
    "predictions['target'] = target\n",
    "\n",
    "print_score(MNAP_N(y_test, predictions))"
   ],
   "outputs": [
    {
     "output_type": "stream",
     "name": "stdout",
     "text": [
      "Score: 4.21\n",
      "CPU times: user 637 ms, sys: 9.89 ms, total: 647 ms\n",
      "Wall time: 647 ms\n"
     ]
    }
   ],
   "metadata": {}
  },
  {
   "cell_type": "markdown",
   "source": [
    "Отлично, метрика немного улучшилась. Но стоит попробовать доработать эту тактику. "
   ],
   "metadata": {}
  },
  {
   "cell_type": "markdown",
   "source": [
    "## N самых популярных мест среди туристов"
   ],
   "metadata": {}
  },
  {
   "cell_type": "code",
   "execution_count": 16,
   "source": [
    "tourist_reviews = train_reviews[train_reviews['rating'] >= 4.0]\n",
    "\n",
    "# набор отзывов только от туристов\n",
    "tourist_reviews = tourist_reviews[tourist_reviews['user_city'] != tourist_reviews['org_city']]\n",
    "\n",
    "# выбираем самые популярные места среди туристов из Москвы и Питера\n",
    "msk_orgs = tourist_reviews[tourist_reviews['org_city'] == 'msk']['org_id']\n",
    "msk_orgs = msk_orgs.value_counts().index[:N].to_list()\n",
    "\n",
    "spb_orgs = tourist_reviews[tourist_reviews['org_city'] == 'spb']['org_id']\n",
    "spb_orgs = spb_orgs.value_counts().index[:N].to_list()"
   ],
   "outputs": [],
   "metadata": {}
  },
  {
   "cell_type": "code",
   "execution_count": 17,
   "source": [
    "%%time\n",
    "\n",
    "choose = lambda x: spb_orgs if x['city'] == 'msk' else msk_orgs\n",
    "target = test_users_with_locations.apply(choose, axis=1)\n",
    "\n",
    "predictions = X_test.copy()\n",
    "predictions['target'] = target\n",
    "\n",
    "print_score(MNAP_N(y_test, predictions))"
   ],
   "outputs": [
    {
     "output_type": "stream",
     "name": "stdout",
     "text": [
      "Score: 6.40\n",
      "CPU times: user 652 ms, sys: 5.35 ms, total: 657 ms\n",
      "Wall time: 657 ms\n"
     ]
    }
   ],
   "metadata": {}
  },
  {
   "cell_type": "markdown",
   "source": [
    "Метрика улучшилась ещё немного."
   ],
   "metadata": {}
  },
  {
   "cell_type": "markdown",
   "source": [
    "## N / rubrics_count самых популярных мест из каждой рубрики"
   ],
   "metadata": {}
  },
  {
   "cell_type": "code",
   "execution_count": 18,
   "source": [
    "def extract_top_by_rubrics(reviews, N):\n",
    "    '''\n",
    "    extract_top_by_rubrics(reviews, N)\n",
    "        Набирает самые популярные организации по рубрикам, сохраняя распределение.\n",
    "        \n",
    "        Parameters\n",
    "        ----------\n",
    "        reviews : pd.DataFrame\n",
    "            Отзывы пользователей для рекомендации.\n",
    "            \n",
    "        N : int\n",
    "            Число рекомендаций.\n",
    "        \n",
    "        Returns\n",
    "        -------\n",
    "        orgs_list : list\n",
    "            Список отобранных организаций.\n",
    "    '''\n",
    "    \n",
    "    # извлечение популярных рубрик\n",
    "    reviews = reviews.merge(orgs, on='org_id')[['org_id', 'rubrics_id']]\n",
    "    \n",
    "    rubrics = reviews.explode('rubrics_id').groupby('rubrics_id').size()\n",
    "    rubrics = (rubrics / rubrics.sum() * N).apply(round).sort_values(ascending=False)\n",
    "\n",
    "    # вывод списка рубрик по убыванию популярности\n",
    "#     print(\n",
    "#         pd.read_csv('data/rubrics.csv')\n",
    "#         .merge(rubrics.reset_index(), left_index=True, right_on='rubrics_id')\n",
    "#         .sort_values(by=0, ascending=False)[['rubric_id', 0]]\n",
    "#     )\n",
    "    \n",
    "    # извлечение популярных организаций\n",
    "    train_orgs = reviews.groupby('org_id').size().reset_index(name='count').merge(orgs, on='org_id')\n",
    "    train_orgs = train_orgs[['org_id', 'count', 'rubrics_id']]\n",
    "\n",
    "    most_popular_rubric = lambda rubrics_id: max(rubrics_id, key=lambda rubric_id: rubrics[rubric_id])\n",
    "    train_orgs['rubrics_id'] = train_orgs['rubrics_id'].apply(most_popular_rubric)\n",
    "    \n",
    "    orgs_by_rubrics = train_orgs.sort_values(by='count', ascending=False).groupby('rubrics_id')['org_id'].apply(list)\n",
    "    \n",
    "    # соберём самые популярные организации в рубриках в один список\n",
    "    \n",
    "    orgs_list = []\n",
    "\n",
    "    for rubric_id, count in zip(rubrics.index, rubrics):\n",
    "        if rubric_id not in orgs_by_rubrics:\n",
    "            continue \n",
    "\n",
    "        orgs_list.extend(orgs_by_rubrics[rubric_id][:count])\n",
    "    \n",
    "    return orgs_list\n",
    "\n",
    "\n",
    "msk_orgs = extract_top_by_rubrics(tourist_reviews[tourist_reviews['org_city'] == 'msk'], N)\n",
    "spb_orgs = extract_top_by_rubrics(tourist_reviews[tourist_reviews['org_city'] == 'spb'], N)"
   ],
   "outputs": [],
   "metadata": {}
  },
  {
   "cell_type": "code",
   "execution_count": 19,
   "source": [
    "%%time\n",
    "\n",
    "choose = lambda x: spb_orgs if x['city'] == 'msk' else msk_orgs\n",
    "target = test_users_with_locations.apply(choose, axis=1)\n",
    "\n",
    "predictions = X_test.copy()\n",
    "predictions['target'] = target\n",
    "\n",
    "print_score(MNAP_N(y_test, predictions))"
   ],
   "outputs": [
    {
     "output_type": "stream",
     "name": "stdout",
     "text": [
      "Score: 5.77\n",
      "CPU times: user 642 ms, sys: 5 ms, total: 647 ms\n",
      "Wall time: 647 ms\n"
     ]
    }
   ],
   "metadata": {}
  },
  {
   "cell_type": "markdown",
   "source": [
    "# Время ML! Коллаборативная фильтрация"
   ],
   "metadata": {}
  },
  {
   "cell_type": "markdown",
   "source": [
    "## Memory-based\n",
    "\n",
    "Для этой группы методов требуется явное построение матрицы __пользователь-организация__ (__interaction matrix__), где на пересечении $i$-ой строки и $j$-ого столбца будет рейтинг, который $i$-ый пользователь выставил $j$-ой организации или же пропуск, если рейтинг не был установлен. "
   ],
   "metadata": {}
  },
  {
   "cell_type": "code",
   "execution_count": 20,
   "source": [
    "def reduce_reviews(reviews, min_user_reviews=5, min_org_reviews=13):\n",
    "    '''\n",
    "    reduce_reviews(reviews, min_user_reviews=5, min_org_reviews=13)\n",
    "        Убирает из выборки пользователей и организации, у которых менее <min_reviews> отзывов в родном городе. \n",
    "        Оставляет только отзывы туристов. \n",
    "        \n",
    "        Parameters\n",
    "        ----------\n",
    "        reviews : pandas.DataFrame \n",
    "            Выборка отзывов с обязательными полями:\n",
    "                <user_id>, <user_city>.\n",
    "        \n",
    "        min_user_reviews : int, default=5\n",
    "            Минимальное количество отзывов у пользователя, необходимое для включения в выборку.\n",
    "            \n",
    "        min_org_reviews : int, default=13\n",
    "            Минимальное количество отзывов у организации, необходимое для включения в выборку.\n",
    "            \n",
    "        Returns\n",
    "        -------\n",
    "        splitting : tuple\n",
    "            Кортеж из двух наборов.\n",
    "            Каждый набор содержит 2 pandas.DataFrame:\n",
    "                1. Урезанная выборка отзывов\n",
    "                2. Набор уникальных организаций\n",
    "                \n",
    "            Первый набор содержит DataFrame-ы, относящиеся к отзывам, оставленным в родном городе, а второй -\n",
    "            к отзывам, оставленным в чужом городе. ё\n",
    "            \n",
    "        users : pd.DataFrame\n",
    "            Набор уникальных пользователей в выборке\n",
    "        \n",
    "    '''\n",
    "    \n",
    "    inner_reviews = reviews[reviews['user_city'] == reviews['org_city']]\n",
    "    outer_reviews = reviews[reviews['user_city'] != reviews['org_city']]\n",
    "\n",
    "    # оставляем только отзывы туристов на родной город \n",
    "    tourist_users = extract_unique(outer_reviews, 'user_id')\n",
    "    inner_reviews = filter_reviews(inner_reviews, users=tourist_users)\n",
    "    \n",
    "    # выбираем только тех пользователей и организации, у которых есть <min_reviews> отзывов\n",
    "    top_users = count_unique(inner_reviews, 'user_id')\n",
    "    top_users = top_users[top_users['count'] >= min_user_reviews]\n",
    "        \n",
    "    top_orgs = count_unique(inner_reviews, 'org_id')\n",
    "    top_orgs = top_orgs[top_orgs['count'] >= min_org_reviews]\n",
    "        \n",
    "    inner_reviews = filter_reviews(inner_reviews, users=top_users, orgs=top_orgs)\n",
    "    outer_reviews = filter_reviews(outer_reviews, users=top_users)\n",
    "    \n",
    "    # combine reviews\n",
    "    reviews = pd.concat([inner_reviews, outer_reviews])\n",
    "    users = extract_unique(reviews, 'user_id')\n",
    "    orgs = extract_unique(reviews, 'org_id')\n",
    "    \n",
    "    \n",
    "    return (\n",
    "        (\n",
    "            inner_reviews,\n",
    "            extract_unique(inner_reviews, 'org_id')\n",
    "        ),\n",
    "        (\n",
    "            outer_reviews,\n",
    "            extract_unique(outer_reviews, 'org_id')\n",
    "        ),\n",
    "        extract_unique(inner_reviews, 'user_id')\n",
    "    )"
   ],
   "outputs": [],
   "metadata": {}
  },
  {
   "cell_type": "code",
   "execution_count": 21,
   "source": [
    "def create_mappings(df, column):\n",
    "    '''\n",
    "    create_mappings(df, column)\n",
    "        Создаёт маппинг между оригинальными ключами словаря и новыми порядковыми.\n",
    "        \n",
    "        Parameters\n",
    "        ----------\n",
    "        df : pandas.DataFrame\n",
    "            DataFrame с данными.\n",
    "            \n",
    "        column : str\n",
    "            Название колонки, содержащей нужны ключи. \n",
    "        \n",
    "        Returns\n",
    "        -------\n",
    "        code_to_idx : dict\n",
    "            Словарь с маппингом: \"оригинальный ключ\" -> \"новый ключ\".\n",
    "        \n",
    "        idx_to_code : dict\n",
    "            Словарь с маппингом: \"новый ключ\" -> \"оригинальный ключ\".\n",
    "    '''\n",
    "    \n",
    "    code_to_idx = {}\n",
    "    idx_to_code = {}\n",
    "    \n",
    "    for idx, code in enumerate(df[column].to_list()):\n",
    "        code_to_idx[code] = idx\n",
    "        idx_to_code[idx] = code\n",
    "        \n",
    "    return code_to_idx, idx_to_code\n",
    "\n",
    "\n",
    "def map_ids(row, mapping):\n",
    "    '''\n",
    "    Вспомогательная функция\n",
    "    '''\n",
    "    \n",
    "    return mapping[row]\n",
    "\n",
    "\n",
    "def interaction_matrix(reviews, test_users, min_user_reviews=5, min_org_reviews=12): \n",
    "    '''\n",
    "    interaction_matrix(reviews, test_users, min_user_reviews=5, min_org_reviews=12)\n",
    "        Создаёт блочную матрицу взаимодействий (вид матрицы описан в Returns)\n",
    "        \n",
    "        Parameters\n",
    "        ----------\n",
    "        reviews : pd.DataFrame\n",
    "            Отзывы пользователей для матрицы взаимодействий.\n",
    "            \n",
    "        test_users : pd.DataFrame\n",
    "            Пользователи, для которых будет выполнятся предсказание. \n",
    "        \n",
    "        min_user_reviews : int, default=5\n",
    "            Минимальное число отзывов от пользователя, необходимое для включения его в матрицу.\n",
    "        \n",
    "        min_org_reviews : int, default=12\n",
    "            Минимальное число отзывов на организацию, необходимое для включения её в матрицу.\n",
    "    \n",
    "        Returns\n",
    "        -------\n",
    "        InteractionMatrix : scipy.sparse.csr_matrix\n",
    "            Матрица, содержащая рейтинги, выставленные пользователями.\n",
    "            Она блочная и имеет такой вид:\n",
    "                 ---------------------------------------------------\n",
    "                | TRAIN USERS, INNER ORGS | TRAIN USERS, OUTER ORGS |\n",
    "                |                         |                         |\n",
    "                 ---------------------------------------------------\n",
    "                |  TEST USERS, INNER ORGS |  TEST USERS, OUTER ORGS |\n",
    "                |                         |                         |\n",
    "                 ---------------------------------------------------\n",
    "\n",
    "        splitting : tuple\n",
    "            Кортеж, содержащий два целых числа: \n",
    "                1. Число пользователей в обучающей выборке \n",
    "                2. Число организаций в домашнем регионе\n",
    "\n",
    "        splitting: tuple\n",
    "            Кортеж, содержащий два котрежа из двух словарей:\n",
    "                1. (idx_to_uid, uid_to_idx) - содержит маппинг индекса к user_id\n",
    "                2. (idx_to_oid, oid_to_idx) - содержит маппинг индекса к org_id\n",
    "    '''\n",
    "    \n",
    "    \n",
    "    info = reduce_reviews(train_reviews, min_user_reviews, min_org_reviews)\n",
    "    (inner_reviews, inner_orgs), (outer_reviews, outer_orgs), train_users = info\n",
    "    \n",
    "    # удалим из обучающей выборки пользователей, которые есть в тестовой\n",
    "    test_users = test_users[['user_id']]\n",
    "    \n",
    "    train_users = (\n",
    "        pd.merge(train_users, test_users, indicator=True, how='outer')\n",
    "        .query('_merge==\"left_only\"')\n",
    "        .drop('_merge', axis=1)\n",
    "    )\n",
    "    \n",
    "    inner_reviews = filter_reviews(inner_reviews, train_users)\n",
    "    outer_reviews = filter_reviews(outer_reviews, train_users)\n",
    "    \n",
    "    # оставляем отзывы, оставленные тестовыми пользователями\n",
    "    test_reviews = filter_reviews(reviews, test_users, pd.concat([inner_orgs, outer_orgs]))\n",
    "    \n",
    "    # получаем полный набор маппингов\n",
    "    all_users = pd.concat([train_users, test_users])\n",
    "    all_orgs = pd.concat([inner_orgs, outer_orgs])\n",
    "    \n",
    "    uid_to_idx, idx_to_uid = create_mappings(all_users, 'user_id')\n",
    "    oid_to_idx, idx_to_oid = create_mappings(all_orgs, 'org_id')\n",
    "    \n",
    "    # собираем матрицу взаимодействий \n",
    "    reviews = pd.concat([inner_reviews, outer_reviews, test_reviews])    \n",
    "        \n",
    "    I = reviews['user_id'].apply(map_ids, args=[uid_to_idx]).values\n",
    "    J = reviews['org_id'].apply(map_ids, args=[oid_to_idx]).values\n",
    "    values = reviews['rating']\n",
    "        \n",
    "    interactions = sparse.coo_matrix(\n",
    "        (values, (I, J)), \n",
    "        shape=(len(all_users), len(all_orgs)), \n",
    "        dtype=np.float64\n",
    "    ).tocsr()\n",
    "    \n",
    "    \n",
    "    return (\n",
    "        interactions, \n",
    "        (len(train_users), len(inner_orgs)), \n",
    "        (\n",
    "            (idx_to_uid, uid_to_idx),\n",
    "            (idx_to_oid, oid_to_idx)\n",
    "        )\n",
    "    )"
   ],
   "outputs": [],
   "metadata": {}
  },
  {
   "cell_type": "markdown",
   "source": [
    "## ALS"
   ],
   "metadata": {}
  },
  {
   "cell_type": "code",
   "execution_count": 22,
   "source": [
    "%%time\n",
    "\n",
    "\n",
    "import implicit\n",
    "\n",
    "\n",
    "def make_predictions(interactions, X_test, N):\n",
    "    '''\n",
    "    make_predictions(interactions, X_test, N)\n",
    "        Делает рекомендации для пользователей из <X_test> на основе матрицы взаимодействий. \n",
    "        \n",
    "        Parameters\n",
    "        ----------\n",
    "        interactions : scipy.sparse.csr_matrix\n",
    "            Разреженная матрица взаимодействий.\n",
    "            \n",
    "        X_test : pd.DataFrame\n",
    "            Набор тестовых пользователей, для которых нужно сделать рекомендации. \n",
    "        \n",
    "        N : int\n",
    "            Число рекомендаций для каждого пользователя. \n",
    "        \n",
    "        Returns\n",
    "        -------\n",
    "        predictions : pd.DataFrame\n",
    "            DataFrame с колонками <user_id> и <target>. \n",
    "            В <target> содержится список рекомендованных для пользователя org_id.\n",
    "        \n",
    "        \n",
    "    '''\n",
    "    \n",
    "    predictions = X_test[['user_id']].copy()\n",
    "    predictions['target'] = pd.Series(dtype=object)\n",
    "    predictions = predictions.set_index('user_id')\n",
    "    \n",
    "    interactions, (train_users_len, inner_orgs_len), mappings = interactions\n",
    "    (idx_to_uid, uid_to_idx), (idx_to_oid, oid_to_idx) = mappings\n",
    "\n",
    "    base_model = implicit.als.AlternatingLeastSquares(\n",
    "        factors=5, \n",
    "        iterations=75, \n",
    "        regularization=0.05, \n",
    "        random_state=42\n",
    "    )\n",
    "    \n",
    "    base_model.fit(interactions.T)\n",
    "    \n",
    "    orgs_to_filter = list(np.arange(inner_orgs_len))\n",
    "\n",
    "    recommendations = base_model.recommend_all(\n",
    "        interactions,\n",
    "        N=N,\n",
    "        filter_already_liked_items=True,\n",
    "        filter_items=orgs_to_filter,\n",
    "        show_progress=True\n",
    "    )\n",
    "    \n",
    "    for user_id in tqdm(X_test['user_id'].values, leave=False):\n",
    "        predictions.loc[user_id, 'target'] = list(\n",
    "            map(\n",
    "                lambda org_idx: idx_to_oid[org_idx], \n",
    "                recommendations[uid_to_idx[user_id]]\n",
    "            )\n",
    "        )\n",
    "        \n",
    "    return predictions.reset_index()\n",
    "\n",
    "\n",
    "msk_interactions = interaction_matrix(\n",
    "    train_reviews[train_reviews['user_city'] == 'msk'],\n",
    "    test_users_with_locations[test_users_with_locations['city'] == 'msk'],\n",
    ")\n",
    "\n",
    "spb_interactions = interaction_matrix(\n",
    "    train_reviews[train_reviews['user_city'] == 'spb'],\n",
    "    test_users_with_locations[test_users_with_locations['city'] == 'spb'],\n",
    ")       \n",
    "        \n",
    "test_msk_users = test_users_with_locations[test_users_with_locations['city'] == 'msk']\n",
    "test_spb_users = test_users_with_locations[test_users_with_locations['city'] == 'spb']\n",
    "\n",
    "msk_predictions = make_predictions(msk_interactions, test_msk_users, N)\n",
    "spb_predictions = make_predictions(spb_interactions, test_spb_users, N)\n",
    "\n",
    "predictions = pd.concat([msk_predictions, spb_predictions])"
   ],
   "outputs": [
    {
     "output_type": "stream",
     "name": "stderr",
     "text": [
      "WARNING:root:Intel MKL BLAS detected. Its highly recommend to set the environment variable 'export MKL_NUM_THREADS=1' to disable its internal multithreading\n"
     ]
    },
    {
     "output_type": "display_data",
     "data": {
      "text/plain": [
       "  0%|          | 0/75 [00:00<?, ?it/s]"
      ],
      "application/vnd.jupyter.widget-view+json": {
       "model_id": "c1ba59ce692b400c9bfd5c415699b4ba",
       "version_major": 2,
       "version_minor": 0
      }
     },
     "metadata": {}
    },
    {
     "output_type": "display_data",
     "data": {
      "text/plain": [
       "  0%|          | 0/32242 [00:00<?, ?it/s]"
      ],
      "application/vnd.jupyter.widget-view+json": {
       "model_id": "3204a7e53c654c73bab13f6adb2eae85",
       "version_major": 2,
       "version_minor": 0
      }
     },
     "metadata": {}
    },
    {
     "output_type": "display_data",
     "data": {
      "text/plain": [
       "  0%|          | 0/9545 [00:00<?, ?it/s]"
      ],
      "application/vnd.jupyter.widget-view+json": {
       "model_id": "",
       "version_major": 2,
       "version_minor": 0
      }
     },
     "metadata": {}
    },
    {
     "output_type": "display_data",
     "data": {
      "text/plain": [
       "  0%|          | 0/75 [00:00<?, ?it/s]"
      ],
      "application/vnd.jupyter.widget-view+json": {
       "model_id": "dd3d090b6d404c2e959d94f2119c10ec",
       "version_major": 2,
       "version_minor": 0
      }
     },
     "metadata": {}
    },
    {
     "output_type": "display_data",
     "data": {
      "text/plain": [
       "  0%|          | 0/25789 [00:00<?, ?it/s]"
      ],
      "application/vnd.jupyter.widget-view+json": {
       "model_id": "4d09cbaed2e84e7d9d86598aa60ea625",
       "version_major": 2,
       "version_minor": 0
      }
     },
     "metadata": {}
    },
    {
     "output_type": "display_data",
     "data": {
      "text/plain": [
       "  0%|          | 0/2499 [00:00<?, ?it/s]"
      ],
      "application/vnd.jupyter.widget-view+json": {
       "model_id": "",
       "version_major": 2,
       "version_minor": 0
      }
     },
     "metadata": {}
    },
    {
     "output_type": "stream",
     "name": "stdout",
     "text": [
      "CPU times: user 1min 52s, sys: 1.97 s, total: 1min 54s\n",
      "Wall time: 34.6 s\n"
     ]
    }
   ],
   "metadata": {
    "scrolled": true
   }
  },
  {
   "cell_type": "code",
   "execution_count": 23,
   "source": [
    "%%time\n",
    "\n",
    "print_score(MNAP_N(y_test, predictions))"
   ],
   "outputs": [
    {
     "output_type": "stream",
     "name": "stdout",
     "text": [
      "Score: 0.85\n",
      "CPU times: user 592 ms, sys: 12.3 ms, total: 604 ms\n",
      "Wall time: 607 ms\n"
     ]
    }
   ],
   "metadata": {}
  },
  {
   "cell_type": "markdown",
   "source": [
    "# Submission\n",
    "\n",
    "Выберем лучший метод на валидации, переобучим его на всей выборке и сделаем предсказание на тестовой выборке. "
   ],
   "metadata": {}
  },
  {
   "cell_type": "markdown",
   "source": [
    "## Without ML"
   ],
   "metadata": {}
  },
  {
   "cell_type": "code",
   "execution_count": 24,
   "source": [
    "# набор отзывов только от туристов\n",
    "tourist_reviews = reviews[reviews['rating'] >= 4.0]\n",
    "tourist_reviews = tourist_reviews[tourist_reviews['user_city'] != tourist_reviews['org_city']]\n",
    "\n",
    "# выбираем самые популярные места среди туристов из Москвы и Питера\n",
    "msk_orgs = tourist_reviews[tourist_reviews['org_city'] == 'msk']['org_id']\n",
    "msk_orgs = msk_orgs.value_counts().index[:N].to_list()\n",
    "\n",
    "spb_orgs = tourist_reviews[tourist_reviews['org_city'] == 'spb']['org_id']\n",
    "spb_orgs = spb_orgs.value_counts().index[:N].to_list()\n",
    "\n",
    "\n",
    "msk_orgs = str(' '.join(map(str, msk_orgs)))\n",
    "spb_orgs = str(' '.join(map(str, spb_orgs)))"
   ],
   "outputs": [],
   "metadata": {}
  },
  {
   "cell_type": "code",
   "execution_count": 25,
   "source": [
    "test_users = pd.read_csv('data/test_users.csv')\n",
    "test_users['city'] = test_users.merge(users, on='user_id')['city']"
   ],
   "outputs": [],
   "metadata": {}
  },
  {
   "cell_type": "code",
   "execution_count": 26,
   "source": [
    "choose = lambda x: spb_orgs if x['city'] == 'msk' else msk_orgs\n",
    "target = test_users.apply(choose, axis=1)\n",
    "\n",
    "predictions = test_users[['user_id']]\n",
    "predictions['target'] = target\n",
    "\n",
    "predictions.head()"
   ],
   "outputs": [
    {
     "output_type": "execute_result",
     "data": {
      "text/plain": [
       "                user_id                                             target\n",
       "0   3545210947248911048  12046097390037935713 5002407858008059043 14814...\n",
       "1  15271987121288045390  12046097390037935713 5002407858008059043 14814...\n",
       "2  15016858616184265932  12046097390037935713 5002407858008059043 14814...\n",
       "3  12457244142928722989  12046097390037935713 5002407858008059043 14814...\n",
       "4  13339684649926251468  15250345250621165867 13573322486152844808 9104..."
      ],
      "text/html": [
       "<div>\n",
       "<style scoped>\n",
       "    .dataframe tbody tr th:only-of-type {\n",
       "        vertical-align: middle;\n",
       "    }\n",
       "\n",
       "    .dataframe tbody tr th {\n",
       "        vertical-align: top;\n",
       "    }\n",
       "\n",
       "    .dataframe thead th {\n",
       "        text-align: right;\n",
       "    }\n",
       "</style>\n",
       "<table border=\"1\" class=\"dataframe\">\n",
       "  <thead>\n",
       "    <tr style=\"text-align: right;\">\n",
       "      <th></th>\n",
       "      <th>user_id</th>\n",
       "      <th>target</th>\n",
       "    </tr>\n",
       "  </thead>\n",
       "  <tbody>\n",
       "    <tr>\n",
       "      <th>0</th>\n",
       "      <td>3545210947248911048</td>\n",
       "      <td>12046097390037935713 5002407858008059043 14814...</td>\n",
       "    </tr>\n",
       "    <tr>\n",
       "      <th>1</th>\n",
       "      <td>15271987121288045390</td>\n",
       "      <td>12046097390037935713 5002407858008059043 14814...</td>\n",
       "    </tr>\n",
       "    <tr>\n",
       "      <th>2</th>\n",
       "      <td>15016858616184265932</td>\n",
       "      <td>12046097390037935713 5002407858008059043 14814...</td>\n",
       "    </tr>\n",
       "    <tr>\n",
       "      <th>3</th>\n",
       "      <td>12457244142928722989</td>\n",
       "      <td>12046097390037935713 5002407858008059043 14814...</td>\n",
       "    </tr>\n",
       "    <tr>\n",
       "      <th>4</th>\n",
       "      <td>13339684649926251468</td>\n",
       "      <td>15250345250621165867 13573322486152844808 9104...</td>\n",
       "    </tr>\n",
       "  </tbody>\n",
       "</table>\n",
       "</div>"
      ]
     },
     "metadata": {},
     "execution_count": 26
    }
   ],
   "metadata": {}
  },
  {
   "cell_type": "code",
   "execution_count": 27,
   "source": [
    "predictions.to_csv('answers.csv', index=None)"
   ],
   "outputs": [],
   "metadata": {}
  },
  {
   "cell_type": "markdown",
   "source": [
    "## With ML"
   ],
   "metadata": {}
  },
  {
   "cell_type": "code",
   "execution_count": 28,
   "source": [
    "test_users = pd.read_csv('data/test_users.csv')\n",
    "test_users = test_users.merge(users, on='user_id')\n",
    "\n",
    "\n",
    "test_msk_users = test_users[test_users['city'] == 'msk'][['user_id', 'city']]\n",
    "test_spb_users = test_users[test_users['city'] == 'spb'][['user_id', 'city']]\n",
    "\n",
    "\n",
    "msk_interactions = interaction_matrix(\n",
    "    reviews[reviews['user_city'] == 'msk'],\n",
    "    test_msk_users\n",
    ")\n",
    "\n",
    "spb_interactions = interaction_matrix(\n",
    "    reviews[reviews['user_city'] == 'spb'],\n",
    "    test_spb_users\n",
    ")\n",
    "\n",
    "msk_predictions = make_predictions(msk_interactions, test_msk_users, N)\n",
    "spb_predictions = make_predictions(spb_interactions, test_spb_users, N)\n",
    "\n",
    "predictions = pd.concat([msk_predictions, spb_predictions])"
   ],
   "outputs": [
    {
     "output_type": "display_data",
     "data": {
      "text/plain": [
       "  0%|          | 0/75 [00:00<?, ?it/s]"
      ],
      "application/vnd.jupyter.widget-view+json": {
       "model_id": "af2b602ccc934dd9bbc13cf18d446b80",
       "version_major": 2,
       "version_minor": 0
      }
     },
     "metadata": {}
    },
    {
     "output_type": "display_data",
     "data": {
      "text/plain": [
       "  0%|          | 0/36615 [00:00<?, ?it/s]"
      ],
      "application/vnd.jupyter.widget-view+json": {
       "model_id": "4b38a1a3c5b8410d923db3fb843bdd5d",
       "version_major": 2,
       "version_minor": 0
      }
     },
     "metadata": {}
    },
    {
     "output_type": "display_data",
     "data": {
      "text/plain": [
       "  0%|          | 0/14638 [00:00<?, ?it/s]"
      ],
      "application/vnd.jupyter.widget-view+json": {
       "model_id": "",
       "version_major": 2,
       "version_minor": 0
      }
     },
     "metadata": {}
    },
    {
     "output_type": "display_data",
     "data": {
      "text/plain": [
       "  0%|          | 0/75 [00:00<?, ?it/s]"
      ],
      "application/vnd.jupyter.widget-view+json": {
       "model_id": "b925d09edfdc45e2a24f2d6294015ad4",
       "version_major": 2,
       "version_minor": 0
      }
     },
     "metadata": {}
    },
    {
     "output_type": "display_data",
     "data": {
      "text/plain": [
       "  0%|          | 0/25547 [00:00<?, ?it/s]"
      ],
      "application/vnd.jupyter.widget-view+json": {
       "model_id": "ec77d0a29ca444b5aaf71c416bdc3026",
       "version_major": 2,
       "version_minor": 0
      }
     },
     "metadata": {}
    },
    {
     "output_type": "display_data",
     "data": {
      "text/plain": [
       "  0%|          | 0/2329 [00:00<?, ?it/s]"
      ],
      "application/vnd.jupyter.widget-view+json": {
       "model_id": "",
       "version_major": 2,
       "version_minor": 0
      }
     },
     "metadata": {}
    }
   ],
   "metadata": {}
  },
  {
   "cell_type": "code",
   "execution_count": 29,
   "source": [
    "predictions['target'] = predictions['target'].apply(lambda orgs: ' '.join(map(str, orgs)))\n",
    "predictions.head()"
   ],
   "outputs": [
    {
     "output_type": "execute_result",
     "data": {
      "text/plain": [
       "                user_id                                             target\n",
       "0   3545210947248911048  10899892390879739444 6556420723466820988 12320...\n",
       "1  15271987121288045390  6755179149394338096 4264897535035612511 133612...\n",
       "2  15016858616184265932  7034326954454250932 14180000520266438941 12018...\n",
       "3  12457244142928722989  7034326954454250932 15250345250621165867 12018...\n",
       "4  16511650156158419042  10899892390879739444 1232005279283743070 15250..."
      ],
      "text/html": [
       "<div>\n",
       "<style scoped>\n",
       "    .dataframe tbody tr th:only-of-type {\n",
       "        vertical-align: middle;\n",
       "    }\n",
       "\n",
       "    .dataframe tbody tr th {\n",
       "        vertical-align: top;\n",
       "    }\n",
       "\n",
       "    .dataframe thead th {\n",
       "        text-align: right;\n",
       "    }\n",
       "</style>\n",
       "<table border=\"1\" class=\"dataframe\">\n",
       "  <thead>\n",
       "    <tr style=\"text-align: right;\">\n",
       "      <th></th>\n",
       "      <th>user_id</th>\n",
       "      <th>target</th>\n",
       "    </tr>\n",
       "  </thead>\n",
       "  <tbody>\n",
       "    <tr>\n",
       "      <th>0</th>\n",
       "      <td>3545210947248911048</td>\n",
       "      <td>10899892390879739444 6556420723466820988 12320...</td>\n",
       "    </tr>\n",
       "    <tr>\n",
       "      <th>1</th>\n",
       "      <td>15271987121288045390</td>\n",
       "      <td>6755179149394338096 4264897535035612511 133612...</td>\n",
       "    </tr>\n",
       "    <tr>\n",
       "      <th>2</th>\n",
       "      <td>15016858616184265932</td>\n",
       "      <td>7034326954454250932 14180000520266438941 12018...</td>\n",
       "    </tr>\n",
       "    <tr>\n",
       "      <th>3</th>\n",
       "      <td>12457244142928722989</td>\n",
       "      <td>7034326954454250932 15250345250621165867 12018...</td>\n",
       "    </tr>\n",
       "    <tr>\n",
       "      <th>4</th>\n",
       "      <td>16511650156158419042</td>\n",
       "      <td>10899892390879739444 1232005279283743070 15250...</td>\n",
       "    </tr>\n",
       "  </tbody>\n",
       "</table>\n",
       "</div>"
      ]
     },
     "metadata": {},
     "execution_count": 29
    }
   ],
   "metadata": {}
  },
  {
   "cell_type": "code",
   "execution_count": 30,
   "source": [
    "predictions.to_csv('answers_ml.csv', index=None)"
   ],
   "outputs": [],
   "metadata": {}
  }
 ],
 "metadata": {
  "jupytercloud": {
   "vault": {
    "secrets": [
     {
      "name": "yt_secrets",
      "uuid": "sec-01fd5qjpw0xwwpv6t83wc41tp8"
     }
    ]
   }
  },
  "kernelspec": {
   "name": "python3",
   "display_name": "Python 3.8.11 64-bit ('recsys_cup': conda)"
  },
  "language_info": {
   "codemirror_mode": {
    "name": "ipython",
    "version": 3
   },
   "file_extension": ".py",
   "mimetype": "text/x-python",
   "name": "python",
   "nbconvert_exporter": "python",
   "pygments_lexer": "ipython3",
   "version": "3.8.11"
  },
  "interpreter": {
   "hash": "23056ff58913a7803f89dc92c4169c42cc8f99c45ed92b495e96d0baa940bb72"
  }
 },
 "nbformat": 4,
 "nbformat_minor": 5
}