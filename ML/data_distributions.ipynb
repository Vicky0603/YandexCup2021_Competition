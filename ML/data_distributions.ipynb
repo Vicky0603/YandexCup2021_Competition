{
 "cells": [
  {
   "cell_type": "code",
   "execution_count": 1,
   "source": [
    "import os\n",
    "import numpy as np\n",
    "import pandas as pd\n",
    "\n",
    "import matplotlib.pyplot as plt\n",
    "import seaborn as sns\n",
    "\n",
    "from scipy import sparse\n",
    "from tqdm import tqdm\n",
    "DATA_ROOT = '../data/raw/YCup2021'\n",
    "NUM_RECOMENDATIONS = 20\n",
    "%matplotlib inline"
   ],
   "outputs": [],
   "metadata": {}
  },
  {
   "cell_type": "markdown",
   "source": [
    "### Сырые данные"
   ],
   "metadata": {}
  },
  {
   "cell_type": "markdown",
   "source": [
    "### Считываем данные из .csv"
   ],
   "metadata": {}
  },
  {
   "cell_type": "markdown",
   "source": [
    "Некоторые данные (такие как рубрики и признаки), представлены строками значений. Преобразуем их в списки чисел. "
   ],
   "metadata": {}
  },
  {
   "cell_type": "code",
   "execution_count": 2,
   "source": [
    "to_list = lambda rubrics: [int(rubric) for rubric in str(rubrics).split(' ')]\n",
    "def apply_to_columns(df, columns, func=to_list):\n",
    "    for column in columns:\n",
    "        df.loc[~df[column].isnull(), column] = df.loc[~df[column].isnull(), column].apply(func)"
   ],
   "outputs": [],
   "metadata": {}
  },
  {
   "cell_type": "markdown",
   "source": [
    "В первую очередь нам понадобятся данные по __пользователям__, __организациям__ и сами __отзывы__. "
   ],
   "metadata": {}
  },
  {
   "cell_type": "code",
   "execution_count": 3,
   "source": [
    "users = pd.read_csv(DATA_ROOT + '/users.csv')\n",
    "users.head()"
   ],
   "outputs": [
    {
     "output_type": "execute_result",
     "data": {
      "text/html": [
       "<div>\n",
       "<style scoped>\n",
       "    .dataframe tbody tr th:only-of-type {\n",
       "        vertical-align: middle;\n",
       "    }\n",
       "\n",
       "    .dataframe tbody tr th {\n",
       "        vertical-align: top;\n",
       "    }\n",
       "\n",
       "    .dataframe thead th {\n",
       "        text-align: right;\n",
       "    }\n",
       "</style>\n",
       "<table border=\"1\" class=\"dataframe\">\n",
       "  <thead>\n",
       "    <tr style=\"text-align: right;\">\n",
       "      <th></th>\n",
       "      <th>user_id</th>\n",
       "      <th>city</th>\n",
       "    </tr>\n",
       "  </thead>\n",
       "  <tbody>\n",
       "    <tr>\n",
       "      <th>0</th>\n",
       "      <td>523295021912509756</td>\n",
       "      <td>msk</td>\n",
       "    </tr>\n",
       "    <tr>\n",
       "      <th>1</th>\n",
       "      <td>11952159487361099606</td>\n",
       "      <td>msk</td>\n",
       "    </tr>\n",
       "    <tr>\n",
       "      <th>2</th>\n",
       "      <td>16879036589969590999</td>\n",
       "      <td>msk</td>\n",
       "    </tr>\n",
       "    <tr>\n",
       "      <th>3</th>\n",
       "      <td>12791716990148606332</td>\n",
       "      <td>msk</td>\n",
       "    </tr>\n",
       "    <tr>\n",
       "      <th>4</th>\n",
       "      <td>11642393216024958726</td>\n",
       "      <td>msk</td>\n",
       "    </tr>\n",
       "  </tbody>\n",
       "</table>\n",
       "</div>"
      ],
      "text/plain": [
       "                user_id city\n",
       "0    523295021912509756  msk\n",
       "1  11952159487361099606  msk\n",
       "2  16879036589969590999  msk\n",
       "3  12791716990148606332  msk\n",
       "4  11642393216024958726  msk"
      ]
     },
     "metadata": {},
     "execution_count": 3
    }
   ],
   "metadata": {}
  },
  {
   "cell_type": "code",
   "execution_count": 4,
   "source": [
    "orgs = pd.read_csv(DATA_ROOT+'/organisations.csv')\n",
    "\n",
    "# create lists\n",
    "columns = ['rubrics_id', 'features_id']\n",
    "apply_to_columns(orgs, columns)\n",
    "\n",
    "orgs.head()"
   ],
   "outputs": [
    {
     "output_type": "execute_result",
     "data": {
      "text/html": [
       "<div>\n",
       "<style scoped>\n",
       "    .dataframe tbody tr th:only-of-type {\n",
       "        vertical-align: middle;\n",
       "    }\n",
       "\n",
       "    .dataframe tbody tr th {\n",
       "        vertical-align: top;\n",
       "    }\n",
       "\n",
       "    .dataframe thead th {\n",
       "        text-align: right;\n",
       "    }\n",
       "</style>\n",
       "<table border=\"1\" class=\"dataframe\">\n",
       "  <thead>\n",
       "    <tr style=\"text-align: right;\">\n",
       "      <th></th>\n",
       "      <th>org_id</th>\n",
       "      <th>city</th>\n",
       "      <th>average_bill</th>\n",
       "      <th>rating</th>\n",
       "      <th>rubrics_id</th>\n",
       "      <th>features_id</th>\n",
       "    </tr>\n",
       "  </thead>\n",
       "  <tbody>\n",
       "    <tr>\n",
       "      <th>0</th>\n",
       "      <td>16848414477362211020</td>\n",
       "      <td>spb</td>\n",
       "      <td>1000.0</td>\n",
       "      <td>4.479702</td>\n",
       "      <td>[30776, 31375]</td>\n",
       "      <td>[1018, 1509, 11177, 11617, 11629, 11704, 11867...</td>\n",
       "    </tr>\n",
       "    <tr>\n",
       "      <th>1</th>\n",
       "      <td>1430604733320164116</td>\n",
       "      <td>spb</td>\n",
       "      <td>1000.0</td>\n",
       "      <td>4.514509</td>\n",
       "      <td>[30776, 30770]</td>\n",
       "      <td>[246, 1018, 11617, 11629, 11704, 11867, 20422,...</td>\n",
       "    </tr>\n",
       "    <tr>\n",
       "      <th>2</th>\n",
       "      <td>9880309324224147401</td>\n",
       "      <td>spb</td>\n",
       "      <td>1000.0</td>\n",
       "      <td>3.884615</td>\n",
       "      <td>[30770, 30774]</td>\n",
       "      <td>[1018, 11177, 11617, 11629, 11704, 11867, 2042...</td>\n",
       "    </tr>\n",
       "    <tr>\n",
       "      <th>3</th>\n",
       "      <td>5617879987171966456</td>\n",
       "      <td>spb</td>\n",
       "      <td>1000.0</td>\n",
       "      <td>NaN</td>\n",
       "      <td>[30774, 30775]</td>\n",
       "      <td>[1018, 1509, 10596, 11177, 11629, 11634, 11704...</td>\n",
       "    </tr>\n",
       "    <tr>\n",
       "      <th>4</th>\n",
       "      <td>5241461680470612149</td>\n",
       "      <td>spb</td>\n",
       "      <td>1000.0</td>\n",
       "      <td>4.532468</td>\n",
       "      <td>[30776]</td>\n",
       "      <td>[1018, 11177, 11617, 11629, 11704, 11867, 2042...</td>\n",
       "    </tr>\n",
       "  </tbody>\n",
       "</table>\n",
       "</div>"
      ],
      "text/plain": [
       "                 org_id city  average_bill    rating      rubrics_id  \\\n",
       "0  16848414477362211020  spb        1000.0  4.479702  [30776, 31375]   \n",
       "1   1430604733320164116  spb        1000.0  4.514509  [30776, 30770]   \n",
       "2   9880309324224147401  spb        1000.0  3.884615  [30770, 30774]   \n",
       "3   5617879987171966456  spb        1000.0       NaN  [30774, 30775]   \n",
       "4   5241461680470612149  spb        1000.0  4.532468         [30776]   \n",
       "\n",
       "                                         features_id  \n",
       "0  [1018, 1509, 11177, 11617, 11629, 11704, 11867...  \n",
       "1  [246, 1018, 11617, 11629, 11704, 11867, 20422,...  \n",
       "2  [1018, 11177, 11617, 11629, 11704, 11867, 2042...  \n",
       "3  [1018, 1509, 10596, 11177, 11629, 11634, 11704...  \n",
       "4  [1018, 11177, 11617, 11629, 11704, 11867, 2042...  "
      ]
     },
     "metadata": {},
     "execution_count": 4
    }
   ],
   "metadata": {}
  },
  {
   "cell_type": "markdown",
   "source": [
    "Чтобы не делать __join__ каждый раз, когда нам потребуется узнать, из какого города организация или пользователь, сразу добавим эту информацию в отзывы."
   ],
   "metadata": {}
  },
  {
   "cell_type": "code",
   "execution_count": 5,
   "source": [
    "reviews = pd.read_csv(DATA_ROOT+'/reviews.csv', low_memory=False)\n",
    "\n",
    "# encode users ids as numeric\n",
    "reviews = reviews.merge(users, on='user_id')\n",
    "reviews = reviews.rename({'city': 'user_city'}, axis=1)\n",
    "\n",
    "# # encode orgs ids as numeric\n",
    "reviews = reviews.merge(orgs[['org_id', 'city']], on='org_id')\n",
    "reviews = reviews.rename({'city': 'org_city'}, axis=1)\n",
    "\n",
    "# # create lists\n",
    "columns = ['aspects']\n",
    "apply_to_columns(reviews, columns)\n",
    "\n",
    "reviews.head()"
   ],
   "outputs": [
    {
     "output_type": "execute_result",
     "data": {
      "text/html": [
       "<div>\n",
       "<style scoped>\n",
       "    .dataframe tbody tr th:only-of-type {\n",
       "        vertical-align: middle;\n",
       "    }\n",
       "\n",
       "    .dataframe tbody tr th {\n",
       "        vertical-align: top;\n",
       "    }\n",
       "\n",
       "    .dataframe thead th {\n",
       "        text-align: right;\n",
       "    }\n",
       "</style>\n",
       "<table border=\"1\" class=\"dataframe\">\n",
       "  <thead>\n",
       "    <tr style=\"text-align: right;\">\n",
       "      <th></th>\n",
       "      <th>user_id</th>\n",
       "      <th>org_id</th>\n",
       "      <th>rating</th>\n",
       "      <th>ts</th>\n",
       "      <th>aspects</th>\n",
       "      <th>user_city</th>\n",
       "      <th>org_city</th>\n",
       "    </tr>\n",
       "  </thead>\n",
       "  <tbody>\n",
       "    <tr>\n",
       "      <th>0</th>\n",
       "      <td>16998268288908323644</td>\n",
       "      <td>7184895086928047809</td>\n",
       "      <td>2.0</td>\n",
       "      <td>105</td>\n",
       "      <td>NaN</td>\n",
       "      <td>msk</td>\n",
       "      <td>msk</td>\n",
       "    </tr>\n",
       "    <tr>\n",
       "      <th>1</th>\n",
       "      <td>3121447338909258868</td>\n",
       "      <td>7184895086928047809</td>\n",
       "      <td>5.0</td>\n",
       "      <td>464</td>\n",
       "      <td>NaN</td>\n",
       "      <td>msk</td>\n",
       "      <td>msk</td>\n",
       "    </tr>\n",
       "    <tr>\n",
       "      <th>2</th>\n",
       "      <td>1970649778250883025</td>\n",
       "      <td>7184895086928047809</td>\n",
       "      <td>3.0</td>\n",
       "      <td>789</td>\n",
       "      <td>NaN</td>\n",
       "      <td>msk</td>\n",
       "      <td>msk</td>\n",
       "    </tr>\n",
       "    <tr>\n",
       "      <th>3</th>\n",
       "      <td>7554889464530643866</td>\n",
       "      <td>7184895086928047809</td>\n",
       "      <td>4.0</td>\n",
       "      <td>936</td>\n",
       "      <td>NaN</td>\n",
       "      <td>msk</td>\n",
       "      <td>msk</td>\n",
       "    </tr>\n",
       "    <tr>\n",
       "      <th>4</th>\n",
       "      <td>15907910894057053620</td>\n",
       "      <td>7184895086928047809</td>\n",
       "      <td>1.0</td>\n",
       "      <td>1143</td>\n",
       "      <td>NaN</td>\n",
       "      <td>msk</td>\n",
       "      <td>msk</td>\n",
       "    </tr>\n",
       "  </tbody>\n",
       "</table>\n",
       "</div>"
      ],
      "text/plain": [
       "                user_id               org_id  rating    ts aspects user_city  \\\n",
       "0  16998268288908323644  7184895086928047809     2.0   105     NaN       msk   \n",
       "1   3121447338909258868  7184895086928047809     5.0   464     NaN       msk   \n",
       "2   1970649778250883025  7184895086928047809     3.0   789     NaN       msk   \n",
       "3   7554889464530643866  7184895086928047809     4.0   936     NaN       msk   \n",
       "4  15907910894057053620  7184895086928047809     1.0  1143     NaN       msk   \n",
       "\n",
       "  org_city  \n",
       "0      msk  \n",
       "1      msk  \n",
       "2      msk  \n",
       "3      msk  \n",
       "4      msk  "
      ]
     },
     "metadata": {},
     "execution_count": 5
    }
   ],
   "metadata": {}
  },
  {
   "cell_type": "markdown",
   "source": [
    "### Парсим рубрики организаций"
   ],
   "metadata": {}
  },
  {
   "cell_type": "code",
   "execution_count": 6,
   "source": [
    "from collections import defaultdict, Counter\n",
    "RUBRICS_MAPPING = defaultdict(lambda : -1)\n",
    "RUBRICS_MAPPING.update(\n",
    "    {\n",
    "        #1)\n",
    "        30519:0, # Булочная, пекарня\n",
    "        31495:0, # Кофейня\n",
    "        31350:0, # Кондитерская\n",
    "        3501750896:0, # Кофе с собой\n",
    "\n",
    "        #2)\n",
    "        30770:1, # \"Бар, паб\"\n",
    "        31286:1, # Спортбар\n",
    "\n",
    "        #3)\n",
    "        30771:2, # Быстрое питание\n",
    "        3501514558:2, # Фудкорт\n",
    "\n",
    "        #4)\n",
    "        30774:3, # Кафе\n",
    "\n",
    "        #5)\n",
    "        30775:4, # Пиццерия\n",
    "        #6)\n",
    "        30776:5, # Ресторан\n",
    "        #7)\n",
    "        30777:6, # Столовая\n",
    "\n",
    "        #8)\n",
    "        31375:7, # Суши-бар\n",
    "        #9)\n",
    "        31401:8, # Кальян-бар\n",
    "        #10)\n",
    "        3108292683:9, # Бар безалкогольных напитков\n",
    "    }\n",
    ")\n",
    "def rubric_mapper(to_single_rubric=True):\n",
    "    def remap_rubrics(rubric_ids):\n",
    "        observed_rubrics = Counter((RUBRICS_MAPPING[rubric_id] for rubric_id in rubric_ids))\n",
    "        if to_single_rubric:\n",
    "            return observed_rubrics.most_common(1)[0][0]\n",
    "        else:\n",
    "            [rubric for rubric, count in observed_rubrics.most_common(3)]\n",
    "    return remap_rubrics\n",
    "RUBRIC_MAPPER = rubric_mapper()\n",
    "orgs_filled_bill = orgs\n",
    "\n",
    "orgs_filled_bill['rubric_id'] = orgs_filled_bill.rubrics_id.apply(RUBRIC_MAPPER)"
   ],
   "outputs": [],
   "metadata": {}
  },
  {
   "cell_type": "markdown",
   "source": [
    "### Заполняем пустые поля среднего чека"
   ],
   "metadata": {}
  },
  {
   "cell_type": "code",
   "execution_count": 7,
   "source": [
    "reviews_at_home = reviews\n",
    "reviews_at_home = reviews_at_home.merge(orgs, on='org_id', how='inner')[['user_id', 'average_bill']].dropna()\n",
    "average_bill_for_user = reviews_at_home.groupby('user_id')['average_bill'].mean()\n",
    "\n",
    "visits_vs_user_cash = reviews.merge(average_bill_for_user, on='user_id', how='inner')\n",
    "visits_vs_user_cash = visits_vs_user_cash.groupby('org_id')['average_bill'].mean()\n",
    "\n",
    "orgs_filled_bill = orgs.copy().merge(visits_vs_user_cash, on='org_id', how='left')\n",
    "\n",
    "completed_bill = orgs_filled_bill['average_bill_x'].where(~orgs_filled_bill.average_bill_x.isna(), orgs_filled_bill.average_bill_y)\n",
    "completed_bill.hist(log=True, bins=50)\n",
    "completed_bill.quantile(0.95)\n",
    "orgs_filled_bill['average_bill'] = completed_bill"
   ],
   "outputs": [
    {
     "output_type": "display_data",
     "data": {
      "image/png": "[encoded data removed]",
      "text/plain": [
       "<Figure size 432x288 with 1 Axes>"
      ]
     },
     "metadata": {
      "needs_background": "light"
     }
    }
   ],
   "metadata": {}
  },
  {
   "cell_type": "markdown",
   "source": [
    "###  Исследование распределения данных"
   ],
   "metadata": {}
  },
  {
   "cell_type": "markdown",
   "source": [
    "#### Посмотрим на распределение новых отзывов по дням, чтобы понять, как лучше организовать валидацию. \n",
    "\n",
    "\n"
   ],
   "metadata": {}
  },
  {
   "cell_type": "code",
   "execution_count": 8,
   "source": [
    "sns.displot(data=reviews, x='ts', height=8)\n",
    "plt.title('Распределение отзывов по дням')\n",
    "plt.show()"
   ],
   "outputs": [
    {
     "output_type": "display_data",
     "data": {
      "image/png": "[encoded data removed]",
      "text/plain": [
       "<Figure size 576x576 with 1 Axes>"
      ]
     },
     "metadata": {
      "needs_background": "light"
     }
    }
   ],
   "metadata": {}
  },
  {
   "cell_type": "markdown",
   "source": [
    "#### Все типы заведений, кроме безалкогольных баров распространены приблизительно одинаково"
   ],
   "metadata": {}
  },
  {
   "cell_type": "code",
   "execution_count": 9,
   "source": [
    "orgs_filled_bill['rubric_id'].hist(log=True, bins=50)"
   ],
   "outputs": [
    {
     "output_type": "execute_result",
     "data": {
      "text/plain": [
       "<AxesSubplot:>"
      ]
     },
     "metadata": {},
     "execution_count": 9
    },
    {
     "output_type": "display_data",
     "data": {
      "image/png": "[encoded data removed]",
      "text/plain": [
       "<Figure size 432x288 with 1 Axes>"
      ]
     },
     "metadata": {
      "needs_background": "light"
     }
    }
   ],
   "metadata": {}
  },
  {
   "cell_type": "code",
   "execution_count": 10,
   "source": [
    "orgs_prep = orgs_filled_bill"
   ],
   "outputs": [],
   "metadata": {}
  },
  {
   "cell_type": "markdown",
   "source": [
    "#### Больша часть пользователей оставила только 1-2 отзыва. Это значит, что им не посоветовать ничего конкретного. Остается работать с пользователями у которых 5 и больше отызвов. Таких 142 000"
   ],
   "metadata": {}
  },
  {
   "cell_type": "code",
   "execution_count": 11,
   "source": [
    "reviews_at_home = reviews[(reviews['org_city'] == reviews['user_city'])]\n",
    "\n",
    "reviews_at_home = reviews_at_home.groupby('user_id')['org_id'].count()#.sort_values(ascending=False).head(15)\n",
    "reviews_at_home.hist(log=True, bins=50)\n",
    "print(len(reviews_at_home[reviews_at_home>=5].dropna()))"
   ],
   "outputs": [
    {
     "output_type": "stream",
     "name": "stdout",
     "text": [
      "181642\n"
     ]
    },
    {
     "output_type": "display_data",
     "data": {
      "image/png": "[encoded data removed]",
      "text/plain": [
       "<Figure size 432x288 with 1 Axes>"
      ]
     },
     "metadata": {
      "needs_background": "light"
     }
    }
   ],
   "metadata": {}
  },
  {
   "cell_type": "code",
   "execution_count": 12,
   "source": [
    "reviews_at_home = reviews#[(train_reviews['org_city'] == train_reviews['user_city'])]\n",
    "reviews_at_home = reviews_at_home.merge(orgs, on='org_id', how='inner')[['org_id', 'average_bill']].dropna()\n",
    "reviews_at_home = reviews_at_home.groupby('org_id')['average_bill'].max()#.sort_values(ascending=False).head(15)\n",
    "reviews_at_home = reviews_at_home[reviews_at_home<=reviews_at_home.quantile(0.999)]\n",
    "reviews_at_home.hist(log=True, bins=50)\n",
    "print(reviews_at_home.quantile(0.99))"
   ],
   "outputs": [
    {
     "output_type": "stream",
     "name": "stdout",
     "text": [
      "3500.0\n"
     ]
    },
    {
     "output_type": "display_data",
     "data": {
      "image/png": "[encoded data removed]",
      "text/plain": [
       "<Figure size 432x288 with 1 Axes>"
      ]
     },
     "metadata": {
      "needs_background": "light"
     }
    }
   ],
   "metadata": {}
  },
  {
   "cell_type": "markdown",
   "source": [
    "#### 99% чеков - до 3500 руб"
   ],
   "metadata": {}
  },
  {
   "cell_type": "code",
   "execution_count": 13,
   "source": [
    "reviews_at_home = reviews#[(train_reviews['org_city'] == train_reviews['user_city'])]\n",
    "reviews_at_home = reviews_at_home.merge(orgs, on='org_id', how='inner')[['user_id', 'average_bill']].dropna()\n",
    "average_bill_for_user = reviews_at_home.groupby('user_id')['average_bill'].mean()#.sort_values(ascending=False).head(15)\n",
    "# reviews_at_home = reviews_at_home[reviews_at_home<=reviews_at_home.quantile(0.999)]\n",
    "# average_bill_for_user.hist(log=True, bins=50)\n",
    "visits_vs_user_cash = reviews.merge(average_bill_for_user, on='user_id', how='inner')\n",
    "visits_vs_user_cash = visits_vs_user_cash.groupby('org_id')['average_bill'].mean()\n",
    "visits_vs_user_cash.hist(log=True, bins=40)\n"
   ],
   "outputs": [
    {
     "output_type": "execute_result",
     "data": {
      "text/plain": [
       "<AxesSubplot:>"
      ]
     },
     "metadata": {},
     "execution_count": 13
    },
    {
     "output_type": "display_data",
     "data": {
      "image/png": "[encoded data removed]",
      "text/plain": [
       "<Figure size 432x288 with 1 Axes>"
      ]
     },
     "metadata": {
      "needs_background": "light"
     }
    }
   ],
   "metadata": {}
  },
  {
   "cell_type": "markdown",
   "source": [
    "#### Распределение организаций по среднему чеку\n",
    "Большая часть орагнизаций работают с чеком до 5k"
   ],
   "metadata": {}
  },
  {
   "cell_type": "code",
   "execution_count": 14,
   "source": [
    "orgs_filled_bill = orgs.copy().merge(visits_vs_user_cash, on='org_id', how='left')\n",
    "# bill_col = orgs_filled_bill['average_bill']\n",
    "completed_bill = orgs_filled_bill['average_bill_x'].where(~orgs_filled_bill.average_bill_x.isna(), orgs_filled_bill.average_bill_y)\n",
    "completed_bill.hist(log=True, bins=50)\n",
    "completed_bill.quantile(0.95)\n",
    "orgs_filled_bill['average_bill'] = completed_bill"
   ],
   "outputs": [
    {
     "output_type": "display_data",
     "data": {
      "image/png": "[encoded data removed]",
      "text/plain": [
       "<Figure size 432x288 with 1 Axes>"
      ]
     },
     "metadata": {
      "needs_background": "light"
     }
    }
   ],
   "metadata": {}
  },
  {
   "cell_type": "markdown",
   "source": [
    "#### Распределение юзов по количеству отзывов\n",
    "У 80% юзов до 3х отзывов. Это значит, что 80% пользователей можно советовать только по массовой статистике.\n",
    "И массовые отзывы можно использовать для накопления инфы и рекомендаций заведений тем, кто оставляет больше отзывов и инфы о себе"
   ],
   "metadata": {}
  },
  {
   "cell_type": "code",
   "execution_count": 15,
   "source": [
    "best_reviews_at_home = reviews[(reviews['rating'] >= 4) & (reviews['org_city'] == reviews['user_city'])]\n",
    "best_reviews_at_home = best_reviews_at_home.merge(orgs, on='org_id', how='inner')\n",
    "\n",
    "best_reviews_at_home['rubric_id'] = best_reviews_at_home['rubrics_id'].apply(RUBRIC_MAPPER)\n",
    "best_reviews_by_user = best_reviews_at_home.groupby('user_id')['org_id'].count()#.sort_values(ascending=False).head(15)\n",
    "best_reviews_by_user.hist(log=True, bins=50)\n",
    "print(best_reviews_by_user.quantile(0.80))"
   ],
   "outputs": [
    {
     "output_type": "stream",
     "name": "stdout",
     "text": [
      "3.0\n"
     ]
    },
    {
     "output_type": "display_data",
     "data": {
      "image/png": "[encoded data removed]",
      "text/plain": [
       "<Figure size 432x288 with 1 Axes>"
      ]
     },
     "metadata": {
      "needs_background": "light"
     }
    }
   ],
   "metadata": {}
  },
  {
   "cell_type": "markdown",
   "source": [
    "#### Ищу временные зависимости в данных. Средний чек зависит от дня недели, но это слишком большое усреднение"
   ],
   "metadata": {}
  },
  {
   "cell_type": "code",
   "execution_count": 16,
   "source": [
    "ts_vs_bill = reviews.merge(orgs_filled_bill, on='org_id', how='inner')[['ts', 'average_bill']]\n",
    "ts_vs_bill['ts'] = ts_vs_bill['ts']%7\n",
    "ts_vs_bill.groupby('ts')['average_bill'].mean().plot()"
   ],
   "outputs": [
    {
     "output_type": "execute_result",
     "data": {
      "text/plain": [
       "<AxesSubplot:xlabel='ts'>"
      ]
     },
     "metadata": {},
     "execution_count": 16
    },
    {
     "output_type": "display_data",
     "data": {
      "image/png": "[encoded data removed]",
      "text/plain": [
       "<Figure size 432x288 with 1 Axes>"
      ]
     },
     "metadata": {
      "needs_background": "light"
     }
    }
   ],
   "metadata": {}
  },
  {
   "cell_type": "markdown",
   "source": [
    "#### распределение отрицательных отзывов по юзам\n",
    "отрицательных отзывов меньше положительных"
   ],
   "metadata": {}
  },
  {
   "cell_type": "code",
   "execution_count": 17,
   "source": [
    "worst_reviews_at_home = reviews[(reviews['rating'] < 4) & (reviews['org_city'] == reviews['user_city'])]\n",
    "worst_reviews_at_home = worst_reviews_at_home.merge(orgs, on='org_id', how='inner')\n",
    "\n",
    "worst_reviews_at_home['rubric_id'] = worst_reviews_at_home['rubrics_id'].apply(RUBRIC_MAPPER)\n",
    "worst_reviews_at_home = worst_reviews_at_home.groupby('user_id')['org_id'].count()#.sort_values(ascending=False).head(15)\n",
    "worst_reviews_at_home.hist(log=True, bins=50)\n",
    "print(worst_reviews_at_home.quantile(0.8))"
   ],
   "outputs": [
    {
     "output_type": "stream",
     "name": "stdout",
     "text": [
      "2.0\n"
     ]
    },
    {
     "output_type": "display_data",
     "data": {
      "image/png": "[encoded data removed]",
      "text/plain": [
       "<Figure size 432x288 with 1 Axes>"
      ]
     },
     "metadata": {
      "needs_background": "light"
     }
    }
   ],
   "metadata": {}
  },
  {
   "cell_type": "code",
   "execution_count": 18,
   "source": [
    "num_reviews_range = (10,100)\n",
    "review_tracks = reviews.groupby('org_id')['ts']\n",
    "review_counters = review_tracks.count()\n",
    "review_tracks = review_counters[review_counters > num_reviews_range[0]]\n",
    "# review_tracks = reviews[reviews.org_id.isin(review_tracks.index)].groupby('org_id')['ts']\n"
   ],
   "outputs": [],
   "metadata": {}
  }
 ],
 "metadata": {
  "orig_nbformat": 4,
  "language_info": {
   "name": "python",
   "version": "3.8.11",
   "mimetype": "text/x-python",
   "codemirror_mode": {
    "name": "ipython",
    "version": 3
   },
   "pygments_lexer": "ipython3",
   "nbconvert_exporter": "python",
   "file_extension": ".py"
  },
  "kernelspec": {
   "name": "python3",
   "display_name": "Python 3.8.11 64-bit ('recsys_cup': conda)"
  },
  "interpreter": {
   "hash": "23056ff58913a7803f89dc92c4169c42cc8f99c45ed92b495e96d0baa940bb72"
  }
 },
 "nbformat": 4,
 "nbformat_minor": 2
}