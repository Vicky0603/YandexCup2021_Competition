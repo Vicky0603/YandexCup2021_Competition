{
 "cells": [
  {
   "cell_type": "code",
   "execution_count": 4,
   "source": [
    "import os\n",
    "import numpy as np\n",
    "import pandas as pd\n",
    "\n",
    "import matplotlib.pyplot as plt\n",
    "import seaborn as sns\n",
    "\n",
    "from scipy import sparse\n",
    "from tqdm import tqdm\n",
    "DATA_ROOT = '../data/raw/YCup2021'\n",
    "NUM_RECOMENDATIONS = 20\n",
    "%matplotlib inline"
   ],
   "outputs": [],
   "metadata": {}
  },
  {
   "cell_type": "markdown",
   "source": [
    "### Сырые данные"
   ],
   "metadata": {}
  },
  {
   "cell_type": "markdown",
   "source": [
    "### Считываем данные из .csv"
   ],
   "metadata": {}
  },
  {
   "cell_type": "markdown",
   "source": [
    "Некоторые данные (такие как рубрики и признаки), представлены строками значений. Преобразуем их в списки чисел. "
   ],
   "metadata": {}
  },
  {
   "cell_type": "code",
   "execution_count": 5,
   "source": [
    "to_list = lambda rubrics: [int(rubric) for rubric in str(rubrics).split(' ')]\n",
    "def apply_to_columns(df, columns, func=to_list):\n",
    "    for column in columns:\n",
    "        df.loc[~df[column].isnull(), column] = df.loc[~df[column].isnull(), column].apply(func)"
   ],
   "outputs": [],
   "metadata": {}
  },
  {
   "cell_type": "markdown",
   "source": [
    "В первую очередь нам понадобятся данные по __пользователям__, __организациям__ и сами __отзывы__. "
   ],
   "metadata": {}
  },
  {
   "cell_type": "code",
   "execution_count": 6,
   "source": [
    "users = pd.read_csv(DATA_ROOT + '/users.csv')\n",
    "users.head()"
   ],
   "outputs": [
    {
     "output_type": "execute_result",
     "data": {
      "text/html": [
       "<div>\n",
       "<style scoped>\n",
       "    .dataframe tbody tr th:only-of-type {\n",
       "        vertical-align: middle;\n",
       "    }\n",
       "\n",
       "    .dataframe tbody tr th {\n",
       "        vertical-align: top;\n",
       "    }\n",
       "\n",
       "    .dataframe thead th {\n",
       "        text-align: right;\n",
       "    }\n",
       "</style>\n",
       "<table border=\"1\" class=\"dataframe\">\n",
       "  <thead>\n",
       "    <tr style=\"text-align: right;\">\n",
       "      <th></th>\n",
       "      <th>user_id</th>\n",
       "      <th>city</th>\n",
       "    </tr>\n",
       "  </thead>\n",
       "  <tbody>\n",
       "    <tr>\n",
       "      <th>0</th>\n",
       "      <td>523295021912509756</td>\n",
       "      <td>msk</td>\n",
       "    </tr>\n",
       "    <tr>\n",
       "      <th>1</th>\n",
       "      <td>11952159487361099606</td>\n",
       "      <td>msk</td>\n",
       "    </tr>\n",
       "    <tr>\n",
       "      <th>2</th>\n",
       "      <td>16879036589969590999</td>\n",
       "      <td>msk</td>\n",
       "    </tr>\n",
       "    <tr>\n",
       "      <th>3</th>\n",
       "      <td>12791716990148606332</td>\n",
       "      <td>msk</td>\n",
       "    </tr>\n",
       "    <tr>\n",
       "      <th>4</th>\n",
       "      <td>11642393216024958726</td>\n",
       "      <td>msk</td>\n",
       "    </tr>\n",
       "  </tbody>\n",
       "</table>\n",
       "</div>"
      ],
      "text/plain": [
       "                user_id city\n",
       "0    523295021912509756  msk\n",
       "1  11952159487361099606  msk\n",
       "2  16879036589969590999  msk\n",
       "3  12791716990148606332  msk\n",
       "4  11642393216024958726  msk"
      ]
     },
     "metadata": {},
     "execution_count": 6
    }
   ],
   "metadata": {}
  },
  {
   "cell_type": "code",
   "execution_count": 7,
   "source": [
    "orgs = pd.read_csv(DATA_ROOT+'/organisations.csv')\n",
    "\n",
    "# create lists\n",
    "columns = ['rubrics_id', 'features_id']\n",
    "apply_to_columns(orgs, columns)\n",
    "\n",
    "orgs.head()"
   ],
   "outputs": [
    {
     "output_type": "execute_result",
     "data": {
      "text/html": [
       "<div>\n",
       "<style scoped>\n",
       "    .dataframe tbody tr th:only-of-type {\n",
       "        vertical-align: middle;\n",
       "    }\n",
       "\n",
       "    .dataframe tbody tr th {\n",
       "        vertical-align: top;\n",
       "    }\n",
       "\n",
       "    .dataframe thead th {\n",
       "        text-align: right;\n",
       "    }\n",
       "</style>\n",
       "<table border=\"1\" class=\"dataframe\">\n",
       "  <thead>\n",
       "    <tr style=\"text-align: right;\">\n",
       "      <th></th>\n",
       "      <th>org_id</th>\n",
       "      <th>city</th>\n",
       "      <th>average_bill</th>\n",
       "      <th>rating</th>\n",
       "      <th>rubrics_id</th>\n",
       "      <th>features_id</th>\n",
       "    </tr>\n",
       "  </thead>\n",
       "  <tbody>\n",
       "    <tr>\n",
       "      <th>0</th>\n",
       "      <td>16848414477362211020</td>\n",
       "      <td>spb</td>\n",
       "      <td>1000.0</td>\n",
       "      <td>4.479702</td>\n",
       "      <td>[30776, 31375]</td>\n",
       "      <td>[1018, 1509, 11177, 11617, 11629, 11704, 11867...</td>\n",
       "    </tr>\n",
       "    <tr>\n",
       "      <th>1</th>\n",
       "      <td>1430604733320164116</td>\n",
       "      <td>spb</td>\n",
       "      <td>1000.0</td>\n",
       "      <td>4.514509</td>\n",
       "      <td>[30776, 30770]</td>\n",
       "      <td>[246, 1018, 11617, 11629, 11704, 11867, 20422,...</td>\n",
       "    </tr>\n",
       "    <tr>\n",
       "      <th>2</th>\n",
       "      <td>9880309324224147401</td>\n",
       "      <td>spb</td>\n",
       "      <td>1000.0</td>\n",
       "      <td>3.884615</td>\n",
       "      <td>[30770, 30774]</td>\n",
       "      <td>[1018, 11177, 11617, 11629, 11704, 11867, 2042...</td>\n",
       "    </tr>\n",
       "    <tr>\n",
       "      <th>3</th>\n",
       "      <td>5617879987171966456</td>\n",
       "      <td>spb</td>\n",
       "      <td>1000.0</td>\n",
       "      <td>NaN</td>\n",
       "      <td>[30774, 30775]</td>\n",
       "      <td>[1018, 1509, 10596, 11177, 11629, 11634, 11704...</td>\n",
       "    </tr>\n",
       "    <tr>\n",
       "      <th>4</th>\n",
       "      <td>5241461680470612149</td>\n",
       "      <td>spb</td>\n",
       "      <td>1000.0</td>\n",
       "      <td>4.532468</td>\n",
       "      <td>[30776]</td>\n",
       "      <td>[1018, 11177, 11617, 11629, 11704, 11867, 2042...</td>\n",
       "    </tr>\n",
       "  </tbody>\n",
       "</table>\n",
       "</div>"
      ],
      "text/plain": [
       "                 org_id city  average_bill    rating      rubrics_id  \\\n",
       "0  16848414477362211020  spb        1000.0  4.479702  [30776, 31375]   \n",
       "1   1430604733320164116  spb        1000.0  4.514509  [30776, 30770]   \n",
       "2   9880309324224147401  spb        1000.0  3.884615  [30770, 30774]   \n",
       "3   5617879987171966456  spb        1000.0       NaN  [30774, 30775]   \n",
       "4   5241461680470612149  spb        1000.0  4.532468         [30776]   \n",
       "\n",
       "                                         features_id  \n",
       "0  [1018, 1509, 11177, 11617, 11629, 11704, 11867...  \n",
       "1  [246, 1018, 11617, 11629, 11704, 11867, 20422,...  \n",
       "2  [1018, 11177, 11617, 11629, 11704, 11867, 2042...  \n",
       "3  [1018, 1509, 10596, 11177, 11629, 11634, 11704...  \n",
       "4  [1018, 11177, 11617, 11629, 11704, 11867, 2042...  "
      ]
     },
     "metadata": {},
     "execution_count": 7
    }
   ],
   "metadata": {}
  },
  {
   "cell_type": "markdown",
   "source": [
    "Чтобы не делать __join__ каждый раз, когда нам потребуется узнать, из какого города организация или пользователь, сразу добавим эту информацию в отзывы."
   ],
   "metadata": {}
  },
  {
   "cell_type": "code",
   "execution_count": 8,
   "source": [
    "reviews = pd.read_csv(DATA_ROOT+'/reviews.csv', low_memory=False)\n",
    "\n",
    "# encode users ids as numeric\n",
    "reviews = reviews.merge(users, on='user_id')\n",
    "reviews = reviews.rename({'city': 'user_city'}, axis=1)\n",
    "\n",
    "# # encode orgs ids as numeric\n",
    "reviews = reviews.merge(orgs[['org_id', 'city']], on='org_id')\n",
    "reviews = reviews.rename({'city': 'org_city'}, axis=1)\n",
    "\n",
    "# # create lists\n",
    "columns = ['aspects']\n",
    "apply_to_columns(reviews, columns)\n",
    "\n",
    "reviews.head()"
   ],
   "outputs": [
    {
     "output_type": "execute_result",
     "data": {
      "text/html": [
       "<div>\n",
       "<style scoped>\n",
       "    .dataframe tbody tr th:only-of-type {\n",
       "        vertical-align: middle;\n",
       "    }\n",
       "\n",
       "    .dataframe tbody tr th {\n",
       "        vertical-align: top;\n",
       "    }\n",
       "\n",
       "    .dataframe thead th {\n",
       "        text-align: right;\n",
       "    }\n",
       "</style>\n",
       "<table border=\"1\" class=\"dataframe\">\n",
       "  <thead>\n",
       "    <tr style=\"text-align: right;\">\n",
       "      <th></th>\n",
       "      <th>user_id</th>\n",
       "      <th>org_id</th>\n",
       "      <th>rating</th>\n",
       "      <th>ts</th>\n",
       "      <th>aspects</th>\n",
       "      <th>user_city</th>\n",
       "      <th>org_city</th>\n",
       "    </tr>\n",
       "  </thead>\n",
       "  <tbody>\n",
       "    <tr>\n",
       "      <th>0</th>\n",
       "      <td>16998268288908323644</td>\n",
       "      <td>7184895086928047809</td>\n",
       "      <td>2.0</td>\n",
       "      <td>105</td>\n",
       "      <td>NaN</td>\n",
       "      <td>msk</td>\n",
       "      <td>msk</td>\n",
       "    </tr>\n",
       "    <tr>\n",
       "      <th>1</th>\n",
       "      <td>3121447338909258868</td>\n",
       "      <td>7184895086928047809</td>\n",
       "      <td>5.0</td>\n",
       "      <td>464</td>\n",
       "      <td>NaN</td>\n",
       "      <td>msk</td>\n",
       "      <td>msk</td>\n",
       "    </tr>\n",
       "    <tr>\n",
       "      <th>2</th>\n",
       "      <td>1970649778250883025</td>\n",
       "      <td>7184895086928047809</td>\n",
       "      <td>3.0</td>\n",
       "      <td>789</td>\n",
       "      <td>NaN</td>\n",
       "      <td>msk</td>\n",
       "      <td>msk</td>\n",
       "    </tr>\n",
       "    <tr>\n",
       "      <th>3</th>\n",
       "      <td>7554889464530643866</td>\n",
       "      <td>7184895086928047809</td>\n",
       "      <td>4.0</td>\n",
       "      <td>936</td>\n",
       "      <td>NaN</td>\n",
       "      <td>msk</td>\n",
       "      <td>msk</td>\n",
       "    </tr>\n",
       "    <tr>\n",
       "      <th>4</th>\n",
       "      <td>15907910894057053620</td>\n",
       "      <td>7184895086928047809</td>\n",
       "      <td>1.0</td>\n",
       "      <td>1143</td>\n",
       "      <td>NaN</td>\n",
       "      <td>msk</td>\n",
       "      <td>msk</td>\n",
       "    </tr>\n",
       "  </tbody>\n",
       "</table>\n",
       "</div>"
      ],
      "text/plain": [
       "                user_id               org_id  rating    ts aspects user_city  \\\n",
       "0  16998268288908323644  7184895086928047809     2.0   105     NaN       msk   \n",
       "1   3121447338909258868  7184895086928047809     5.0   464     NaN       msk   \n",
       "2   1970649778250883025  7184895086928047809     3.0   789     NaN       msk   \n",
       "3   7554889464530643866  7184895086928047809     4.0   936     NaN       msk   \n",
       "4  15907910894057053620  7184895086928047809     1.0  1143     NaN       msk   \n",
       "\n",
       "  org_city  \n",
       "0      msk  \n",
       "1      msk  \n",
       "2      msk  \n",
       "3      msk  \n",
       "4      msk  "
      ]
     },
     "metadata": {},
     "execution_count": 8
    }
   ],
   "metadata": {}
  },
  {
   "cell_type": "markdown",
   "source": [
    "### Парсим рубрики организаций"
   ],
   "metadata": {}
  },
  {
   "cell_type": "code",
   "execution_count": null,
   "source": [
    "from collections import defaultdict, Counter\n",
    "RUBRICS_MAPPING = defaultdict(lambda : -1)\n",
    "RUBRICS_MAPPING.update(\n",
    "    {\n",
    "        #1)\n",
    "        30519:0, # Булочная, пекарня\n",
    "        31495:0, # Кофейня\n",
    "        31350:0, # Кондитерская\n",
    "        3501750896:0, # Кофе с собой\n",
    "\n",
    "        #2)\n",
    "        30770:1, # \"Бар, паб\"\n",
    "        31286:1, # Спортбар\n",
    "\n",
    "        #3)\n",
    "        30771:2, # Быстрое питание\n",
    "        3501514558:2, # Фудкорт\n",
    "\n",
    "        #4)\n",
    "        30774:3, # Кафе\n",
    "\n",
    "        #5)\n",
    "        30775:4, # Пиццерия\n",
    "        #6)\n",
    "        30776:5, # Ресторан\n",
    "        #7)\n",
    "        30777:6, # Столовая\n",
    "\n",
    "        #8)\n",
    "        31375:7, # Суши-бар\n",
    "        #9)\n",
    "        31401:8, # Кальян-бар\n",
    "        #10)\n",
    "        3108292683:9, # Бар безалкогольных напитков\n",
    "    }\n",
    ")\n",
    "def rubric_mapper(to_single_rubric=True):\n",
    "    def remap_rubrics(rubric_ids):\n",
    "        observed_rubrics = Counter((RUBRICS_MAPPING[rubric_id] for rubric_id in rubric_ids))\n",
    "        if to_single_rubric:\n",
    "            return observed_rubrics.most_common(1)[0][0]\n",
    "        else:\n",
    "            [rubric for rubric, count in observed_rubrics.most_common(3)]\n",
    "    return remap_rubrics\n",
    "RUBRIC_MAPPER = rubric_mapper()\n",
    "orgs_filled_bill = orgs\n",
    "\n",
    "orgs_filled_bill['rubric_id'] = orgs_filled_bill.rubrics_id.apply(RUBRIC_MAPPER)"
   ],
   "outputs": [],
   "metadata": {}
  },
  {
   "cell_type": "markdown",
   "source": [
    "### Заполняем пустые поля среднего чека"
   ],
   "metadata": {}
  },
  {
   "cell_type": "code",
   "execution_count": null,
   "source": [
    "reviews_at_home = train_reviews\n",
    "reviews_at_home = reviews_at_home.merge(orgs, on='org_id', how='inner')[['user_id', 'average_bill']].dropna()\n",
    "average_bill_for_user = reviews_at_home.groupby('user_id')['average_bill'].mean()\n",
    "\n",
    "visits_vs_user_cash = train_reviews.merge(average_bill_for_user, on='user_id', how='inner')\n",
    "visits_vs_user_cash = visits_vs_user_cash.groupby('org_id')['average_bill'].mean()\n",
    "\n",
    "orgs_filled_bill = orgs.copy().merge(visits_vs_user_cash, on='org_id', how='left')\n",
    "\n",
    "completed_bill = orgs_filled_bill['average_bill_x'].where(~orgs_filled_bill.average_bill_x.isna(), orgs_filled_bill.average_bill_y)\n",
    "completed_bill.hist(log=True, bins=50)\n",
    "completed_bill.quantile(0.95)\n",
    "orgs_filled_bill['average_bill'] = completed_bill"
   ],
   "outputs": [],
   "metadata": {}
  },
  {
   "cell_type": "markdown",
   "source": [
    "### Сплит данных"
   ],
   "metadata": {}
  },
  {
   "cell_type": "code",
   "execution_count": 10,
   "source": [
    "from sklearn.model_selection import train_test_split\n",
    "def train_val_split(reviews):\n",
    "    reviews = reviews.sort_values('ts')\n",
    "    # ts_split = 800\n",
    "    # reviews_train, reviews_test = reviews[reviews.ts <  ts_split], reviews[reviews.ts >=  ts_split]   \n",
    "\n",
    "    val_size = 0.20\n",
    "    # reviews = reviews.sort_values('')\n",
    "    reviews_train, reviews_test = train_test_split(reviews, test_size=val_size, shuffle=False)\n",
    "\n",
    "    reviews_test = reviews_test[reviews_test.user_city != reviews_test.org_city]\n",
    "    reviews_test = reviews_test[reviews_test.rating >= MIN_POSITIVE_RATE]\n",
    "\n",
    "    train_users = set(reviews_train.user_id.unique())\n",
    "    reviews_test = reviews_test[reviews_test.user_id.isin(train_users)]\n",
    "\n",
    "    train_orgs = set(reviews_train.org_id.unique())\n",
    "    reviews_test = reviews_test[reviews_test.org_id.isin(train_orgs)]\n",
    "\n",
    "    return reviews_train, reviews_test\n",
    "    \n",
    "def extract_targets(reviews):\n",
    "    y = reviews.groupby('user_id')['org_id'].apply(list).reset_index(name='target')\n",
    "    x = pd.DataFrame(y['user_id'])\n",
    "    return x,y\n"
   ],
   "outputs": [],
   "metadata": {}
  },
  {
   "cell_type": "markdown",
   "source": [
    "### Метрика"
   ],
   "metadata": {}
  },
  {
   "cell_type": "code",
   "execution_count": 11,
   "source": [
    "MIN_POSITIVE_RATE = 4.0\n",
    "def MNAP(size):\n",
    "    assert size >= 1, \"Size must be greater, than zero!\"\n",
    "    def metric(y_true, predictions, size=size):\n",
    "            y_true = y_true.rename({'target': 'y_true'}, axis='columns')\n",
    "            predictions = predictions.rename({'target': 'predictions'}, axis='columns')\n",
    "            merged = y_true.merge(predictions, left_on='user_id', right_on='user_id')\n",
    "\n",
    "            def score(x):\n",
    "                \n",
    "                y_true = x.y_true\n",
    "                predictions = x.predictions[:size]\n",
    "                weight = 0\n",
    "                \n",
    "                inner_weights = [0]\n",
    "                for n, item in enumerate(predictions):\n",
    "                    inner_weight = inner_weights[-1] + (1 if item in y_true else 0)\n",
    "                    inner_weights.append(inner_weight)\n",
    "                \n",
    "                for n, item in enumerate(predictions):                \n",
    "                    if item in y_true:\n",
    "                        weight += inner_weights[n + 1] / (n + 1)\n",
    "                        \n",
    "                return weight / min(len(y_true), size)\n",
    "           \n",
    "            return np.mean([score(row) for row in merged.iloc])\n",
    "    return metric\n",
    "MNAP_20 = MNAP(NUM_RECOMENDATIONS)\n",
    "\n"
   ],
   "outputs": [],
   "metadata": {}
  },
  {
   "cell_type": "code",
   "execution_count": 12,
   "source": [
    "def MNAP(size=20):\n",
    "    '''\n",
    "    MNAP(size=20)\n",
    "        Создаёт метрику под <size> сделанных предсказаний.\n",
    "        \n",
    "        Parameters\n",
    "        ----------\n",
    "        size : int, default=20\n",
    "            Размер рекомендованной выборки для каждого пользователя\n",
    "        \n",
    "        Returns\n",
    "        -------\n",
    "        func(pd.DataFrame, pd.DataFrame) -> float\n",
    "            Функция, вычисляющая MNAP.\n",
    "        \n",
    "    '''\n",
    "    \n",
    "    assert size >= 1, \"Size must be greater than zero!\"\n",
    "    \n",
    "    def metric(y_true, predictions, size=size):\n",
    "        '''\n",
    "        metric(y_true, predictions, size=size)\n",
    "            Метрика MNAP для двух перемешанных наборов <y_true> и <y_pred>.\n",
    "            \n",
    "            Parameters\n",
    "            ----------\n",
    "            y_true : pd.DataFrame\n",
    "                DataFrame с колонками <user_id> и <target>. \n",
    "                В <target> содержится список настоящих org_id, посещённых пользователем. \n",
    "                \n",
    "            predictions : pd.DataFrame\n",
    "                DataFrame с колонками <user_id> и <target>. \n",
    "                В <target> содержится список рекомендованных для пользователя org_id.\n",
    "                \n",
    "            Returns\n",
    "            -------\n",
    "            float \n",
    "                Значение метрики.\n",
    "        '''\n",
    "        \n",
    "        y_true = y_true.rename({'target': 'y_true'}, axis='columns')\n",
    "        predictions = predictions.rename({'target': 'predictions'}, axis='columns')\n",
    "        \n",
    "        merged = y_true.merge(predictions, left_on='user_id', right_on='user_id')\n",
    "    \n",
    "        def score(x, size=size):\n",
    "            '''\n",
    "            Вспомогательная функция.\n",
    "            '''            \n",
    "            y_true = x[1][1]\n",
    "            predictions = x[1][2][:size]\n",
    "            \n",
    "            weight = 0\n",
    "            \n",
    "            inner_weights = [0]\n",
    "            for n, item in enumerate(predictions):\n",
    "                inner_weight = inner_weights[-1] + (1 if item in y_true else 0)\n",
    "                inner_weights.append(inner_weight)\n",
    "            \n",
    "            for n, item in enumerate(predictions):                \n",
    "                if item in y_true:\n",
    "                    weight += inner_weights[n + 1] / (n + 1)\n",
    "                    \n",
    "            return weight / min(len(y_true), size)\n",
    "    \n",
    "        return np.mean([score(row) for row in merged.iterrows()])\n",
    "    \n",
    "        \n",
    "    return metric\n",
    "\n",
    "\n",
    "def print_score(score):\n",
    "    print(f\"Score: {score*100.0:.2f}\")\n",
    "    \n",
    "    \n",
    "N = 20\n",
    "MNAP_N = MNAP(N)"
   ],
   "outputs": [],
   "metadata": {}
  },
  {
   "cell_type": "markdown",
   "source": [
    "###  Исследование распределения данных"
   ],
   "metadata": {}
  },
  {
   "cell_type": "markdown",
   "source": [
    "#### Посмотрим на распределение новых отзывов по дням, чтобы понять, как лучше организовать валидацию. \n",
    "\n",
    "\n"
   ],
   "metadata": {}
  },
  {
   "cell_type": "code",
   "execution_count": 9,
   "source": [
    "sns.displot(data=reviews, x='ts', height=8)\n",
    "plt.title('Распределение отзывов по дням')\n",
    "plt.show()"
   ],
   "outputs": [
    {
     "output_type": "display_data",
     "data": {
      "image/png": "[encoded data removed]",
      "text/plain": [
       "<Figure size 576x576 with 1 Axes>"
      ]
     },
     "metadata": {
      "needs_background": "light"
     }
    }
   ],
   "metadata": {}
  },
  {
   "cell_type": "markdown",
   "source": [
    "#### Все типы заведений, кроме безалкогольных баров распространены приблизительно одинаково"
   ],
   "metadata": {}
  },
  {
   "cell_type": "code",
   "execution_count": 273,
   "source": [
    "orgs_filled_bill['rubric_id'].hist(log=True, bins=50)"
   ],
   "outputs": [
    {
     "output_type": "execute_result",
     "data": {
      "text/plain": [
       "<AxesSubplot:>"
      ]
     },
     "metadata": {},
     "execution_count": 273
    },
    {
     "output_type": "display_data",
     "data": {
      "image/png": "[encoded data removed]",
      "text/plain": [
       "<Figure size 432x288 with 1 Axes>"
      ]
     },
     "metadata": {
      "needs_background": "light"
     }
    }
   ],
   "metadata": {}
  },
  {
   "cell_type": "code",
   "execution_count": 274,
   "source": [
    "orgs_prep = orgs_filled_bill"
   ],
   "outputs": [],
   "metadata": {}
  },
  {
   "cell_type": "markdown",
   "source": [
    "#### Больша часть пользователей оставила только 1-2 отзыва. Это значит, что им не посоветовать ничего конкретного. Остается работать с пользователями у которых 5 и больше отызвов. Таких 142 000"
   ],
   "metadata": {}
  },
  {
   "cell_type": "code",
   "execution_count": 212,
   "source": [
    "reviews_at_home = train_reviews[(train_reviews['org_city'] == train_reviews['user_city'])]\n",
    "\n",
    "reviews_at_home = reviews_at_home.groupby('user_id')['org_id'].count()#.sort_values(ascending=False).head(15)\n",
    "reviews_at_home.hist(log=True, bins=50)\n",
    "print(len(reviews_at_home[reviews_at_home>=5].dropna()))"
   ],
   "outputs": [
    {
     "output_type": "stream",
     "name": "stdout",
     "text": [
      "142946\n"
     ]
    },
    {
     "output_type": "display_data",
     "data": {
      "image/png": "[encoded data removed]",
      "text/plain": [
       "<Figure size 432x288 with 1 Axes>"
      ]
     },
     "metadata": {
      "needs_background": "light"
     }
    }
   ],
   "metadata": {}
  },
  {
   "cell_type": "code",
   "execution_count": 213,
   "source": [
    "reviews_at_home = train_reviews#[(train_reviews['org_city'] == train_reviews['user_city'])]\n",
    "reviews_at_home = reviews_at_home.merge(orgs, on='org_id', how='inner')[['org_id', 'average_bill']].dropna()\n",
    "reviews_at_home = reviews_at_home.groupby('org_id')['average_bill'].max()#.sort_values(ascending=False).head(15)\n",
    "reviews_at_home = reviews_at_home[reviews_at_home<=reviews_at_home.quantile(0.999)]\n",
    "reviews_at_home.hist(log=True, bins=50)\n",
    "print(reviews_at_home.quantile(0.99))"
   ],
   "outputs": [
    {
     "output_type": "stream",
     "name": "stdout",
     "text": [
      "3500.0\n"
     ]
    },
    {
     "output_type": "display_data",
     "data": {
      "image/png": "[encoded data removed]",
      "text/plain": [
       "<Figure size 432x288 with 1 Axes>"
      ]
     },
     "metadata": {
      "needs_background": "light"
     }
    }
   ],
   "metadata": {}
  },
  {
   "cell_type": "markdown",
   "source": [
    "#### 99% чеков - до 3500 руб"
   ],
   "metadata": {}
  },
  {
   "cell_type": "code",
   "execution_count": 101,
   "source": [
    "reviews_at_home = train_reviews#[(train_reviews['org_city'] == train_reviews['user_city'])]\n",
    "reviews_at_home = reviews_at_home.merge(orgs, on='org_id', how='inner')[['user_id', 'average_bill']].dropna()\n",
    "average_bill_for_user = reviews_at_home.groupby('user_id')['average_bill'].mean()#.sort_values(ascending=False).head(15)\n",
    "# reviews_at_home = reviews_at_home[reviews_at_home<=reviews_at_home.quantile(0.999)]\n",
    "# average_bill_for_user.hist(log=True, bins=50)\n",
    "visits_vs_user_cash = train_reviews.merge(average_bill_for_user, on='user_id', how='inner')\n",
    "visits_vs_user_cash = visits_vs_user_cash.groupby('org_id')['average_bill'].mean()\n",
    "visits_vs_user_cash.hist(log=True, bins=40)\n"
   ],
   "outputs": [
    {
     "output_type": "execute_result",
     "data": {
      "text/plain": [
       "<AxesSubplot:>"
      ]
     },
     "metadata": {},
     "execution_count": 101
    },
    {
     "output_type": "display_data",
     "data": {
      "image/png": "[encoded data removed]",
      "text/plain": [
       "<Figure size 432x288 with 1 Axes>"
      ]
     },
     "metadata": {
      "needs_background": "light"
     }
    }
   ],
   "metadata": {}
  },
  {
   "cell_type": "markdown",
   "source": [
    "#### Распределение организаций по среднему чеку\n",
    "Большая часть орагнизаций работают с чеком до 5k"
   ],
   "metadata": {}
  },
  {
   "cell_type": "code",
   "execution_count": 215,
   "source": [
    "orgs_filled_bill = orgs.copy().merge(visits_vs_user_cash, on='org_id', how='left')\n",
    "# bill_col = orgs_filled_bill['average_bill']\n",
    "completed_bill = orgs_filled_bill['average_bill_x'].where(~orgs_filled_bill.average_bill_x.isna(), orgs_filled_bill.average_bill_y)\n",
    "completed_bill.hist(log=True, bins=50)\n",
    "completed_bill.quantile(0.95)\n",
    "orgs_filled_bill['average_bill'] = completed_bill"
   ],
   "outputs": [
    {
     "output_type": "display_data",
     "data": {
      "image/png": "[encoded data removed]",
      "text/plain": [
       "<Figure size 432x288 with 1 Axes>"
      ]
     },
     "metadata": {
      "needs_background": "light"
     }
    }
   ],
   "metadata": {}
  },
  {
   "cell_type": "markdown",
   "source": [
    "#### Распределение юзов по количеству отзывов\n",
    "У 80% юзов до 3х отзывов. Это значит, что 80% пользователей можно советовать только по массовой статистике.\n",
    "И массовые отзывы можно использовать для накопления инфы и рекомендаций заведений тем, кто оставляет больше отзывов и инфы о себе"
   ],
   "metadata": {}
  },
  {
   "cell_type": "code",
   "execution_count": 220,
   "source": [
    "best_reviews_at_home = train_reviews[(train_reviews['rating'] >= 4) & (train_reviews['org_city'] == train_reviews['user_city'])]\n",
    "best_reviews_at_home = best_reviews_at_home.merge(orgs, on='org_id', how='inner')\n",
    "\n",
    "best_reviews_at_home['rubric_id'] = best_reviews_at_home['rubrics_id'].apply(rubric_mapper_to_single)\n",
    "best_reviews_by_user = best_reviews_at_home.groupby('user_id')['org_id'].count()#.sort_values(ascending=False).head(15)\n",
    "best_reviews_by_user.hist(log=True, bins=50)\n",
    "print(best_reviews_by_user.quantile(0.80))"
   ],
   "outputs": [
    {
     "output_type": "stream",
     "name": "stdout",
     "text": [
      "3.0\n"
     ]
    },
    {
     "output_type": "display_data",
     "data": {
      "image/png": "[encoded data removed]",
      "text/plain": [
       "<Figure size 432x288 with 1 Axes>"
      ]
     },
     "metadata": {
      "needs_background": "light"
     }
    }
   ],
   "metadata": {}
  },
  {
   "cell_type": "markdown",
   "source": [
    "#### Ищу временные зависимости в данных. Средний чек зависит от дня недели, но это слишком большое усреднение"
   ],
   "metadata": {}
  },
  {
   "cell_type": "code",
   "execution_count": 126,
   "source": [
    "ts_vs_bill = train_reviews.merge(orgs_filled_bill, on='org_id', how='inner')[['ts', 'average_bill']]\n",
    "ts_vs_bill['ts'] = ts_vs_bill['ts']%7\n",
    "ts_vs_bill.groupby('ts')['average_bill'].mean().plot()"
   ],
   "outputs": [
    {
     "output_type": "execute_result",
     "data": {
      "text/plain": [
       "<AxesSubplot:xlabel='ts'>"
      ]
     },
     "metadata": {},
     "execution_count": 126
    },
    {
     "output_type": "display_data",
     "data": {
      "image/png": "[encoded data removed]",
      "text/plain": [
       "<Figure size 432x288 with 1 Axes>"
      ]
     },
     "metadata": {
      "needs_background": "light"
     }
    }
   ],
   "metadata": {}
  },
  {
   "cell_type": "markdown",
   "source": [
    "#### распределение отрицательных отзывов по юзам\n",
    "отрицательных отзывов меньше положительных"
   ],
   "metadata": {}
  },
  {
   "cell_type": "code",
   "execution_count": 478,
   "source": [
    "worst_reviews_at_home = train_reviews[(train_reviews['rating'] < 4) & (train_reviews['org_city'] == train_reviews['user_city'])]\n",
    "worst_reviews_at_home = worst_reviews_at_home.merge(orgs, on='org_id', how='inner')\n",
    "\n",
    "worst_reviews_at_home['rubric_id'] = worst_reviews_at_home['rubrics_id'].apply(rubric_mapper_to_single)\n",
    "worst_reviews_at_home = worst_reviews_at_home.groupby('user_id')['org_id'].count()#.sort_values(ascending=False).head(15)\n",
    "worst_reviews_at_home.hist(log=True, bins=50)\n",
    "print(worst_reviews_at_home.quantile(0.8))"
   ],
   "outputs": [
    {
     "output_type": "stream",
     "name": "stdout",
     "text": [
      "2.0\n"
     ]
    },
    {
     "output_type": "display_data",
     "data": {
      "image/png": "[encoded data removed]",
      "text/plain": [
       "<Figure size 432x288 with 1 Axes>"
      ]
     },
     "metadata": {
      "needs_background": "light"
     }
    }
   ],
   "metadata": {}
  },
  {
   "cell_type": "markdown",
   "source": [
    "### Подбор периода, по которому лучше всего считать рейтинги\n",
    "Получилось, что наилучшая метрика достигается при обучении за период в 365*0.65 = 237 дней (7-8 месяцев)"
   ],
   "metadata": {}
  },
  {
   "cell_type": "markdown",
   "source": [
    "\n",
    "По этим признакам подобрать в новом городе заведения с наибольшим числом общих признаков. Взять топ-10 \n",
    "по среднему рейтингу, взять еще топ-10 других заведений по общему рейтингу. Создать топ-20 попеременно чередуя заведения из двух рейтингов\n",
    "\n",
    "\n",
    "\n",
    "\n",
    "\n"
   ],
   "metadata": {}
  },
  {
   "cell_type": "code",
   "execution_count": 460,
   "source": [
    "# orgs_filled_bill\n",
    "data_observation_length = np.linspace(0.1,2,num=15)\n",
    "metric_per_period = np.zeros(data_observation_length.shape)\n",
    "for i, length in enumerate(data_observation_length):\n",
    "    popular_recomends = BillRangeRecomender()\n",
    "    popular_recomends.fit(train_reviews[train_reviews['ts'].max()-train_reviews['ts'] <365*length])\n",
    "\n",
    "    target = popular_recomends.predict(X_val)\n",
    "\n",
    "    predictions = X_val.copy()\n",
    "    predictions['target'] = target\n",
    "    score = MNAP_20(y_val, predictions)\n",
    "    metric_per_period[i] = score\n",
    "    # print_score()\n",
    "plt.plot(data_observation_length, metric_per_period)\n",
    "data_observation_length[metric_per_period.argmax()], metric_per_period.max()"
   ],
   "outputs": [
    {
     "output_type": "execute_result",
     "data": {
      "text/plain": [
       "[<matplotlib.lines.Line2D at 0x7fd34a5efdc0>]"
      ]
     },
     "metadata": {},
     "execution_count": 460
    },
    {
     "output_type": "display_data",
     "data": {
      "image/png": "[encoded data removed]",
      "text/plain": [
       "<Figure size 432x288 with 1 Axes>"
      ]
     },
     "metadata": {
      "needs_background": "light"
     }
    }
   ],
   "metadata": {}
  },
  {
   "cell_type": "markdown",
   "source": [
    "### Смотрим метрику лучшей модели на холодных и горячих юзах\n",
    "На холодных юзах метрика выше, чем на горячих при разбивке по любому числу отзывов"
   ],
   "metadata": {}
  },
  {
   "cell_type": "code",
   "execution_count": 442,
   "source": [
    "popular_recomends = BillRangeRecomender()\n",
    "popular_recomends.fit(train_reviews)\n",
    "\n",
    "\n",
    "rare_test_users = test_user_freq[test_user_freq <= 10]\n",
    "rare_x_val = X_val.set_index('user_id').loc[rare_test_users.index]\n",
    "rare_y_val = y_val.set_index('user_id').loc[rare_test_users.index]\n",
    "target = popular_recomends.predict(rare_x_val)\n",
    "\n",
    "predictions = rare_x_val.copy()\n",
    "predictions['target'] = target\n",
    "\n",
    "print_score(MNAP_20(rare_y_val, predictions))"
   ],
   "outputs": [
    {
     "output_type": "stream",
     "name": "stdout",
     "text": [
      "Score: 5.41\n"
     ]
    }
   ],
   "metadata": {}
  },
  {
   "cell_type": "code",
   "execution_count": 472,
   "source": [
    "popular_recomends = MostVisitedTouristRecomender()\n",
    "popular_recomends.fit(train_reviews[train_reviews['ts'].max()-train_reviews['ts'] <365*0.5])\n",
    "\n",
    "frequent_test_users = test_user_freq[test_user_freq > 10]\n",
    "frequent_x_val = X_val.set_index('user_id').loc[frequent_test_users.index]\n",
    "frequent_y_val = y_val.set_index('user_id').loc[frequent_test_users.index]\n",
    "target = popular_recomends.predict(frequent_x_val)\n",
    "\n",
    "predictions = frequent_x_val.copy()\n",
    "predictions['target'] = target\n",
    "\n",
    "print_score(MNAP_20(frequent_y_val, predictions))"
   ],
   "outputs": [
    {
     "output_type": "stream",
     "name": "stdout",
     "text": [
      "Score: 5.50\n"
     ]
    }
   ],
   "metadata": {}
  },
  {
   "cell_type": "markdown",
   "source": [
    "## Классификаторы"
   ],
   "metadata": {}
  },
  {
   "cell_type": "markdown",
   "source": [
    "### Выбрать заведение с наибольшим числом отзывов среди туристов (ТОП)"
   ],
   "metadata": {}
  },
  {
   "cell_type": "code",
   "execution_count": 84,
   "source": [
    "class MostVisitedTouristRecomender(Recomender):\n",
    "    def fit(self, x_train, y_train=None, num_recomendations=NUM_RECOMENDATIONS):\n",
    "        self._num_recomendations = num_recomendations\n",
    "\n",
    "        msk_orgs = x_train[(x_train['rating'] >= 4) & (x_train['org_city'] == 'msk') & (x_train['user_city'] == 'spb')]['org_id']\n",
    "        msk_orgs = msk_orgs.value_counts().index[:self._num_recomendations].to_list()\n",
    "\n",
    "        spb_orgs = x_train[(x_train['rating'] >= 4) & (x_train['org_city'] == 'spb') & (x_train['user_city'] == 'msk')]['org_id']\n",
    "        spb_orgs = spb_orgs.value_counts().index[:self._num_recomendations].to_list()\n",
    "        \n",
    "        self._other_city_orgs = {'msk': spb_orgs, 'spb' : msk_orgs}\n",
    "    def select_best_orgs(self, review_orgs):\n",
    "        best_orgs = review_orgs.value_counts().index[:self._num_recomendations].to_list()\n",
    "        return best_orgs\n",
    "    def _predict_single(self, user):\n",
    "        recomended_orgs = self._other_city_orgs[user.city]\n",
    "        return recomended_orgs"
   ],
   "outputs": [],
   "metadata": {}
  },
  {
   "cell_type": "markdown",
   "source": [
    "#### Пока что этот метод дает самую высокую метрику"
   ],
   "metadata": {}
  },
  {
   "cell_type": "code",
   "execution_count": 85,
   "source": [
    "popular_recomends = MostVisitedTouristRecomender()\n",
    "popular_recomends.fit(train_reviews)\n",
    "\n",
    "target = popular_recomends.predict(X_val)\n",
    "\n",
    "predictions = X_val.copy()\n",
    "predictions['target'] = target\n",
    "\n",
    "print_score(MNAP_20(y_val, predictions))"
   ],
   "outputs": [
    {
     "output_type": "stream",
     "name": "stdout",
     "text": [
      "Score: 5.21\n"
     ]
    }
   ],
   "metadata": {}
  },
  {
   "cell_type": "markdown",
   "source": [
    "### Первый подход - случайная рекомендация, отработка пайплайна\n"
   ],
   "metadata": {}
  },
  {
   "cell_type": "code",
   "execution_count": 13,
   "source": [
    "class Recomender:\n",
    "    def __init__(self):\n",
    "        pass\n",
    "    \n",
    "    def predict(self, users_pred):\n",
    "        \"\"\"randomly predict places for every user in the DataFram\n",
    "\n",
    "        Args:\n",
    "            users_pred (pd.DataFrame): DataFrame of one column 'user_id'\n",
    "\n",
    "        Raises:\n",
    "            ValueError: the function accepts only DataFrames\n",
    "\n",
    "        Returns:\n",
    "            pd.DataFrame: DataFrame of 2 columns: 'user_id', 'target'\n",
    "        \"\"\"\n",
    "        if not isinstance(users_pred, pd.DataFrame):\n",
    "            raise ValueError('Classifier accepts only pd.DataFrame as x_pred, but got {:}'.format(str(type(users_pred))))\n",
    "        # val_target_pred = []\n",
    "        \n",
    "\n",
    "        val_target_pred = users_pred.apply(lambda x: self._predict_single(x), axis=1)\n",
    "        \n",
    "        val_target_pred.name = 'target'\n",
    "        val_target_pred = pd.DataFrame(val_target_pred)\n",
    "        return val_target_pred\n"
   ],
   "outputs": [],
   "metadata": {}
  },
  {
   "cell_type": "code",
   "execution_count": 14,
   "source": [
    "test_users = pd.read_csv(DATA_ROOT + '/test_users.csv')\n",
    "test_users_with_locations = test_users.merge(users, on='user_id', how='left')\n",
    "key_columns = ['user_id']\n",
    "\n",
    "train_reviews, test_reviews = train_val_split(reviews)\n",
    "\n",
    "X_val, y_val = extract_targets(test_reviews)\n",
    "X_val = X_val.merge(users, on='user_id', how='left')\n",
    "train_reviews.shape, test_reviews.shape"
   ],
   "outputs": [
    {
     "output_type": "execute_result",
     "data": {
      "text/plain": [
       "((2912668, 7), (15859, 7))"
      ]
     },
     "metadata": {},
     "execution_count": 14
    }
   ],
   "metadata": {}
  },
  {
   "cell_type": "code",
   "execution_count": 15,
   "source": [
    "class RandomRecomender(Recomender):\n",
    "    def fit(self, x_train, y_train=None, num_recomendations=NUM_RECOMENDATIONS):\n",
    "        org_ids = pd.DataFrame(x_train['org_id'])\n",
    "        _orgs = org_ids.merge(orgs, on='org_id', how='left')\n",
    "        self._num_recomendations = num_recomendations\n",
    "        self._other_city_orgs = {city:_orgs[_orgs.city != city] for city in _orgs.city.unique()}\n",
    "\n",
    "    def _predict_single(self, user):\n",
    "        recomended_orgs = np.random.choice(self._other_city_orgs[user.city]['org_id'], self._num_recomendations)\n",
    "        return recomended_orgs"
   ],
   "outputs": [],
   "metadata": {}
  },
  {
   "cell_type": "markdown",
   "source": [
    "### Random recomendations"
   ],
   "metadata": {}
  },
  {
   "cell_type": "code",
   "execution_count": 16,
   "source": [
    "num_users_process = -1\n",
    "random_recomendation = RandomRecomender()\n",
    "random_recomendation.fit(train_reviews)\n",
    "\n",
    "target = random_recomendation.predict(X_val)\n",
    "predictions = X_val.copy()\n",
    "predictions['target'] = target\n",
    "mnap_test = MNAP_20(y_val, predictions)\n",
    "\n",
    "print('MNAP@20 test = {:.3f}'.format(mnap_test*100))\n"
   ],
   "outputs": [
    {
     "output_type": "stream",
     "name": "stdout",
     "text": [
      "MNAP@20 test = 0.709\n"
     ]
    }
   ],
   "metadata": {}
  },
  {
   "cell_type": "markdown",
   "source": [
    "### Выбрать заведение с самым большим числом позитивных отзывов"
   ],
   "metadata": {}
  },
  {
   "cell_type": "code",
   "execution_count": 462,
   "source": [
    "class MostVisitedRecomender(Recomender):\n",
    "    def fit(self, x_train, y_train=None, num_recomendations=NUM_RECOMENDATIONS):\n",
    "        self._num_recomendations = num_recomendations\n",
    "        \n",
    "        msk_orgs = x_train[(x_train['rating'] >= 4) & (x_train['org_city'] == 'msk')]['org_id']\n",
    "        msk_orgs = msk_orgs.value_counts().index[:N].to_list()\n",
    "\n",
    "        spb_orgs = x_train[(x_train['rating'] >= 4) & (x_train['org_city'] == 'spb')]['org_id']\n",
    "        spb_orgs = spb_orgs.value_counts().index[:N].to_list()\n",
    "        \n",
    "        self._other_city_orgs = {'msk': spb_orgs, 'spb' : msk_orgs}\n",
    "    def select_best_orgs(self, review_orgs):\n",
    "        best_orgs = review_orgs.value_counts().index[:self._num_recomendations].to_list()\n",
    "        return best_orgs\n",
    "    def _predict_single(self, user):\n",
    "        recomended_orgs = self._other_city_orgs[user.city]\n",
    "        return recomended_orgs"
   ],
   "outputs": [],
   "metadata": {}
  },
  {
   "cell_type": "code",
   "execution_count": 466,
   "source": [
    "popular_recomends = MostVisitedRecomender()\n",
    "popular_recomends.fit(train_reviews)\n",
    "\n",
    "target = popular_recomends.predict(X_val)\n",
    "\n",
    "predictions = X_val.copy()\n",
    "predictions['target'] = target\n",
    "\n",
    "print_score(MNAP_20(y_val, predictions))\n"
   ],
   "outputs": [
    {
     "output_type": "stream",
     "name": "stdout",
     "text": [
      "Score: 3.18\n"
     ]
    }
   ],
   "metadata": {}
  },
  {
   "cell_type": "markdown",
   "source": [
    "### Классификатор, усредняющий ретинг заведения по среднему рейтингу в выборке: \n",
    "заведения с средним и низким числом голосов получают среднестатистический рейтинг, чем больше голосов - тем ближе рейтинг к собственному неустредненному рейтингу"
   ],
   "metadata": {}
  },
  {
   "cell_type": "code",
   "execution_count": 19,
   "source": [
    "class WeightedVoter:\n",
    "    def __init__(self, min_votes, average_vote):\n",
    "        self.min_votes = min_votes\n",
    "        self.averate_vote = average_vote\n",
    "    def __call__(self, row):\n",
    "        votes_sum = row.vote_count + self.min_votes\n",
    "        movie_part = row.vote_count * row.vote_average\n",
    "        average_part = self.min_votes * self.averate_vote\n",
    "        return  (movie_part + average_part) / votes_sum\n",
    "\n",
    "\n",
    "class WeightedPopularRecomender(Recomender):\n",
    "    rates_from_allowed = ['all']\n",
    "    def __init__(self, rates_from='all', quantile=0.95, num_recomendations=NUM_RECOMENDATIONS):\n",
    "        if rates_from not in self.rates_from_allowed:\n",
    "            raise ValueError('Ratings can be collected from {:}, but {} is passed'.format(self.rates_from_allowed, rates_from))\n",
    "        self.rates_from = rates_from\n",
    "        self._num_recomendations = num_recomendations\n",
    "        self.quantile = quantile\n",
    "    def calculate_weighted_rate(self, x_train, quantile_to_participate):\n",
    "        #     [] -> []\n",
    "        #     [(0,0)] -> []\n",
    "        #     \n",
    "        rate_col_name = 'weighted_rating'\n",
    "        movies_for_rate = x_train[['vote_count', 'vote_average']].copy().dropna()\n",
    "        mean_vote = 0\n",
    "        total_votes = movies_for_rate['vote_count'].sum()\n",
    "        if total_votes > 0:\n",
    "            mean_vote = np.sum(movies_for_rate['vote_count'] * movies_for_rate['vote_average']) / total_votes\n",
    "        \n",
    "        min_votes_to_participate = movies_for_rate['vote_count'].quantile(quantile_to_participate)\n",
    "        min_votes_to_participate = max(1, min_votes_to_participate)\n",
    "        weighted_voter = WeightedVoter(min_votes_to_participate, mean_vote)\n",
    "        featured_movies = movies_for_rate[movies_for_rate['vote_count'] >= min_votes_to_participate]\n",
    "        wr = featured_movies.apply(weighted_voter, axis=1)\n",
    "        wr.name = rate_col_name\n",
    "        qualified = x_train.merge(wr, how='right', left_index=True, right_index=True)\n",
    "        if len(wr) > 0:\n",
    "            qualified = qualified.sort_values(rate_col_name, ascending=False)        \n",
    "        return qualified\n",
    "    def select_topk_orgs(self, org_rates, topk):\n",
    "        topk_orgs = org_rates.sort_values('vote_count', ascending=False).iloc[:topk]\n",
    "        return topk_orgs\n",
    "    def fit(self, x_train:pd.DataFrame, y_train=None):\n",
    "        grpby_org_id = x_train.groupby('org_id')\n",
    "        vote_average = grpby_org_id['rating'].mean()\n",
    "        vote_average.name = 'vote_average'\n",
    "        vote_count = grpby_org_id['rating'].count()\n",
    "        vote_count.name = 'vote_count'\n",
    "        org_rates = orgs.merge(vote_count,on='org_id', how='inner').merge(vote_average,on='org_id')\n",
    "        _org_weighted_rates = self.calculate_weighted_rate(org_rates, self.quantile)\n",
    "        \n",
    "        self._other_city_orgs = {city: self.select_topk_orgs(_org_weighted_rates[_org_weighted_rates.city != city], self._num_recomendations) for city in _org_weighted_rates.city.unique()}\n",
    "        \n",
    "\n",
    "    def _predict_single(self, user):\n",
    "        different_city_orgs = self._other_city_orgs[user.city]\n",
    "        recomended_orgs = different_city_orgs['org_id'].to_list()\n",
    "        return recomended_orgs\n"
   ],
   "outputs": [],
   "metadata": {}
  },
  {
   "cell_type": "markdown",
   "source": [
    "#### По взвешенному рейтингу метрика не сильно увеличилась"
   ],
   "metadata": {}
  },
  {
   "cell_type": "code",
   "execution_count": 477,
   "source": [
    "popular_recomends = WeightedPopularRecomender(quantile=0.1)\n",
    "popular_recomends.fit(train_reviews)\n",
    "\n",
    "target = popular_recomends.predict(X_val)\n",
    "\n",
    "predictions = X_val.copy()\n",
    "predictions['target'] = target\n",
    "\n",
    "print_score(MNAP_20(y_val, predictions))"
   ],
   "outputs": [
    {
     "output_type": "stream",
     "name": "stdout",
     "text": [
      "Score: 3.04\n"
     ]
    }
   ],
   "metadata": {}
  },
  {
   "cell_type": "markdown",
   "source": [
    "### Выбрать рестораны похожие на те, что высоко оценил турист в своем родном городе\n",
    "Выбрать отзывы туриста с оценкой >= 4 в родном городе, у заведения взять его тип.\n",
    "Для каждого пользователя упорядочить каждый тип ресторана по количеству положительных отзывов.\n",
    "Мб что какой-то тип ресторанов для юза просто неизвестен.\n",
    "Получится многорукий бандит по типу ресторанов.\n",
    "\n",
    "\n"
   ],
   "metadata": {}
  },
  {
   "cell_type": "markdown",
   "source": [
    "### Классификатор, использующий для рекомендаций только отзывы с заданным диапазоном суммы чека"
   ],
   "metadata": {}
  },
  {
   "cell_type": "code",
   "execution_count": 112,
   "source": [
    "class BillRangeRecomender(Recomender):\n",
    "    def __init__(self, min_bill=500, max_bill=50000):\n",
    "        super().__init__()\n",
    "        self.min_bill = min_bill\n",
    "        self.max_bill = max_bill\n",
    "    def fit(self, x_train, y_train=None, num_recomendations=NUM_RECOMENDATIONS):\n",
    "        self._num_recomendations = num_recomendations\n",
    "        \n",
    "        x_train = self._fill_bill(x_train)\n",
    "        # print(x_train)\n",
    "        org_features = 'org_id'.split()\n",
    "\n",
    "        msk_orgs = x_train[(x_train['rating'] >= 4) & (x_train['org_city'] == 'msk') & (x_train['user_city'] == 'spb') & (x_train['average_bill'] >= self.min_bill)& (x_train['average_bill'] <= self.max_bill)]['org_id']\n",
    "        msk_orgs = msk_orgs.value_counts().index[:self._num_recomendations].to_list()\n",
    "\n",
    "        spb_orgs = x_train[(x_train['rating'] >= 4) & (x_train['org_city'] == 'spb') & (x_train['user_city'] == 'msk') & (x_train['average_bill'] >= self.min_bill)& (x_train['average_bill'] <= self.max_bill)]['org_id']\n",
    "        spb_orgs = spb_orgs.value_counts().index[:self._num_recomendations].to_list()\n",
    "        \n",
    "        self._other_city_orgs = {'msk': spb_orgs, 'spb' : msk_orgs}\n",
    "    def _fill_bill(self, x_train):\n",
    "        \n",
    "        reviews_at_home = x_train.merge(orgs, on='org_id', how='inner')[['user_id', 'average_bill']].dropna()\n",
    "        average_bill_for_user = reviews_at_home.groupby('user_id')['average_bill'].mean()\n",
    "        # self.user_money = average_bill_for_user.set_index('user_id')\n",
    "\n",
    "        visits_vs_user_cash = x_train.merge(average_bill_for_user, on='user_id', how='inner')\n",
    "        visits_vs_user_cash = visits_vs_user_cash.groupby('org_id')['average_bill'].mean()\n",
    "        \n",
    "        orgs_filled_bill = orgs.copy().merge(visits_vs_user_cash, on='org_id', how='left')\n",
    "        \n",
    "        completed_bill = orgs_filled_bill['average_bill_x'].where(~orgs_filled_bill.average_bill_x.isna(), orgs_filled_bill.average_bill_y)\n",
    "        \n",
    "        orgs_filled_bill['average_bill'] = completed_bill\n",
    "        return x_train.merge(orgs_filled_bill[['org_id', 'average_bill']], on='org_id', how='inner')\n",
    "\n",
    "    def select_best_orgs(self, review_orgs):\n",
    "        best_orgs = review_orgs.value_counts().index[:self._num_recomendations].to_list()\n",
    "        return best_orgs\n",
    "    def _predict_single(self, user):\n",
    "        recomended_orgs = self._other_city_orgs[user.city]\n",
    "        return recomended_orgs"
   ],
   "outputs": [],
   "metadata": {}
  },
  {
   "cell_type": "markdown",
   "source": [
    "### Классификатор, отдельно подбирающий рекомендации для холодных и горячих юзов. Холодным - общие топы, горячим - топ по любимым рубрикам\n",
    "Топ по рубрикам сделан криво - рекомендации идут только по одной рубрике, поэтому отклика мало"
   ],
   "metadata": {}
  },
  {
   "cell_type": "code",
   "execution_count": 393,
   "source": [
    "def fill_bill(reviews, orgs):\n",
    "    \n",
    "    user_bills = reviews.merge(orgs, on='org_id', how='inner')[['user_id', 'average_bill']].dropna()\n",
    "    average_bill_for_user = user_bills.groupby('user_id')['average_bill'].mean()\n",
    "    # self.user_money = average_bill_for_user.set_index('user_id')\n",
    "\n",
    "    visits_vs_user_cash = reviews.merge(average_bill_for_user, on='user_id', how='inner')\n",
    "    visits_vs_user_cash = visits_vs_user_cash.groupby('org_id')['average_bill'].mean()\n",
    "    \n",
    "    orgs_filled_bill = orgs.copy().merge(visits_vs_user_cash, on='org_id', how='left')\n",
    "    \n",
    "    completed_bill = orgs_filled_bill['average_bill_x'].where(~orgs_filled_bill.average_bill_x.isna(), orgs_filled_bill.average_bill_y)\n",
    "    orgs_filled_bill.drop('average_bill_x', axis=1)\n",
    "    orgs_filled_bill.drop('average_bill_y', axis=1)\n",
    "    orgs_filled_bill['average_bill'] = completed_bill\n",
    "    return orgs_filled_bill\n",
    "def fill_rubric_id(orgs):\n",
    "    RUBRIC_MAPPER\n",
    "    orgs_filled_bill['rubric_id'] = orgs_filled_bill.rubrics_id.apply(RUBRIC_MAPPER)\n",
    "def select_topk_by_index(index, index_level=0, topk=3):\n",
    "    prev_index = -1\n",
    "    topk_counter = 0\n",
    "    for index_pair in index:\n",
    "        index_value = index_pair[index_level]\n",
    "        if index_value != prev_index:\n",
    "            topk_counter = 1\n",
    "        else:\n",
    "            topk_counter += 1\n",
    "        if topk_counter <= topk:\n",
    "            yield index_pair\n",
    "        prev_index = index_value\n",
    "\n",
    "class SimilairTypeRecomender(Recomender):\n",
    "    def __init__(self, min_reviews_to_personalize=5):\n",
    "        super().__init__()\n",
    "        self.min_reviews_to_personalize = min_reviews_to_personalize\n",
    "\n",
    "    def fit(self, x_train, y_train=None, num_recomendations=NUM_RECOMENDATIONS):\n",
    "        self._num_recomendations = num_recomendations\n",
    "        \n",
    "        self.num_visits_at_home = self._count_visits(x_train)\n",
    "        self._x_train = x_train\n",
    "        self._best_by_rubric = {}\n",
    "        \n",
    "\n",
    "        msk_orgs = x_train[(x_train['rating'] >= 4) & (x_train['org_city'] == 'msk') & (x_train['user_city'] == 'spb')]\n",
    "        self._best_by_rubric['spb'] = self._get_best_by_rubric(msk_orgs, num_recomendations)\n",
    "        msk_orgs = msk_orgs['org_id'].value_counts().index[:self._num_recomendations].to_list()\n",
    "\n",
    "        spb_orgs = x_train[(x_train['rating'] >= 4) & (x_train['org_city'] == 'spb') & (x_train['user_city'] == 'msk')]\n",
    "        self._best_by_rubric['msk'] = self._get_best_by_rubric(spb_orgs, num_recomendations)\n",
    "        spb_orgs = spb_orgs['org_id'].value_counts().index[:self._num_recomendations].to_list()\n",
    "        \n",
    "        self._other_city_orgs = {'msk': spb_orgs, 'spb' : msk_orgs}\n",
    "        \n",
    "    def _count_visits(self, x_train):\n",
    "        reviews_at_home = x_train[(x_train['org_city'] == x_train['user_city'])]\n",
    "\n",
    "        reviews_at_home = reviews_at_home.groupby('user_id')['org_id'].count()\n",
    "\n",
    "        return reviews_at_home\n",
    "    def _get_best_by_rubric(self, x_train, topk):\n",
    "        reviews_and_rubric = x_train.merge(orgs_filled_bill[['org_id', 'rubric_id']], on='org_id', how='inner')\n",
    "        grouper = reviews_and_rubric.groupby(['rubric_id'])['org_id'].value_counts()\n",
    "        new_index = pd.MultiIndex.from_tuples(list(select_topk_by_index(grouper.index, 0, topk)), names=['rubric_id', 'org_id'])\n",
    "        most_frequent_orgs_by_rubric = orgs_filled_bill.set_index('org_id').loc[new_index.get_level_values(1)]\n",
    "        return most_frequent_orgs_by_rubric\n",
    "\n",
    "    def _predict_personal(self, user):\n",
    "\n",
    "        reviews_by_user = self._x_train[(self._x_train.user_id == user.user_id)]\n",
    "        reviews_by_user = reviews_by_user[reviews_by_user.rating >= 4]\n",
    "        reviews_by_user = reviews_by_user[reviews_by_user.org_city == user.city].merge(orgs_filled_bill, on='org_id', how='inner')\n",
    "        rubrics_by_rating = reviews_by_user['rubric_id'].value_counts()\n",
    "        if len(rubrics_by_rating.index > 0):\n",
    "            favorite_rubric = rubrics_by_rating.index[:3]\n",
    "            best_by_rubric_in_city = self._best_by_rubric[user.city]\n",
    "            personal_orgs = best_by_rubric_in_city[best_by_rubric_in_city.rubric_id.isin(favorite_rubric)]\n",
    "\n",
    "            return personal_orgs\n",
    "        else:\n",
    "            return self._other_city_orgs[user.city]\n",
    "\n",
    "    def _predict_single(self, user):\n",
    "        popular_orgs = self._other_city_orgs[user.city]\n",
    "        if user.user_id in self.num_visits_at_home.index and self.num_visits_at_home.loc[user.user_id] < self.min_reviews_to_personalize:\n",
    "            recomended_orgs = popular_orgs\n",
    "        else:\n",
    "           pass \n",
    "           recomended_orgs = self._predict_personal(user)\n",
    "           \n",
    "        return recomended_orgs"
   ],
   "outputs": [],
   "metadata": {}
  }
 ],
 "metadata": {
  "jupytercloud": {
   "vault": {
    "secrets": [
     {
      "name": "yt_secrets",
      "uuid": "sec-01fd5qjpw0xwwpv6t83wc41tp8"
     }
    ]
   }
  },
  "kernelspec": {
   "name": "python3",
   "display_name": "Python 3.8.11 64-bit ('recsys_cup': conda)"
  },
  "language_info": {
   "codemirror_mode": {
    "name": "ipython",
    "version": 3
   },
   "file_extension": ".py",
   "mimetype": "text/x-python",
   "name": "python",
   "nbconvert_exporter": "python",
   "pygments_lexer": "ipython3",
   "version": "3.8.11"
  },
  "interpreter": {
   "hash": "23056ff58913a7803f89dc92c4169c42cc8f99c45ed92b495e96d0baa940bb72"
  }
 },
 "nbformat": 4,
 "nbformat_minor": 5
}